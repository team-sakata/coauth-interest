{
 "cells": [
  {
   "cell_type": "code",
   "execution_count": 19,
   "metadata": {
    "execution": {
     "iopub.execute_input": "2024-06-19T13:33:13.726853Z",
     "iopub.status.busy": "2024-06-19T13:33:13.726188Z",
     "iopub.status.idle": "2024-06-19T13:33:13.780411Z",
     "shell.execute_reply": "2024-06-19T13:33:13.779349Z",
     "shell.execute_reply.started": "2024-06-19T13:33:13.726805Z"
    }
   },
   "outputs": [
    {
     "data": {
      "text/plain": [
       "'/disks/qnap3/users/23-miura/coauth-interest'"
      ]
     },
     "execution_count": 19,
     "metadata": {},
     "output_type": "execute_result"
    }
   ],
   "source": [
    "import random\n",
    "import numpy as np\n",
    "import pandas as pd\n",
    "import matplotlib.pyplot as plt\n",
    "import tqdm\n",
    "\n",
    "from dotenv import load_dotenv\n",
    "load_dotenv()\n",
    "\n",
    "import os\n",
    "data_path = os.getenv('DATA_PATH')\n",
    "result_path = os.getenv('RESULT_PATH')\n",
    "root = os.getenv('ROOT')\n",
    "\n",
    "os.chdir(root)\n",
    "os.getcwd()"
   ]
  },
  {
   "cell_type": "code",
   "execution_count": 41,
   "metadata": {
    "execution": {
     "iopub.execute_input": "2024-06-19T23:19:55.086653Z",
     "iopub.status.busy": "2024-06-19T23:19:55.085856Z",
     "iopub.status.idle": "2024-06-19T23:20:05.759084Z",
     "shell.execute_reply": "2024-06-19T23:20:05.758240Z",
     "shell.execute_reply.started": "2024-06-19T23:19:55.086600Z"
    }
   },
   "outputs": [
    {
     "name": "stderr",
     "output_type": "stream",
     "text": [
      "100%|████████████████████████████████████| 10000/10000 [00:10<00:00, 938.51it/s]\n"
     ]
    }
   ],
   "source": [
    "p = 0.98\n",
    "first_task_length = 5\n",
    "\n",
    "int_tasks = []\n",
    "def updatetask(agent):\n",
    "    l = max(agent.index.values)+1\n",
    "    agent[\"interval\"] += 1\n",
    "    newline = {\"priority\":random.random(),\\\n",
    "                \"tasks\":(random.random()<=p_interactive_task),\\\n",
    "                \"interval\":0}\n",
    "    return pd.concat([agent, pd.DataFrame(newline,index=[l]) ])\n",
    "\n",
    "for k in range(1):\n",
    "  agent = pd.DataFrame({\"priority\":[random.random() for i in range(first_task_length)],\\\n",
    "                         \"tasks\":[random.random()<=p_interactive_task for i in range(first_task_length)],\\\n",
    "                          \"interval\":[0 for i in range(first_task_length)]})\n",
    "  j = 0\n",
    "  for i in tqdm.tqdm(range(10000)):\n",
    "      if random.random()<=p:\n",
    "          task1 = agent[agent['priority']==agent['priority'].max()]\n",
    "      else:\n",
    "          task1 = agent.sample()\n",
    "      \n",
    "      agent = agent.drop(task1.index)\n",
    "      agent = updatetask(agent)\n",
    "      int_tasks.append(task1[\"interval\"].values[0])\n",
    "      j+=1"
   ]
  },
  {
   "cell_type": "code",
   "execution_count": 42,
   "metadata": {
    "execution": {
     "iopub.execute_input": "2024-06-19T23:20:10.269249Z",
     "iopub.status.busy": "2024-06-19T23:20:10.268623Z",
     "iopub.status.idle": "2024-06-19T23:20:10.277735Z",
     "shell.execute_reply": "2024-06-19T23:20:10.276607Z",
     "shell.execute_reply.started": "2024-06-19T23:20:10.269202Z"
    }
   },
   "outputs": [
    {
     "data": {
      "text/plain": [
       "10000"
      ]
     },
     "execution_count": 42,
     "metadata": {},
     "output_type": "execute_result"
    }
   ],
   "source": [
    "len(int_tasks)"
   ]
  },
  {
   "cell_type": "code",
   "execution_count": 45,
   "metadata": {
    "execution": {
     "iopub.execute_input": "2024-06-19T23:20:27.019364Z",
     "iopub.status.busy": "2024-06-19T23:20:27.018755Z",
     "iopub.status.idle": "2024-06-19T23:20:27.573275Z",
     "shell.execute_reply": "2024-06-19T23:20:27.572607Z",
     "shell.execute_reply.started": "2024-06-19T23:20:27.019316Z"
    }
   },
   "outputs": [
    {
     "name": "stderr",
     "output_type": "stream",
     "text": [
      "No artists with labels found to put in legend.  Note that artists whose label start with an underscore are ignored when legend() is called with no argument.\n",
      "No artists with labels found to put in legend.  Note that artists whose label start with an underscore are ignored when legend() is called with no argument.\n"
     ]
    },
    {
     "data": {
      "text/plain": [
       "(1, 500)"
      ]
     },
     "execution_count": 45,
     "metadata": {},
     "output_type": "execute_result"
    },
    {
     "data": {
      "image/png": "[encoded data removed]",
      "text/plain": [
       "<Figure size 640x480 with 1 Axes>"
      ]
     },
     "metadata": {},
     "output_type": "display_data"
    }
   ],
   "source": [
    "import pickle\n",
    "import source.package.util as util\n",
    "\n",
    "res = int_tasks\n",
    "with open(\"./source/appendix/barabasi2005_censored\", \"rb\") as fp:   # Unpickling\n",
    "   res2 = pickle.load(fp)\n",
    "\n",
    "# with open(\"\", \"wb\") as fp:   #Pickling\n",
    "#    pickle.dump(res, fp)\n",
    "util.plotter(res,count=\"ccdf\")\n",
    "util.plotter(res2,count=\"ccdf\",c=\"red\")\n",
    "\n",
    "plt.ylim(10**-4,1)\n",
    "plt.xlim(1,5*10**2)\n",
    "# plt.xscale(\"log\")\n",
    "# plt.yscale(\"log\")\n",
    "# plt.show()"
   ]
  },
  {
   "cell_type": "code",
   "execution_count": null,
   "metadata": {},
   "outputs": [],
   "source": []
  }
 ],
 "metadata": {
  "kernelspec": {
   "display_name": "Python 3 (ipykernel)",
   "language": "python",
   "name": "python3"
  },
  "language_info": {
   "codemirror_mode": {
    "name": "ipython",
    "version": 3
   },
   "file_extension": ".py",
   "mimetype": "text/x-python",
   "name": "python",
   "nbconvert_exporter": "python",
   "pygments_lexer": "ipython3",
   "version": "3.10.12"
  }
 },
 "nbformat": 4,
 "nbformat_minor": 4
}
