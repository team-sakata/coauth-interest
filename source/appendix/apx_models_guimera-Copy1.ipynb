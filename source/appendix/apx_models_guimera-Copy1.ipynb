{
 "cells": [
  {
   "cell_type": "markdown",
   "metadata": {},
   "source": [
    "# Coauthors sequence in Astrophysics"
   ]
  },
  {
   "cell_type": "code",
   "execution_count": 1,
   "metadata": {
    "execution": {
     "iopub.execute_input": "2024-06-24T07:21:26.908085Z",
     "iopub.status.busy": "2024-06-24T07:21:26.907479Z",
     "iopub.status.idle": "2024-06-24T07:21:26.924148Z",
     "shell.execute_reply": "2024-06-24T07:21:26.923443Z",
     "shell.execute_reply.started": "2024-06-24T07:21:26.908061Z"
    }
   },
   "outputs": [
    {
     "data": {
      "text/plain": [
       "'/disks/qnap3/users/23-miura/coauth-interest'"
      ]
     },
     "execution_count": 1,
     "metadata": {},
     "output_type": "execute_result"
    }
   ],
   "source": [
    "from dotenv import load_dotenv\n",
    "load_dotenv()\n",
    "\n",
    "import os\n",
    "data_path = os.getenv('DATA_PATH')\n",
    "result_path = os.getenv('RESULT_PATH')\n",
    "root = os.getenv('ROOT')\n",
    "\n",
    "os.chdir(root)\n",
    "os.getcwd()"
   ]
  },
  {
   "cell_type": "code",
   "execution_count": 2,
   "metadata": {
    "execution": {
     "iopub.execute_input": "2024-06-24T07:21:27.461019Z",
     "iopub.status.busy": "2024-06-24T07:21:27.460761Z",
     "iopub.status.idle": "2024-06-24T07:21:28.306847Z",
     "shell.execute_reply": "2024-06-24T07:21:28.305967Z",
     "shell.execute_reply.started": "2024-06-24T07:21:27.461000Z"
    }
   },
   "outputs": [],
   "source": [
    "import pandas as pd\n",
    "import numpy as np\n",
    "import matplotlib.pyplot  as plt\n",
    "import random\n",
    "\n",
    "from scipy.stats import expon\n",
    "from scipy.stats import pareto"
   ]
  },
  {
   "cell_type": "code",
   "execution_count": 3,
   "metadata": {
    "execution": {
     "iopub.execute_input": "2024-06-24T07:21:28.310472Z",
     "iopub.status.busy": "2024-06-24T07:21:28.310276Z",
     "iopub.status.idle": "2024-06-24T07:21:29.897160Z",
     "shell.execute_reply": "2024-06-24T07:21:29.896374Z",
     "shell.execute_reply.started": "2024-06-24T07:21:28.310449Z"
    }
   },
   "outputs": [
    {
     "name": "stdout",
     "output_type": "stream",
     "text": [
      "eid\n",
      "229021    1997\n",
      "266363    1998\n",
      "229022    1982\n",
      "229023    1989\n",
      "266364    1998\n",
      "Name: year, dtype: int64\n"
     ]
    }
   ],
   "source": [
    "year_df = pd.read_pickle(data_path + \"paper_detail/year.pickle\")\n",
    "print(year_df.head())"
   ]
  },
  {
   "cell_type": "code",
   "execution_count": 4,
   "metadata": {
    "execution": {
     "iopub.execute_input": "2024-06-24T07:21:32.618115Z",
     "iopub.status.busy": "2024-06-24T07:21:32.617853Z",
     "iopub.status.idle": "2024-06-24T07:21:32.906529Z",
     "shell.execute_reply": "2024-06-24T07:21:32.905920Z",
     "shell.execute_reply.started": "2024-06-24T07:21:32.618094Z"
    }
   },
   "outputs": [
    {
     "data": {
      "text/plain": [
       "2022    1.000000\n",
       "2021    1.000000\n",
       "2020    0.950966\n",
       "2019    0.905637\n",
       "2018    0.862085\n",
       "2017    0.820509\n",
       "2016    0.780593\n",
       "2015    0.741887\n",
       "2014    0.704471\n",
       "2013    0.667178\n",
       "2012    0.630400\n",
       "2011    0.595216\n",
       "2010    0.561784\n",
       "2009    0.530375\n",
       "2008    0.500543\n",
       "2007    0.472242\n",
       "2006    0.445214\n",
       "2005    0.419489\n",
       "2004    0.395056\n",
       "2003    0.373642\n",
       "2002    0.353694\n",
       "2001    0.334827\n",
       "2000    0.316833\n",
       "1999    0.300226\n",
       "1998    0.284473\n",
       "1997    0.268819\n",
       "1996    0.253361\n",
       "1995    0.238254\n",
       "1994    0.224933\n",
       "1993    0.212022\n",
       "1992    0.199567\n",
       "1991    0.187794\n",
       "1990    0.176015\n",
       "1989    0.164295\n",
       "1988    0.153191\n",
       "1987    0.142715\n",
       "1986    0.132556\n",
       "1985    0.122472\n",
       "1984    0.112199\n",
       "1983    0.102105\n",
       "1982    0.092562\n",
       "1981    0.083313\n",
       "1980    0.074610\n",
       "1979    0.066283\n",
       "1978    0.058116\n",
       "1977    0.050406\n",
       "1976    0.043081\n",
       "1975    0.036045\n",
       "1974    0.029027\n",
       "1973    0.022047\n",
       "1972    0.015565\n",
       "1971    0.010230\n",
       "1970    0.005029\n",
       "Name: year, dtype: float64"
      ]
     },
     "execution_count": 4,
     "metadata": {},
     "output_type": "execute_result"
    }
   ],
   "source": [
    "counts = year_df.value_counts(normalize=True).sort_index().cumsum()\n",
    "counts = counts.sort_index(ascending=False)\n",
    "counts"
   ]
  },
  {
   "cell_type": "code",
   "execution_count": 7,
   "metadata": {
    "execution": {
     "iopub.execute_input": "2024-06-24T07:22:41.512366Z",
     "iopub.status.busy": "2024-06-24T07:22:41.512150Z",
     "iopub.status.idle": "2024-06-24T07:22:48.029145Z",
     "shell.execute_reply": "2024-06-24T07:22:48.027635Z",
     "shell.execute_reply.started": "2024-06-24T07:22:41.512346Z"
    }
   },
   "outputs": [],
   "source": [
    "# Guimera 2006\n",
    "p=0.76\n",
    "q=0.82\n",
    "m=3\n",
    "year=[]\n",
    "\n",
    "C_HIS = {0:{1,2},1:{0,2},2:{0,1}}\n",
    "INC = {0,1,2}\n",
    "coauth = []\n",
    "\n",
    "def step(m):\n",
    "  max_id = len(INC)\n",
    "  id = set()\n",
    "  inc_his = [] # team of previously selected agent\n",
    "  \n",
    "  while len(id)<m:\n",
    "    # incumbents\n",
    "    if random.random()<p:\n",
    "      if random.random()<q and len(inc_his)!=0:\n",
    "        choice =random.choice(list(inc_his))\n",
    "      else:\n",
    "        choice =random.choice(list(INC))\n",
    "      id.add(choice)\n",
    "      inc_his = C_HIS[choice]\n",
    "    # newcomer\n",
    "    else:\n",
    "      inc_his = []\n",
    "      id.add(max_id)# ID of the newcomer\n",
    "      max_id += 1\n",
    "  \n",
    "  for i in id:\n",
    "    if C_HIS.get(i)!=None:\n",
    "      C_HIS[i].update(id - {i})\n",
    "    else:\n",
    "      C_HIS.update([(i,id - {i})])\n",
    "  INC.update(id)\n",
    "  return id\n",
    "\n",
    "for i in range(30552):\n",
    "  coauth.append(step(m))\n",
    "  index = counts[counts<(i/30552)].index\n",
    "  if len(index)>0:\n",
    "    year.append(index[0])\n",
    "  else:\n",
    "    year.append(1969)"
   ]
  },
  {
   "cell_type": "code",
   "execution_count": 8,
   "metadata": {
    "execution": {
     "iopub.execute_input": "2024-06-24T07:22:52.538234Z",
     "iopub.status.busy": "2024-06-24T07:22:52.537955Z",
     "iopub.status.idle": "2024-06-24T07:22:52.791155Z",
     "shell.execute_reply": "2024-06-24T07:22:52.790150Z",
     "shell.execute_reply.started": "2024-06-24T07:22:52.538210Z"
    }
   },
   "outputs": [
    {
     "data": {
      "text/plain": [
       "(array([ 154.,  159.,  163.,  198.,  213.,  215.,  215.,  223.,  236.,\n",
       "         250.,  254.,  266.,  282.,  292.,  308.,  314.,  308.,  311.,\n",
       "         320.,  339.,  358.,  360.,  360.,  380.,  395.,  407.,  461.,\n",
       "         472.,  479.,  481.,  507.,  550.,  577.,  609.,  654.,  747.,\n",
       "         786.,  825.,  865.,  912.,  959., 1022., 1074., 1124., 1139.,\n",
       "        1144., 1182., 1220., 1270., 1331., 1384., 1498.]),\n",
       " array([1969., 1970., 1971., 1972., 1973., 1974., 1975., 1976., 1977.,\n",
       "        1978., 1979., 1980., 1981., 1982., 1983., 1984., 1985., 1986.,\n",
       "        1987., 1988., 1989., 1990., 1991., 1992., 1993., 1994., 1995.,\n",
       "        1996., 1997., 1998., 1999., 2000., 2001., 2002., 2003., 2004.,\n",
       "        2005., 2006., 2007., 2008., 2009., 2010., 2011., 2012., 2013.,\n",
       "        2014., 2015., 2016., 2017., 2018., 2019., 2020., 2021.]),\n",
       " <BarContainer object of 52 artists>)"
      ]
     },
     "execution_count": 8,
     "metadata": {},
     "output_type": "execute_result"
    },
    {
     "data": {
      "image/png": "[encoded data removed]",
      "text/plain": [
       "<Figure size 640x480 with 1 Axes>"
      ]
     },
     "metadata": {},
     "output_type": "display_data"
    }
   ],
   "source": [
    "year[-1]\n",
    "len(set(year))\n",
    "plt.hist(year,bins=[i for i in range(1969,2022)])"
   ]
  },
  {
   "cell_type": "code",
   "execution_count": 9,
   "metadata": {
    "execution": {
     "iopub.execute_input": "2024-06-24T07:22:57.626608Z",
     "iopub.status.busy": "2024-06-24T07:22:57.626107Z",
     "iopub.status.idle": "2024-06-24T07:22:57.790449Z",
     "shell.execute_reply": "2024-06-24T07:22:57.789641Z",
     "shell.execute_reply.started": "2024-06-24T07:22:57.626584Z"
    }
   },
   "outputs": [
    {
     "data": {
      "text/html": [
       "<div>\n",
       "<style scoped>\n",
       "    .dataframe tbody tr th:only-of-type {\n",
       "        vertical-align: middle;\n",
       "    }\n",
       "\n",
       "    .dataframe tbody tr th {\n",
       "        vertical-align: top;\n",
       "    }\n",
       "\n",
       "    .dataframe thead th {\n",
       "        text-align: right;\n",
       "    }\n",
       "</style>\n",
       "<table border=\"1\" class=\"dataframe\">\n",
       "  <thead>\n",
       "    <tr style=\"text-align: right;\">\n",
       "      <th></th>\n",
       "      <th>authid</th>\n",
       "      <th>year</th>\n",
       "    </tr>\n",
       "    <tr>\n",
       "      <th>eid</th>\n",
       "      <th></th>\n",
       "      <th></th>\n",
       "    </tr>\n",
       "  </thead>\n",
       "  <tbody>\n",
       "    <tr>\n",
       "      <th>0</th>\n",
       "      <td>[0, 1, 2]</td>\n",
       "      <td>1969</td>\n",
       "    </tr>\n",
       "    <tr>\n",
       "      <th>1</th>\n",
       "      <td>[0, 1, 2]</td>\n",
       "      <td>1969</td>\n",
       "    </tr>\n",
       "    <tr>\n",
       "      <th>2</th>\n",
       "      <td>[2, 3, 4]</td>\n",
       "      <td>1969</td>\n",
       "    </tr>\n",
       "    <tr>\n",
       "      <th>3</th>\n",
       "      <td>[2, 3, 4]</td>\n",
       "      <td>1969</td>\n",
       "    </tr>\n",
       "    <tr>\n",
       "      <th>4</th>\n",
       "      <td>[0, 1, 3]</td>\n",
       "      <td>1969</td>\n",
       "    </tr>\n",
       "    <tr>\n",
       "      <th>...</th>\n",
       "      <td>...</td>\n",
       "      <td>...</td>\n",
       "    </tr>\n",
       "    <tr>\n",
       "      <th>30547</th>\n",
       "      <td>[2339, 13414, 534]</td>\n",
       "      <td>2020</td>\n",
       "    </tr>\n",
       "    <tr>\n",
       "      <th>30548</th>\n",
       "      <td>[7999, 16126, 16127]</td>\n",
       "      <td>2020</td>\n",
       "    </tr>\n",
       "    <tr>\n",
       "      <th>30549</th>\n",
       "      <td>[22383, 8876, 1583]</td>\n",
       "      <td>2020</td>\n",
       "    </tr>\n",
       "    <tr>\n",
       "      <th>30550</th>\n",
       "      <td>[22384, 16014, 16015]</td>\n",
       "      <td>2020</td>\n",
       "    </tr>\n",
       "    <tr>\n",
       "      <th>30551</th>\n",
       "      <td>[19291, 19292, 19293]</td>\n",
       "      <td>2020</td>\n",
       "    </tr>\n",
       "  </tbody>\n",
       "</table>\n",
       "<p>30552 rows × 2 columns</p>\n",
       "</div>"
      ],
      "text/plain": [
       "                      authid  year\n",
       "eid                               \n",
       "0                  [0, 1, 2]  1969\n",
       "1                  [0, 1, 2]  1969\n",
       "2                  [2, 3, 4]  1969\n",
       "3                  [2, 3, 4]  1969\n",
       "4                  [0, 1, 3]  1969\n",
       "...                      ...   ...\n",
       "30547     [2339, 13414, 534]  2020\n",
       "30548   [7999, 16126, 16127]  2020\n",
       "30549    [22383, 8876, 1583]  2020\n",
       "30550  [22384, 16014, 16015]  2020\n",
       "30551  [19291, 19292, 19293]  2020\n",
       "\n",
       "[30552 rows x 2 columns]"
      ]
     },
     "execution_count": 9,
     "metadata": {},
     "output_type": "execute_result"
    }
   ],
   "source": [
    "temp = pd.DataFrame(coauth).rename_axis(\"eid\")\n",
    "\n",
    "def combine_columns(row):\n",
    "    return row.values.tolist()\n",
    "\n",
    "# author_df = temp.iterrows.values.tolist()\n",
    "author_df = pd.DataFrame(temp.apply(combine_columns, axis=1).rename(\"authid\"))\n",
    "author_df = author_df.assign(year=year)\n",
    "author_df"
   ]
  },
  {
   "cell_type": "code",
   "execution_count": 10,
   "metadata": {
    "execution": {
     "iopub.execute_input": "2024-06-24T07:22:58.706305Z",
     "iopub.status.busy": "2024-06-24T07:22:58.705489Z",
     "iopub.status.idle": "2024-06-24T07:22:58.739531Z",
     "shell.execute_reply": "2024-06-24T07:22:58.738778Z",
     "shell.execute_reply.started": "2024-06-24T07:22:58.706280Z"
    }
   },
   "outputs": [
    {
     "data": {
      "text/html": [
       "<div>\n",
       "<style scoped>\n",
       "    .dataframe tbody tr th:only-of-type {\n",
       "        vertical-align: middle;\n",
       "    }\n",
       "\n",
       "    .dataframe tbody tr th {\n",
       "        vertical-align: top;\n",
       "    }\n",
       "\n",
       "    .dataframe thead th {\n",
       "        text-align: right;\n",
       "    }\n",
       "</style>\n",
       "<table border=\"1\" class=\"dataframe\">\n",
       "  <thead>\n",
       "    <tr style=\"text-align: right;\">\n",
       "      <th></th>\n",
       "      <th>eid</th>\n",
       "      <th>authid</th>\n",
       "      <th>year</th>\n",
       "    </tr>\n",
       "  </thead>\n",
       "  <tbody>\n",
       "    <tr>\n",
       "      <th>0</th>\n",
       "      <td>0</td>\n",
       "      <td>0</td>\n",
       "      <td>1969</td>\n",
       "    </tr>\n",
       "    <tr>\n",
       "      <th>1</th>\n",
       "      <td>0</td>\n",
       "      <td>1</td>\n",
       "      <td>1969</td>\n",
       "    </tr>\n",
       "    <tr>\n",
       "      <th>2</th>\n",
       "      <td>0</td>\n",
       "      <td>2</td>\n",
       "      <td>1969</td>\n",
       "    </tr>\n",
       "    <tr>\n",
       "      <th>3</th>\n",
       "      <td>1</td>\n",
       "      <td>0</td>\n",
       "      <td>1969</td>\n",
       "    </tr>\n",
       "    <tr>\n",
       "      <th>4</th>\n",
       "      <td>1</td>\n",
       "      <td>1</td>\n",
       "      <td>1969</td>\n",
       "    </tr>\n",
       "    <tr>\n",
       "      <th>...</th>\n",
       "      <td>...</td>\n",
       "      <td>...</td>\n",
       "      <td>...</td>\n",
       "    </tr>\n",
       "    <tr>\n",
       "      <th>91651</th>\n",
       "      <td>30550</td>\n",
       "      <td>16014</td>\n",
       "      <td>2020</td>\n",
       "    </tr>\n",
       "    <tr>\n",
       "      <th>91652</th>\n",
       "      <td>30550</td>\n",
       "      <td>16015</td>\n",
       "      <td>2020</td>\n",
       "    </tr>\n",
       "    <tr>\n",
       "      <th>91653</th>\n",
       "      <td>30551</td>\n",
       "      <td>19291</td>\n",
       "      <td>2020</td>\n",
       "    </tr>\n",
       "    <tr>\n",
       "      <th>91654</th>\n",
       "      <td>30551</td>\n",
       "      <td>19292</td>\n",
       "      <td>2020</td>\n",
       "    </tr>\n",
       "    <tr>\n",
       "      <th>91655</th>\n",
       "      <td>30551</td>\n",
       "      <td>19293</td>\n",
       "      <td>2020</td>\n",
       "    </tr>\n",
       "  </tbody>\n",
       "</table>\n",
       "<p>91656 rows × 3 columns</p>\n",
       "</div>"
      ],
      "text/plain": [
       "         eid authid  year\n",
       "0          0      0  1969\n",
       "1          0      1  1969\n",
       "2          0      2  1969\n",
       "3          1      0  1969\n",
       "4          1      1  1969\n",
       "...      ...    ...   ...\n",
       "91651  30550  16014  2020\n",
       "91652  30550  16015  2020\n",
       "91653  30551  19291  2020\n",
       "91654  30551  19292  2020\n",
       "91655  30551  19293  2020\n",
       "\n",
       "[91656 rows x 3 columns]"
      ]
     },
     "execution_count": 10,
     "metadata": {},
     "output_type": "execute_result"
    }
   ],
   "source": [
    "from source.package.util import plotter\n",
    "\n",
    "authors_valid = author_df.explode(\"authid\").dropna().reset_index()\n",
    "authors_valid\n",
    "# coauthorship_count = authors_valid[['eid', 'authid']].groupby(by='authid').count()\n",
    "# big_author = coauthorship_count.rename({\"eid\":\"n_papers\"},axis=1)\n",
    "# big_author\n",
    "# # plotter(big_author[\"n_papers\"], count=\"number\")"
   ]
  },
  {
   "cell_type": "code",
   "execution_count": 11,
   "metadata": {
    "execution": {
     "iopub.execute_input": "2024-06-24T07:23:01.605407Z",
     "iopub.status.busy": "2024-06-24T07:23:01.604944Z",
     "iopub.status.idle": "2024-06-24T07:23:01.611284Z",
     "shell.execute_reply": "2024-06-24T07:23:01.610552Z",
     "shell.execute_reply.started": "2024-06-24T07:23:01.605383Z"
    }
   },
   "outputs": [],
   "source": [
    "def coauthor_works(id):\n",
    "    works = authors_valid[\"eid\"][authors_valid['authid']==id]\n",
    "    \n",
    "    coauthors = authors_valid[authors_valid['eid'].isin(works)].query(f\"authid!={id}\")\n",
    "    df_seqyear_multi = coauthors.groupby(by='authid', group_keys=True).filter(lambda x: len(x) > 1)\n",
    "    if len(df_seqyear_multi)<1: return None\n",
    "    df_seqyear_delta = df_seqyear_multi.groupby(by='authid', group_keys=True)['year'] \\\n",
    "    .apply(lambda x: x - x.shift(1)) \\\n",
    "    .dropna().reset_index().rename(columns={\"level_1\":\"index\"})\n",
    "    \n",
    "    df_seqyear_delta[\"source_authid\"] = id\n",
    "    df_seqyear_delta = df_seqyear_delta.merge(coauthors[\"eid\"], left_on=\"index\", right_index=True, how=\"left\")\n",
    "    df_seqyear_delta[\"previous_work\"] = df_seqyear_delta.groupby(\"authid\").shift(1)[\"eid\"]\n",
    "  \n",
    "    df_seqyear_delta = df_seqyear_delta.dropna()\n",
    "    return df_seqyear_delta\n"
   ]
  },
  {
   "cell_type": "code",
   "execution_count": 12,
   "metadata": {
    "execution": {
     "iopub.execute_input": "2024-06-24T07:23:02.364832Z",
     "iopub.status.busy": "2024-06-24T07:23:02.364541Z",
     "iopub.status.idle": "2024-06-24T07:23:02.530053Z",
     "shell.execute_reply": "2024-06-24T07:23:02.529083Z",
     "shell.execute_reply.started": "2024-06-24T07:23:02.364816Z"
    }
   },
   "outputs": [
    {
     "data": {
      "text/plain": [
       "(array([ 462.,  477.,  489.,  594.,  639.,  645.,  645.,  669.,  708.,\n",
       "         750.,  762.,  798.,  846.,  876.,  924.,  942.,  924.,  933.,\n",
       "         960., 1017., 1074., 1080., 1080., 1140., 1185., 1221., 1383.,\n",
       "        1416., 1437., 1443., 1521., 1650., 1731., 1827., 1962., 2241.,\n",
       "        2358., 2475., 2595., 2736., 2877., 3066., 3222., 3372., 3417.,\n",
       "        3432., 3546., 3660., 3810., 3993., 4152., 4494.]),\n",
       " array([1969., 1970., 1971., 1972., 1973., 1974., 1975., 1976., 1977.,\n",
       "        1978., 1979., 1980., 1981., 1982., 1983., 1984., 1985., 1986.,\n",
       "        1987., 1988., 1989., 1990., 1991., 1992., 1993., 1994., 1995.,\n",
       "        1996., 1997., 1998., 1999., 2000., 2001., 2002., 2003., 2004.,\n",
       "        2005., 2006., 2007., 2008., 2009., 2010., 2011., 2012., 2013.,\n",
       "        2014., 2015., 2016., 2017., 2018., 2019., 2020., 2021.]),\n",
       " <BarContainer object of 52 artists>)"
      ]
     },
     "execution_count": 12,
     "metadata": {},
     "output_type": "execute_result"
    },
    {
     "data": {
      "image/png": "[encoded data removed]",
      "text/plain": [
       "<Figure size 640x480 with 1 Axes>"
      ]
     },
     "metadata": {},
     "output_type": "display_data"
    }
   ],
   "source": [
    "plotter(authors_valid.groupby(\"eid\")[\"authid\"].nunique())\n",
    "plt.show()\n",
    "\n",
    "plt.hist(authors_valid[\"year\"],bins=[i for i in range(1969,2022)])"
   ]
  },
  {
   "cell_type": "code",
   "execution_count": 13,
   "metadata": {
    "execution": {
     "iopub.execute_input": "2024-06-24T07:23:11.259135Z",
     "iopub.status.busy": "2024-06-24T07:23:11.258471Z",
     "iopub.status.idle": "2024-06-24T07:23:53.596983Z",
     "shell.execute_reply": "2024-06-24T07:23:53.595884Z",
     "shell.execute_reply.started": "2024-06-24T07:23:11.259108Z"
    }
   },
   "outputs": [
    {
     "data": {
      "text/html": [
       "<div>\n",
       "<style scoped>\n",
       "    .dataframe tbody tr th:only-of-type {\n",
       "        vertical-align: middle;\n",
       "    }\n",
       "\n",
       "    .dataframe tbody tr th {\n",
       "        vertical-align: top;\n",
       "    }\n",
       "\n",
       "    .dataframe thead th {\n",
       "        text-align: right;\n",
       "    }\n",
       "</style>\n",
       "<table border=\"1\" class=\"dataframe\">\n",
       "  <thead>\n",
       "    <tr style=\"text-align: right;\">\n",
       "      <th></th>\n",
       "      <th>authid</th>\n",
       "      <th>index</th>\n",
       "      <th>year</th>\n",
       "      <th>source_authid</th>\n",
       "      <th>eid</th>\n",
       "      <th>previous_work</th>\n",
       "    </tr>\n",
       "  </thead>\n",
       "  <tbody>\n",
       "    <tr>\n",
       "      <th>1</th>\n",
       "      <td>354</td>\n",
       "      <td>34547</td>\n",
       "      <td>4.0</td>\n",
       "      <td>2968</td>\n",
       "      <td>11515</td>\n",
       "      <td>9390.0</td>\n",
       "    </tr>\n",
       "    <tr>\n",
       "      <th>2</th>\n",
       "      <td>766</td>\n",
       "      <td>58337</td>\n",
       "      <td>30.0</td>\n",
       "      <td>2057</td>\n",
       "      <td>19445</td>\n",
       "      <td>2951.0</td>\n",
       "    </tr>\n",
       "    <tr>\n",
       "      <th>3</th>\n",
       "      <td>766</td>\n",
       "      <td>69710</td>\n",
       "      <td>3.0</td>\n",
       "      <td>2057</td>\n",
       "      <td>23236</td>\n",
       "      <td>19445.0</td>\n",
       "    </tr>\n",
       "    <tr>\n",
       "      <th>8</th>\n",
       "      <td>9540</td>\n",
       "      <td>90874</td>\n",
       "      <td>14.0</td>\n",
       "      <td>2057</td>\n",
       "      <td>30291</td>\n",
       "      <td>13635.0</td>\n",
       "    </tr>\n",
       "    <tr>\n",
       "      <th>1</th>\n",
       "      <td>290</td>\n",
       "      <td>24223</td>\n",
       "      <td>13.0</td>\n",
       "      <td>553</td>\n",
       "      <td>8074</td>\n",
       "      <td>3269.0</td>\n",
       "    </tr>\n",
       "    <tr>\n",
       "      <th>...</th>\n",
       "      <td>...</td>\n",
       "      <td>...</td>\n",
       "      <td>...</td>\n",
       "      <td>...</td>\n",
       "      <td>...</td>\n",
       "      <td>...</td>\n",
       "    </tr>\n",
       "    <tr>\n",
       "      <th>1</th>\n",
       "      <td>1968</td>\n",
       "      <td>31536</td>\n",
       "      <td>16.0</td>\n",
       "      <td>2418</td>\n",
       "      <td>10512</td>\n",
       "      <td>3968.0</td>\n",
       "    </tr>\n",
       "    <tr>\n",
       "      <th>3</th>\n",
       "      <td>2173</td>\n",
       "      <td>14779</td>\n",
       "      <td>4.0</td>\n",
       "      <td>2418</td>\n",
       "      <td>4926</td>\n",
       "      <td>3437.0</td>\n",
       "    </tr>\n",
       "    <tr>\n",
       "      <th>1</th>\n",
       "      <td>917</td>\n",
       "      <td>51196</td>\n",
       "      <td>4.0</td>\n",
       "      <td>2711</td>\n",
       "      <td>17065</td>\n",
       "      <td>13307.0</td>\n",
       "    </tr>\n",
       "    <tr>\n",
       "      <th>3</th>\n",
       "      <td>1149</td>\n",
       "      <td>15532</td>\n",
       "      <td>4.0</td>\n",
       "      <td>2711</td>\n",
       "      <td>5177</td>\n",
       "      <td>3941.0</td>\n",
       "    </tr>\n",
       "    <tr>\n",
       "      <th>8</th>\n",
       "      <td>2673</td>\n",
       "      <td>36841</td>\n",
       "      <td>2.0</td>\n",
       "      <td>2711</td>\n",
       "      <td>12280</td>\n",
       "      <td>11165.0</td>\n",
       "    </tr>\n",
       "  </tbody>\n",
       "</table>\n",
       "<p>4068 rows × 6 columns</p>\n",
       "</div>"
      ],
      "text/plain": [
       "    authid  index  year  source_authid    eid  previous_work\n",
       "1      354  34547   4.0           2968  11515         9390.0\n",
       "2      766  58337  30.0           2057  19445         2951.0\n",
       "3      766  69710   3.0           2057  23236        19445.0\n",
       "8     9540  90874  14.0           2057  30291        13635.0\n",
       "1      290  24223  13.0            553   8074         3269.0\n",
       "..     ...    ...   ...            ...    ...            ...\n",
       "1     1968  31536  16.0           2418  10512         3968.0\n",
       "3     2173  14779   4.0           2418   4926         3437.0\n",
       "1      917  51196   4.0           2711  17065        13307.0\n",
       "3     1149  15532   4.0           2711   5177         3941.0\n",
       "8     2673  36841   2.0           2711  12280        11165.0\n",
       "\n",
       "[4068 rows x 6 columns]"
      ]
     },
     "execution_count": 13,
     "metadata": {},
     "output_type": "execute_result"
    }
   ],
   "source": [
    "res = pd.DataFrame()\n",
    "auth_list = [i for i in range(int(authors_valid[\"authid\"].max()))]\n",
    "auth_list = random.sample(auth_list,len(auth_list))\n",
    "\n",
    "for i in range(5000):\n",
    "  res = pd.concat([res,coauthor_works(auth_list[i])],axis=\"index\")\n",
    "res"
   ]
  },
  {
   "cell_type": "code",
   "execution_count": 14,
   "metadata": {
    "execution": {
     "iopub.execute_input": "2024-06-24T07:23:53.598937Z",
     "iopub.status.busy": "2024-06-24T07:23:53.598746Z",
     "iopub.status.idle": "2024-06-24T07:23:53.607507Z",
     "shell.execute_reply": "2024-06-24T07:23:53.606697Z",
     "shell.execute_reply.started": "2024-06-24T07:23:53.598918Z"
    }
   },
   "outputs": [],
   "source": [
    "res.to_pickle(result_path + \"guimera.pickle\")"
   ]
  },
  {
   "cell_type": "code",
   "execution_count": 15,
   "metadata": {
    "execution": {
     "iopub.execute_input": "2024-06-24T07:23:53.616533Z",
     "iopub.status.busy": "2024-06-24T07:23:53.616355Z",
     "iopub.status.idle": "2024-06-24T07:23:54.140006Z",
     "shell.execute_reply": "2024-06-24T07:23:54.139236Z",
     "shell.execute_reply.started": "2024-06-24T07:23:53.616517Z"
    }
   },
   "outputs": [
    {
     "name": "stderr",
     "output_type": "stream",
     "text": [
      "No artists with labels found to put in legend.  Note that artists whose label start with an underscore are ignored when legend() is called with no argument.\n"
     ]
    },
    {
     "name": "stdout",
     "output_type": "stream",
     "text": [
      "1.447748407382948\n",
      "1.0\n",
      "0.220143148642293\n"
     ]
    },
    {
     "name": "stderr",
     "output_type": "stream",
     "text": [
      "/disks/qnap3/users/23-miura/coauth-interest/source/package/util.py:48: UserWarning: Attempt to set non-positive xlim on a log-scaled axis will be ignored.\n",
      "  plt.xlim(left, right)\n"
     ]
    },
    {
     "data": {
      "text/plain": [
       "(2e-05, 2)"
      ]
     },
     "execution_count": 15,
     "metadata": {},
     "output_type": "execute_result"
    },
    {
     "data": {
      "image/png": "[encoded data removed]",
      "text/plain": [
       "<Figure size 640x480 with 1 Axes>"
      ]
     },
     "metadata": {},
     "output_type": "display_data"
    }
   ],
   "source": [
    "import powerlaw\n",
    "\n",
    "plotter(res[\"year\"],count=\"probability\", c=\"orange\")\n",
    "powerlaw.plot_pdf(res[res[\"year\"]>0][\"year\"], c=\"orange\")\n",
    "fit = powerlaw.Fit(res[(res[\"year\"]>0) * (res[\"year\"]<20)][\"year\"], xmin=1, discrete=True)\n",
    "print(fit.alpha)\n",
    "print(fit.xmin)\n",
    "print(fit.D)\n",
    "plt.ylim(2*10**(-5),2)"
   ]
  },
  {
   "cell_type": "code",
   "execution_count": 271,
   "metadata": {
    "execution": {
     "iopub.execute_input": "2024-06-20T01:23:31.275823Z",
     "iopub.status.busy": "2024-06-20T01:23:31.275656Z",
     "iopub.status.idle": "2024-06-20T01:23:31.761914Z",
     "shell.execute_reply": "2024-06-20T01:23:31.761127Z",
     "shell.execute_reply.started": "2024-06-20T01:23:31.275808Z"
    }
   },
   "outputs": [
    {
     "name": "stderr",
     "output_type": "stream",
     "text": [
      "No artists with labels found to put in legend.  Note that artists whose label start with an underscore are ignored when legend() is called with no argument.\n",
      "/disks/qnap3/users/23-miura/coauth-interest/source/package/util.py:49: UserWarning: Attempt to set non-positive ylim on a log-scaled axis will be ignored.\n",
      "  plt.ylim(bottom, top)\n"
     ]
    },
    {
     "data": {
      "text/plain": [
       "(array([10364,  6052,  3977,  2756,  1869,  1460,   998,   769,   596,\n",
       "          467,   385,   331,   245,   220,   165,   132,   126,    89,\n",
       "           81,    72,    71,    45,    49,    41,    41,    28,    21,\n",
       "           21,    19,    23,    15,     7,     9,    11,    12,    16,\n",
       "            7,    11,     9,     6,     0,     8,     6,     0,     2,\n",
       "            6,     4,     2,     2,     4,     7,     3,     1,     5,\n",
       "            1,     1,     4,     2,     0,     1,     1,     0,     1,\n",
       "            0,     3,     1,     1,     0,     1,     2,     0,     1,\n",
       "            0,     0,     1,     0,     0,     1,     1,     0,     0,\n",
       "            1,     0,     0,     0,     0,     0,     0,     0,     0,\n",
       "            0,     0,     0,     0,     0,     0,     0,     0,     0,\n",
       "            0,     0,     0,     0,     0,     1,     0,     0,     0,\n",
       "            0,     0,     0,     0,     0,     0,     0,     0]),\n",
       " array([  1.5,   2.5,   3.5,   4.5,   5.5,   6.5,   7.5,   8.5,   9.5,\n",
       "         10.5,  11.5,  12.5,  13.5,  14.5,  15.5,  16.5,  17.5,  18.5,\n",
       "         19.5,  20.5,  21.5,  22.5,  23.5,  24.5,  25.5,  26.5,  27.5,\n",
       "         28.5,  29.5,  30.5,  31.5,  32.5,  33.5,  34.5,  35.5,  36.5,\n",
       "         37.5,  38.5,  39.5,  40.5,  41.5,  42.5,  43.5,  44.5,  45.5,\n",
       "         46.5,  47.5,  48.5,  49.5,  50.5,  51.5,  52.5,  53.5,  54.5,\n",
       "         55.5,  56.5,  57.5,  58.5,  59.5,  60.5,  61.5,  62.5,  63.5,\n",
       "         64.5,  65.5,  66.5,  67.5,  68.5,  69.5,  70.5,  71.5,  72.5,\n",
       "         73.5,  74.5,  75.5,  76.5,  77.5,  78.5,  79.5,  80.5,  81.5,\n",
       "         82.5,  83.5,  84.5,  85.5,  86.5,  87.5,  88.5,  89.5,  90.5,\n",
       "         91.5,  92.5,  93.5,  94.5,  95.5,  96.5,  97.5,  98.5,  99.5,\n",
       "        100.5, 101.5, 102.5, 103.5, 104.5, 105.5, 106.5, 107.5, 108.5,\n",
       "        109.5, 110.5, 111.5, 112.5, 113.5, 114.5, 115.5, 116.5, 117.5]))"
      ]
     },
     "execution_count": 271,
     "metadata": {},
     "output_type": "execute_result"
    },
    {
     "data": {
      "image/png": "[encoded data removed]",
      "text/plain": [
       "<Figure size 640x480 with 1 Axes>"
      ]
     },
     "metadata": {},
     "output_type": "display_data"
    }
   ],
   "source": [
    "plotter(authors_valid.groupby(\"authid\")[\"eid\"].nunique(),count=\"number\")"
   ]
  },
  {
   "cell_type": "code",
   "execution_count": 156,
   "metadata": {
    "execution": {
     "iopub.execute_input": "2024-06-19T06:45:11.848825Z",
     "iopub.status.busy": "2024-06-19T06:45:11.847734Z",
     "iopub.status.idle": "2024-06-19T06:45:12.307805Z",
     "shell.execute_reply": "2024-06-19T06:45:12.307231Z",
     "shell.execute_reply.started": "2024-06-19T06:45:11.848776Z"
    }
   },
   "outputs": [
    {
     "name": "stdout",
     "output_type": "stream",
     "text": [
      "435499\n"
     ]
    }
   ],
   "source": [
    "import networkx as nx\n",
    "import itertools\n",
    "\n",
    "# 例のセット\n",
    "pairs = []\n",
    "# セット内の全てのペアを取り出す\n",
    "for c in coauth:\n",
    "  pairs += list(itertools.combinations(c, 2))\n",
    "\n",
    "G = nx.Graph()\n",
    "\n",
    "print(len(pairs))\n",
    "G.add_edges_from(pairs)\n",
    "\n",
    "# nx.draw(G, node_size=5)"
   ]
  },
  {
   "cell_type": "code",
   "execution_count": 157,
   "metadata": {
    "execution": {
     "iopub.execute_input": "2024-06-19T06:45:12.309170Z",
     "iopub.status.busy": "2024-06-19T06:45:12.308803Z",
     "iopub.status.idle": "2024-06-19T06:45:12.364223Z",
     "shell.execute_reply": "2024-06-19T06:45:12.363557Z",
     "shell.execute_reply.started": "2024-06-19T06:45:12.309147Z"
    },
    "scrolled": true
   },
   "outputs": [
    {
     "data": {
      "text/plain": [
       "(31409, 32004, 0.981408573928259)"
      ]
     },
     "execution_count": 157,
     "metadata": {},
     "output_type": "execute_result"
    }
   ],
   "source": [
    "connected_components = max(nx.connected_components(G),key=len)\n",
    "len(connected_components), len(G.nodes), len(connected_components)/len(G.nodes)"
   ]
  },
  {
   "cell_type": "code",
   "execution_count": 159,
   "metadata": {
    "execution": {
     "iopub.execute_input": "2024-06-19T06:47:49.724271Z",
     "iopub.status.busy": "2024-06-19T06:47:49.723622Z",
     "iopub.status.idle": "2024-06-19T06:48:07.185492Z",
     "shell.execute_reply": "2024-06-19T06:48:07.184678Z",
     "shell.execute_reply.started": "2024-06-19T06:47:49.724223Z"
    }
   },
   "outputs": [
    {
     "data": {
      "text/html": [
       "<div>\n",
       "<style scoped>\n",
       "    .dataframe tbody tr th:only-of-type {\n",
       "        vertical-align: middle;\n",
       "    }\n",
       "\n",
       "    .dataframe tbody tr th {\n",
       "        vertical-align: top;\n",
       "    }\n",
       "\n",
       "    .dataframe thead th {\n",
       "        text-align: right;\n",
       "    }\n",
       "</style>\n",
       "<table border=\"1\" class=\"dataframe\">\n",
       "  <thead>\n",
       "    <tr style=\"text-align: right;\">\n",
       "      <th></th>\n",
       "      <th>eid</th>\n",
       "      <th>authid</th>\n",
       "      <th>year</th>\n",
       "    </tr>\n",
       "  </thead>\n",
       "  <tbody>\n",
       "    <tr>\n",
       "      <th>0</th>\n",
       "      <td>85015254545</td>\n",
       "      <td>57206132735</td>\n",
       "      <td>2017</td>\n",
       "    </tr>\n",
       "    <tr>\n",
       "      <th>1</th>\n",
       "      <td>85015254545</td>\n",
       "      <td>48861896500</td>\n",
       "      <td>2017</td>\n",
       "    </tr>\n",
       "    <tr>\n",
       "      <th>2</th>\n",
       "      <td>85015254545</td>\n",
       "      <td>56888819000</td>\n",
       "      <td>2017</td>\n",
       "    </tr>\n",
       "    <tr>\n",
       "      <th>3</th>\n",
       "      <td>85015254545</td>\n",
       "      <td>7101811799</td>\n",
       "      <td>2017</td>\n",
       "    </tr>\n",
       "    <tr>\n",
       "      <th>4</th>\n",
       "      <td>85015329868</td>\n",
       "      <td>7402965220</td>\n",
       "      <td>2015</td>\n",
       "    </tr>\n",
       "  </tbody>\n",
       "</table>\n",
       "</div>"
      ],
      "text/plain": [
       "           eid       authid  year\n",
       "0  85015254545  57206132735  2017\n",
       "1  85015254545  48861896500  2017\n",
       "2  85015254545  56888819000  2017\n",
       "3  85015254545   7101811799  2017\n",
       "4  85015329868   7402965220  2015"
      ]
     },
     "execution_count": 159,
     "metadata": {},
     "output_type": "execute_result"
    }
   ],
   "source": [
    "coauth_history_As = pd.merge(authors_valid_As[[\"eid\",\"authid\"]],year_df,on=\"eid\",how=\"left\")\n",
    "coauth_history_As.head()"
   ]
  },
  {
   "cell_type": "code",
   "execution_count": 166,
   "metadata": {
    "execution": {
     "iopub.execute_input": "2024-06-19T06:50:43.892238Z",
     "iopub.status.busy": "2024-06-19T06:50:43.891799Z",
     "iopub.status.idle": "2024-06-19T06:51:37.232991Z",
     "shell.execute_reply": "2024-06-19T06:51:37.232305Z",
     "shell.execute_reply.started": "2024-06-19T06:50:43.892213Z"
    }
   },
   "outputs": [
    {
     "data": {
      "text/plain": [
       "[(7005148342, 7003508994), (6701832481, 6701835921), (6701832481, 16490681300)]"
      ]
     },
     "execution_count": 166,
     "metadata": {},
     "output_type": "execute_result"
    }
   ],
   "source": [
    "groups = authors_valid_As[[\"eid\",\"authid\"]].groupby(\"eid\")\n",
    "pairs_As = []\n",
    "  \n",
    "for g in groups:\n",
    "  pairs_As += list(itertools.combinations(g[1][\"authid\"].values, 2))\n",
    "pairs_As[:3]"
   ]
  },
  {
   "cell_type": "code",
   "execution_count": 168,
   "metadata": {
    "execution": {
     "iopub.execute_input": "2024-06-19T06:52:20.956238Z",
     "iopub.status.busy": "2024-06-19T06:52:20.955582Z",
     "iopub.status.idle": "2024-06-19T06:52:48.569599Z",
     "shell.execute_reply": "2024-06-19T06:52:48.568898Z",
     "shell.execute_reply.started": "2024-06-19T06:52:20.956193Z"
    }
   },
   "outputs": [
    {
     "name": "stdout",
     "output_type": "stream",
     "text": [
      "17851724\n"
     ]
    },
    {
     "data": {
      "text/plain": [
       "(559403, 610586, 0.916173970579083)"
      ]
     },
     "execution_count": 168,
     "metadata": {},
     "output_type": "execute_result"
    }
   ],
   "source": [
    "G_As = nx.Graph()\n",
    "\n",
    "print(len(pairs_As))\n",
    "G_As.add_edges_from(pairs_As)\n",
    "\n",
    "connected_components = max(nx.connected_components(G_As),key=len)\n",
    "len(connected_components), len(G_As.nodes), len(connected_components)/len(G_As.nodes)"
   ]
  },
  {
   "cell_type": "code",
   "execution_count": 185,
   "metadata": {
    "execution": {
     "iopub.execute_input": "2024-06-19T07:28:29.775899Z",
     "iopub.status.busy": "2024-06-19T07:28:29.775212Z",
     "iopub.status.idle": "2024-06-19T07:28:31.893968Z",
     "shell.execute_reply": "2024-06-19T07:28:31.893223Z",
     "shell.execute_reply.started": "2024-06-19T07:28:29.775849Z"
    }
   },
   "outputs": [
    {
     "data": {
      "image/png": "[encoded data removed]",
      "text/plain": [
       "<Figure size 640x480 with 1 Axes>"
      ]
     },
     "metadata": {},
     "output_type": "display_data"
    }
   ],
   "source": [
    "plt.hist([G.degree(n) for n in G.nodes()],density=True, bins=np.linspace(1,300,300),histtype=\"step\")\n",
    "plt.hist([G_As.degree(n) for n in G_As.nodes()],density=True, bins=np.linspace(1,300,300),histtype=\"step\",color=\"red\")\n",
    "\n",
    "plt.yscale(\"log\")\n",
    "plt.xscale(\"log\")"
   ]
  },
  {
   "cell_type": "code",
   "execution_count": null,
   "metadata": {},
   "outputs": [],
   "source": []
  }
 ],
 "metadata": {
  "kernelspec": {
   "display_name": "Python 3 (ipykernel)",
   "language": "python",
   "name": "python3"
  },
  "language_info": {
   "codemirror_mode": {
    "name": "ipython",
    "version": 3
   },
   "file_extension": ".py",
   "mimetype": "text/x-python",
   "name": "python",
   "nbconvert_exporter": "python",
   "pygments_lexer": "ipython3",
   "version": "3.10.12"
  }
 },
 "nbformat": 4,
 "nbformat_minor": 4
}
