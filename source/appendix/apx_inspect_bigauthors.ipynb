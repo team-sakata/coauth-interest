{
 "cells": [
  {
   "cell_type": "code",
   "execution_count": null,
   "metadata": {},
   "outputs": [],
   "source": [
    "from dotenv import load_dotenv\n",
    "load_dotenv()\n",
    "\n",
    "import os\n",
    "\n",
    "root_path = os.getenv('ROOT')\n",
    "data_path = os.getenv('DATA_PATH')\n",
    "result_path = os.getenv('RESULT_PATH')\n",
    "os.chdir(root_path+\"/source\")"
   ]
  },
  {
   "cell_type": "code",
   "execution_count": null,
   "metadata": {},
   "outputs": [],
   "source": [
    "import pandas as pd\n",
    "import numpy as np\n",
    "import matplotlib.pyplot  as plt\n",
    "import random\n",
    "from scipy.stats import expon\n",
    "from scipy.stats import pareto\n",
    "import os\n",
    "\n",
    "from util import plotter"
   ]
  },
  {
   "cell_type": "code",
   "execution_count": null,
   "metadata": {},
   "outputs": [],
   "source": [
    "big_author_names = pd.merge(big_author.head(20),unique_author_df, how=\"left\", on=\"authid\").drop(labels=[\"eid\",\"authseq\"],axis=\"columns\")\n",
    "big_author_names"
   ]
  }
 ],
 "metadata": {
  "language_info": {
   "name": "python"
  }
 },
 "nbformat": 4,
 "nbformat_minor": 2
}
