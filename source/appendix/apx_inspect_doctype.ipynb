{
 "cells": [
  {
   "cell_type": "code",
   "execution_count": null,
   "metadata": {},
   "outputs": [],
   "source": []
  },
  {
   "cell_type": "markdown",
   "metadata": {},
   "source": [
    "Social Sciences 28,331,440 0.0\n",
    "Computer Science 12,072,405 1.0\n",
    "Environmental Biology 52,850,592 2.0\n",
    "Physics & Materials Science 73,073,323 3.0\n",
    " Molecular Medicine 7,608,655 4.0\n",
    " Neurology 7,123,816 5.0\n",
    " Immunology 1,686,273 6.0\n",
    " Nanotechnology 26,780,182 7.0\n",
    "# Fluid Dynamics 12,973,081 8.0\n",
    " Chemistry 92,637,163 9.0\n",
    "# Geophysics 14,663,115 10.0\n",
    " Psychology 6,225,696 11.0\n",
    "# Cardiology 1,231,546 12.0\n",
    "Clinical Medicine 1,494,250 13.0\n",
    " # Photonics 28,785,419 14.0\n",
    " # Oncology Surgery 779,100 15.0\n",
    " Antibiotic Research 7,601,591 16.0\n",
    " Astrophysics 46,158,238 17.0\n",
    " # Pulmonology 210,680 18.0\n",
    " # Parasitology 379,590 19.0\n",
    " # Ophthalmology 192,425 20.0\n",
    " # Genetic Disorders 6790 21.0\n",
    " # Herpetology 21455 22.0\n",
    " Mathematics 34482 23.0"
   ]
  }
 ],
 "metadata": {
  "language_info": {
   "name": "python"
  }
 },
 "nbformat": 4,
 "nbformat_minor": 2
}
