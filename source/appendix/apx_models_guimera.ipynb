{
 "cells": [
  {
   "cell_type": "markdown",
   "metadata": {},
   "source": [
    "# Coauthors sequence in Astrophysics"
   ]
  },
  {
   "cell_type": "code",
   "execution_count": 1,
   "metadata": {
    "execution": {
     "iopub.execute_input": "2024-06-24T02:37:34.929873Z",
     "iopub.status.busy": "2024-06-24T02:37:34.929669Z",
     "iopub.status.idle": "2024-06-24T02:37:34.942830Z",
     "shell.execute_reply": "2024-06-24T02:37:34.942447Z",
     "shell.execute_reply.started": "2024-06-24T02:37:34.929851Z"
    }
   },
   "outputs": [
    {
     "data": {
      "text/plain": [
       "'/disks/qnap3/users/23-miura/coauth-interest'"
      ]
     },
     "execution_count": 1,
     "metadata": {},
     "output_type": "execute_result"
    }
   ],
   "source": [
    "from dotenv import load_dotenv\n",
    "load_dotenv()\n",
    "\n",
    "import os\n",
    "data_path = os.getenv('DATA_PATH')\n",
    "result_path = os.getenv('RESULT_PATH')\n",
    "root = os.getenv('ROOT')\n",
    "\n",
    "os.chdir(root)\n",
    "os.getcwd()"
   ]
  },
  {
   "cell_type": "code",
   "execution_count": 85,
   "metadata": {
    "execution": {
     "iopub.execute_input": "2024-06-28T02:38:57.359820Z",
     "iopub.status.busy": "2024-06-28T02:38:57.359401Z",
     "iopub.status.idle": "2024-06-28T02:38:57.363559Z",
     "shell.execute_reply": "2024-06-28T02:38:57.363008Z",
     "shell.execute_reply.started": "2024-06-28T02:38:57.359796Z"
    }
   },
   "outputs": [],
   "source": [
    "import pandas as pd\n",
    "import numpy as np\n",
    "import matplotlib.pyplot  as plt\n",
    "import random\n",
    "\n",
    "from scipy.stats import expon\n",
    "from scipy.stats import pareto\n",
    "\n",
    "import source.package.util as util\n"
   ]
  },
  {
   "cell_type": "code",
   "execution_count": 3,
   "metadata": {
    "execution": {
     "iopub.execute_input": "2024-06-24T02:37:38.100904Z",
     "iopub.status.busy": "2024-06-24T02:37:38.100455Z",
     "iopub.status.idle": "2024-06-24T02:37:43.036851Z",
     "shell.execute_reply": "2024-06-24T02:37:43.035220Z",
     "shell.execute_reply.started": "2024-06-24T02:37:38.100882Z"
    }
   },
   "outputs": [
    {
     "data": {
      "text/plain": [
       "eid\n",
       "117    2\n",
       "140    7\n",
       "172    3\n",
       "181    2\n",
       "207    9\n",
       "Name: authid, dtype: int64"
      ]
     },
     "execution_count": 3,
     "metadata": {},
     "output_type": "execute_result"
    }
   ],
   "source": [
    "authors_valid_As = pd.read_pickle(result_path+\"authors_valid_As.pickle\")\n",
    "num_coauth = authors_valid_As.groupby(\"eid\")[\"authid\"].nunique()\n",
    "num_coauth.head()"
   ]
  },
  {
   "cell_type": "code",
   "execution_count": 4,
   "metadata": {
    "execution": {
     "iopub.execute_input": "2024-06-24T02:37:43.045131Z",
     "iopub.status.busy": "2024-06-24T02:37:43.044958Z",
     "iopub.status.idle": "2024-06-24T02:37:44.986542Z",
     "shell.execute_reply": "2024-06-24T02:37:44.984975Z",
     "shell.execute_reply.started": "2024-06-24T02:37:43.045111Z"
    }
   },
   "outputs": [
    {
     "name": "stdout",
     "output_type": "stream",
     "text": [
      "eid\n",
      "229021    1997\n",
      "266363    1998\n",
      "229022    1982\n",
      "229023    1989\n",
      "266364    1998\n",
      "Name: year, dtype: int64\n"
     ]
    }
   ],
   "source": [
    "year_df = pd.read_pickle(data_path + \"paper_detail/year.pickle\")\n",
    "print(year_df.head())"
   ]
  },
  {
   "cell_type": "code",
   "execution_count": 5,
   "metadata": {
    "execution": {
     "iopub.execute_input": "2024-06-24T02:37:44.990143Z",
     "iopub.status.busy": "2024-06-24T02:37:44.989353Z",
     "iopub.status.idle": "2024-06-24T02:37:45.283895Z",
     "shell.execute_reply": "2024-06-24T02:37:45.282947Z",
     "shell.execute_reply.started": "2024-06-24T02:37:44.990115Z"
    }
   },
   "outputs": [
    {
     "data": {
      "text/plain": [
       "2022    1.000000\n",
       "2021    1.000000\n",
       "2020    0.950966\n",
       "2019    0.905637\n",
       "2018    0.862085\n",
       "2017    0.820509\n",
       "2016    0.780593\n",
       "2015    0.741887\n",
       "2014    0.704471\n",
       "2013    0.667178\n",
       "2012    0.630400\n",
       "2011    0.595216\n",
       "2010    0.561784\n",
       "2009    0.530375\n",
       "2008    0.500543\n",
       "2007    0.472242\n",
       "2006    0.445214\n",
       "2005    0.419489\n",
       "2004    0.395056\n",
       "2003    0.373642\n",
       "2002    0.353694\n",
       "2001    0.334827\n",
       "2000    0.316833\n",
       "1999    0.300226\n",
       "1998    0.284473\n",
       "1997    0.268819\n",
       "1996    0.253361\n",
       "1995    0.238254\n",
       "1994    0.224933\n",
       "1993    0.212022\n",
       "1992    0.199567\n",
       "1991    0.187794\n",
       "1990    0.176015\n",
       "1989    0.164295\n",
       "1988    0.153191\n",
       "1987    0.142715\n",
       "1986    0.132556\n",
       "1985    0.122472\n",
       "1984    0.112199\n",
       "1983    0.102105\n",
       "1982    0.092562\n",
       "1981    0.083313\n",
       "1980    0.074610\n",
       "1979    0.066283\n",
       "1978    0.058116\n",
       "1977    0.050406\n",
       "1976    0.043081\n",
       "1975    0.036045\n",
       "1974    0.029027\n",
       "1973    0.022047\n",
       "1972    0.015565\n",
       "1971    0.010230\n",
       "1970    0.005029\n",
       "Name: year, dtype: float64"
      ]
     },
     "execution_count": 5,
     "metadata": {},
     "output_type": "execute_result"
    }
   ],
   "source": [
    "counts = year_df.value_counts(normalize=True).sort_index().cumsum()\n",
    "counts = counts.sort_index(ascending=False)\n",
    "counts"
   ]
  },
  {
   "cell_type": "code",
   "execution_count": 6,
   "metadata": {
    "execution": {
     "iopub.execute_input": "2024-06-24T02:37:45.285524Z",
     "iopub.status.busy": "2024-06-24T02:37:45.285333Z",
     "iopub.status.idle": "2024-06-24T02:38:15.719009Z",
     "shell.execute_reply": "2024-06-24T02:38:15.717917Z",
     "shell.execute_reply.started": "2024-06-24T02:37:45.285505Z"
    },
    "scrolled": true
   },
   "outputs": [
    {
     "data": {
      "text/html": [
       "<div>\n",
       "<style scoped>\n",
       "    .dataframe tbody tr th:only-of-type {\n",
       "        vertical-align: middle;\n",
       "    }\n",
       "\n",
       "    .dataframe tbody tr th {\n",
       "        vertical-align: top;\n",
       "    }\n",
       "\n",
       "    .dataframe thead th {\n",
       "        text-align: right;\n",
       "    }\n",
       "</style>\n",
       "<table border=\"1\" class=\"dataframe\">\n",
       "  <thead>\n",
       "    <tr style=\"text-align: right;\">\n",
       "      <th></th>\n",
       "      <th>authid</th>\n",
       "      <th>year</th>\n",
       "    </tr>\n",
       "    <tr>\n",
       "      <th>eid</th>\n",
       "      <th></th>\n",
       "      <th></th>\n",
       "    </tr>\n",
       "  </thead>\n",
       "  <tbody>\n",
       "    <tr>\n",
       "      <th>117</th>\n",
       "      <td>2</td>\n",
       "      <td>1997</td>\n",
       "    </tr>\n",
       "    <tr>\n",
       "      <th>140</th>\n",
       "      <td>7</td>\n",
       "      <td>1993</td>\n",
       "    </tr>\n",
       "    <tr>\n",
       "      <th>172</th>\n",
       "      <td>3</td>\n",
       "      <td>1997</td>\n",
       "    </tr>\n",
       "    <tr>\n",
       "      <th>181</th>\n",
       "      <td>2</td>\n",
       "      <td>1998</td>\n",
       "    </tr>\n",
       "    <tr>\n",
       "      <th>207</th>\n",
       "      <td>9</td>\n",
       "      <td>1995</td>\n",
       "    </tr>\n",
       "  </tbody>\n",
       "</table>\n",
       "</div>"
      ],
      "text/plain": [
       "     authid  year\n",
       "eid              \n",
       "117       2  1997\n",
       "140       7  1993\n",
       "172       3  1997\n",
       "181       2  1998\n",
       "207       9  1995"
      ]
     },
     "execution_count": 6,
     "metadata": {},
     "output_type": "execute_result"
    }
   ],
   "source": [
    "num_coauth = pd.merge(num_coauth,year_df,on=\"eid\",how=\"left\")\n",
    "num_coauth.head()"
   ]
  },
  {
   "cell_type": "code",
   "execution_count": 7,
   "metadata": {
    "execution": {
     "iopub.execute_input": "2024-06-24T02:38:15.720832Z",
     "iopub.status.busy": "2024-06-24T02:38:15.720580Z",
     "iopub.status.idle": "2024-06-24T02:38:28.616719Z",
     "shell.execute_reply": "2024-06-24T02:38:28.615535Z",
     "shell.execute_reply.started": "2024-06-24T02:38:15.720811Z"
    }
   },
   "outputs": [
    {
     "data": {
      "text/plain": [
       "eid\n",
       "117    1997\n",
       "140    1993\n",
       "172    1997\n",
       "181    1998\n",
       "207    1995\n",
       "Name: year, dtype: int64"
      ]
     },
     "execution_count": 7,
     "metadata": {},
     "output_type": "execute_result"
    }
   ],
   "source": [
    "year_df.loc[[117,140,172,181,207]]"
   ]
  },
  {
   "cell_type": "code",
   "execution_count": 8,
   "metadata": {
    "execution": {
     "iopub.execute_input": "2024-06-24T02:38:28.618554Z",
     "iopub.status.busy": "2024-06-24T02:38:28.618325Z",
     "iopub.status.idle": "2024-06-24T02:38:28.751173Z",
     "shell.execute_reply": "2024-06-24T02:38:28.750337Z",
     "shell.execute_reply.started": "2024-06-24T02:38:28.618535Z"
    }
   },
   "outputs": [
    {
     "data": {
      "text/plain": [
       "array([4, 2, 4])"
      ]
     },
     "execution_count": 8,
     "metadata": {},
     "output_type": "execute_result"
    }
   ],
   "source": [
    "num_coauth = num_coauth.sort_values(by=\"year\")\n",
    "m_seq = num_coauth[\"authid\"].values\n",
    "m_seq[:3]"
   ]
  },
  {
   "cell_type": "code",
   "execution_count": 9,
   "metadata": {
    "execution": {
     "iopub.execute_input": "2024-06-24T02:38:28.753456Z",
     "iopub.status.busy": "2024-06-24T02:38:28.753271Z",
     "iopub.status.idle": "2024-06-24T02:38:28.766290Z",
     "shell.execute_reply": "2024-06-24T02:38:28.765539Z",
     "shell.execute_reply.started": "2024-06-24T02:38:28.753438Z"
    }
   },
   "outputs": [],
   "source": [
    "m_seq = m_seq[m_seq>1]"
   ]
  },
  {
   "cell_type": "code",
   "execution_count": 10,
   "metadata": {
    "execution": {
     "iopub.execute_input": "2024-06-24T02:38:28.767816Z",
     "iopub.status.busy": "2024-06-24T02:38:28.767628Z",
     "iopub.status.idle": "2024-06-24T02:38:28.863015Z",
     "shell.execute_reply": "2024-06-24T02:38:28.862161Z",
     "shell.execute_reply.started": "2024-06-24T02:38:28.767799Z"
    },
    "scrolled": true
   },
   "outputs": [],
   "source": [
    "import random \n",
    "m_seq_sample = random.sample(population=list(m_seq),k=30552)"
   ]
  },
  {
   "cell_type": "code",
   "execution_count": 11,
   "metadata": {
    "execution": {
     "iopub.execute_input": "2024-06-24T02:38:28.864202Z",
     "iopub.status.busy": "2024-06-24T02:38:28.864016Z",
     "iopub.status.idle": "2024-06-24T02:38:34.269146Z",
     "shell.execute_reply": "2024-06-24T02:38:34.268178Z",
     "shell.execute_reply.started": "2024-06-24T02:38:28.864182Z"
    }
   },
   "outputs": [],
   "source": [
    "# # Guimera 2006\n",
    "p=0.76\n",
    "q=0.82\n",
    "m=3\n",
    "\n",
    "C_HIS = {0:{1,2},1:{0,2},2:{0,1}}\n",
    "INC = {0,1,2}\n",
    "coauth = []\n",
    "\n",
    "def step(m):\n",
    "  max_id = len(INC)\n",
    "  id = set()\n",
    "  inc_his = [] # team of previously selected agent\n",
    "  \n",
    "  while len(id)<m:\n",
    "    # incumbents\n",
    "    if random.random()<p:\n",
    "      if random.random()<q and len(inc_his)!=0:\n",
    "        choice =random.choice(list(inc_his))\n",
    "      else:\n",
    "        choice =random.choice(list(INC))\n",
    "      id.add(choice)\n",
    "      inc_his = C_HIS[choice]\n",
    "    # newcomer\n",
    "    else:\n",
    "      inc_his = []\n",
    "      id.add(max_id)# ID of the newcomer\n",
    "      max_id += 1\n",
    "  \n",
    "  for i in id:\n",
    "    if C_HIS.get(i)!=None:\n",
    "      C_HIS[i].update(id - {i})\n",
    "    else:\n",
    "      C_HIS.update([(i,id - {i})])\n",
    "  INC.update(id)\n",
    "  return id\n",
    "\n",
    "for i in range(len(m_seq_sample)):\n",
    "  coauth.append(step(m_seq_sample[i]))\n"
   ]
  },
  {
   "cell_type": "code",
   "execution_count": 12,
   "metadata": {
    "execution": {
     "iopub.execute_input": "2024-06-24T02:38:34.270522Z",
     "iopub.status.busy": "2024-06-24T02:38:34.270332Z",
     "iopub.status.idle": "2024-06-24T02:38:43.138246Z",
     "shell.execute_reply": "2024-06-24T02:38:43.137578Z",
     "shell.execute_reply.started": "2024-06-24T02:38:34.270501Z"
    },
    "scrolled": true
   },
   "outputs": [],
   "source": [
    "# more exposure effect\n",
    "# p=0.76\n",
    "# q=0.82\n",
    "# m=3\n",
    "\n",
    "# C_HIS = {0:[1,2],1:[0,2],2:[0,1]}\n",
    "# INC = {0,1,2}\n",
    "# coauth = []\n",
    "# year = []\n",
    "\n",
    "# def step(m):\n",
    "#   max_id = len(INC)\n",
    "#   id = set()\n",
    "#   inc_his = [] # team of previously selected agent\n",
    "  \n",
    "#   while len(id)<m:\n",
    "#     # incumbents\n",
    "#     if random.random()<p:\n",
    "#       if random.random()<q and len(inc_his)!=0:\n",
    "#         choice =random.choice(inc_his)\n",
    "#         # print(\"incumbent repeat\", inc_his, choice)\n",
    "#       else:\n",
    "#         choice = random.choice(list(INC))\n",
    "#         # print(\"incumbent\", INC, choice)\n",
    "#       id.add(choice)\n",
    "#       inc_his = C_HIS[choice]\n",
    "#     # newcomer\n",
    "#     else:\n",
    "#       # print(\"newcomer\")\n",
    "#       inc_his = []\n",
    "#       id.add(max_id)# ID of the newcomer\n",
    "#       max_id += 1\n",
    "  \n",
    "#   for i in id:\n",
    "#     if C_HIS.get(i,None)!=None:\n",
    "#       C_HIS[i] += (list(id - {i}))\n",
    "#     else:\n",
    "#       C_HIS[i] = list(id - {i})\n",
    "#   INC.update(id)\n",
    "#   return id\n",
    "\n",
    "# for i in range(len(m_seq_sample)):\n",
    "#   coauth.append(step(m_seq_sample[i]))\n",
    "#   # if i%100==0:\n",
    "#     # print(i/len(m_seq_sample))\n",
    "#     # print(counts[counts<(i/len(m_seq_sample))].index)\n",
    "#   index = counts[counts<(i/len(m_seq_sample))].index\n",
    "#   if len(index)>0:\n",
    "#     year.append(index[0])\n",
    "#   else:\n",
    "#     year.append(1969)\n",
    "#   # counts.cumsum()[counts.cumsum()<0.1]\n",
    "#   # coauth.append(step(m))\n",
    "#   # print(\"current\", INC)\n",
    "#   # print(\"current\", C_HIS)\n",
    "#   # print(\"-------\")"
   ]
  },
  {
   "cell_type": "code",
   "execution_count": 14,
   "metadata": {
    "execution": {
     "iopub.execute_input": "2024-06-24T02:39:07.397335Z",
     "iopub.status.busy": "2024-06-24T02:39:07.396949Z",
     "iopub.status.idle": "2024-06-24T02:39:07.806349Z",
     "shell.execute_reply": "2024-06-24T02:39:07.805819Z",
     "shell.execute_reply.started": "2024-06-24T02:39:07.397310Z"
    }
   },
   "outputs": [
    {
     "data": {
      "text/plain": [
       "(array([ 154.,  159.,  163.,  198.,  213.,  215.,  215.,  223.,  236.,\n",
       "         250.,  254.,  266.,  282.,  292.,  308.,  314.,  308.,  311.,\n",
       "         320.,  339.,  358.,  360.,  360.,  380.,  395.,  407.,  461.,\n",
       "         472.,  479.,  481.,  507.,  550.,  577.,  609.,  654.,  747.,\n",
       "         786.,  825.,  865.,  912.,  959., 1022., 1074., 1124., 1139.,\n",
       "        1144., 1182., 1220., 1270., 1331., 1384., 1498.]),\n",
       " array([1969., 1970., 1971., 1972., 1973., 1974., 1975., 1976., 1977.,\n",
       "        1978., 1979., 1980., 1981., 1982., 1983., 1984., 1985., 1986.,\n",
       "        1987., 1988., 1989., 1990., 1991., 1992., 1993., 1994., 1995.,\n",
       "        1996., 1997., 1998., 1999., 2000., 2001., 2002., 2003., 2004.,\n",
       "        2005., 2006., 2007., 2008., 2009., 2010., 2011., 2012., 2013.,\n",
       "        2014., 2015., 2016., 2017., 2018., 2019., 2020., 2021.]),\n",
       " <BarContainer object of 52 artists>)"
      ]
     },
     "execution_count": 14,
     "metadata": {},
     "output_type": "execute_result"
    },
    {
     "data": {
      "image/png": "[encoded data removed]",
      "text/plain": [
       "<Figure size 640x480 with 1 Axes>"
      ]
     },
     "metadata": {},
     "output_type": "display_data"
    }
   ],
   "source": [
    "year[-1]\n",
    "len(set(year))\n",
    "plt.hist(year,bins=[i for i in range(1969,2022)])"
   ]
  },
  {
   "cell_type": "code",
   "execution_count": 15,
   "metadata": {
    "execution": {
     "iopub.execute_input": "2024-06-24T02:39:07.810969Z",
     "iopub.status.busy": "2024-06-24T02:39:07.810826Z",
     "iopub.status.idle": "2024-06-24T02:39:08.029522Z",
     "shell.execute_reply": "2024-06-24T02:39:08.028904Z",
     "shell.execute_reply.started": "2024-06-24T02:39:07.810951Z"
    }
   },
   "outputs": [
    {
     "data": {
      "text/html": [
       "<div>\n",
       "<style scoped>\n",
       "    .dataframe tbody tr th:only-of-type {\n",
       "        vertical-align: middle;\n",
       "    }\n",
       "\n",
       "    .dataframe tbody tr th {\n",
       "        vertical-align: top;\n",
       "    }\n",
       "\n",
       "    .dataframe thead th {\n",
       "        text-align: right;\n",
       "    }\n",
       "</style>\n",
       "<table border=\"1\" class=\"dataframe\">\n",
       "  <thead>\n",
       "    <tr style=\"text-align: right;\">\n",
       "      <th></th>\n",
       "      <th>authid</th>\n",
       "      <th>year</th>\n",
       "    </tr>\n",
       "    <tr>\n",
       "      <th>eid</th>\n",
       "      <th></th>\n",
       "      <th></th>\n",
       "    </tr>\n",
       "  </thead>\n",
       "  <tbody>\n",
       "    <tr>\n",
       "      <th>0</th>\n",
       "      <td>[0.0, 1.0, 2.0, 3.0, 4.0, 5.0, nan, nan, nan, ...</td>\n",
       "      <td>1969</td>\n",
       "    </tr>\n",
       "    <tr>\n",
       "      <th>1</th>\n",
       "      <td>[0.0, 1.0, 2.0, 3.0, 5.0, 6.0, 7.0, 8.0, 9.0, ...</td>\n",
       "      <td>1969</td>\n",
       "    </tr>\n",
       "    <tr>\n",
       "      <th>2</th>\n",
       "      <td>[1.0, 10.0, 6.0, nan, nan, nan, nan, nan, nan,...</td>\n",
       "      <td>1969</td>\n",
       "    </tr>\n",
       "    <tr>\n",
       "      <th>3</th>\n",
       "      <td>[1.0, 5.0, 10.0, 11.0, 12.0, 13.0, 14.0, nan, ...</td>\n",
       "      <td>1969</td>\n",
       "    </tr>\n",
       "    <tr>\n",
       "      <th>4</th>\n",
       "      <td>[1.0, 2.0, 15.0, nan, nan, nan, nan, nan, nan,...</td>\n",
       "      <td>1969</td>\n",
       "    </tr>\n",
       "    <tr>\n",
       "      <th>...</th>\n",
       "      <td>...</td>\n",
       "      <td>...</td>\n",
       "    </tr>\n",
       "    <tr>\n",
       "      <th>30547</th>\n",
       "      <td>[3376.0, 5614.0, nan, nan, nan, nan, nan, nan,...</td>\n",
       "      <td>2020</td>\n",
       "    </tr>\n",
       "    <tr>\n",
       "      <th>30548</th>\n",
       "      <td>[10853.0, 31644.0, 31645.0, nan, nan, nan, nan...</td>\n",
       "      <td>2020</td>\n",
       "    </tr>\n",
       "    <tr>\n",
       "      <th>30549</th>\n",
       "      <td>[15656.0, 91.0, 1179.0, nan, nan, nan, nan, na...</td>\n",
       "      <td>2020</td>\n",
       "    </tr>\n",
       "    <tr>\n",
       "      <th>30550</th>\n",
       "      <td>[16448.0, 3089.0, 16450.0, 22115.0, nan, nan, ...</td>\n",
       "      <td>2020</td>\n",
       "    </tr>\n",
       "    <tr>\n",
       "      <th>30551</th>\n",
       "      <td>[1027.0, 917.0, 19862.0, 31646.0, 31647.0, 316...</td>\n",
       "      <td>2020</td>\n",
       "    </tr>\n",
       "  </tbody>\n",
       "</table>\n",
       "<p>30552 rows × 2 columns</p>\n",
       "</div>"
      ],
      "text/plain": [
       "                                                  authid  year\n",
       "eid                                                           \n",
       "0      [0.0, 1.0, 2.0, 3.0, 4.0, 5.0, nan, nan, nan, ...  1969\n",
       "1      [0.0, 1.0, 2.0, 3.0, 5.0, 6.0, 7.0, 8.0, 9.0, ...  1969\n",
       "2      [1.0, 10.0, 6.0, nan, nan, nan, nan, nan, nan,...  1969\n",
       "3      [1.0, 5.0, 10.0, 11.0, 12.0, 13.0, 14.0, nan, ...  1969\n",
       "4      [1.0, 2.0, 15.0, nan, nan, nan, nan, nan, nan,...  1969\n",
       "...                                                  ...   ...\n",
       "30547  [3376.0, 5614.0, nan, nan, nan, nan, nan, nan,...  2020\n",
       "30548  [10853.0, 31644.0, 31645.0, nan, nan, nan, nan...  2020\n",
       "30549  [15656.0, 91.0, 1179.0, nan, nan, nan, nan, na...  2020\n",
       "30550  [16448.0, 3089.0, 16450.0, 22115.0, nan, nan, ...  2020\n",
       "30551  [1027.0, 917.0, 19862.0, 31646.0, 31647.0, 316...  2020\n",
       "\n",
       "[30552 rows x 2 columns]"
      ]
     },
     "execution_count": 15,
     "metadata": {},
     "output_type": "execute_result"
    }
   ],
   "source": [
    "temp = pd.DataFrame(coauth).rename_axis(\"eid\")\n",
    "\n",
    "def combine_columns(row):\n",
    "    return row.values.tolist()\n",
    "\n",
    "# author_df = temp.iterrows.values.tolist()\n",
    "author_df = pd.DataFrame(temp.apply(combine_columns, axis=1).rename(\"authid\"))\n",
    "author_df = author_df.assign(year=year)\n",
    "author_df"
   ]
  },
  {
   "cell_type": "code",
   "execution_count": 16,
   "metadata": {
    "execution": {
     "iopub.execute_input": "2024-06-24T02:39:11.477358Z",
     "iopub.status.busy": "2024-06-24T02:39:11.476816Z",
     "iopub.status.idle": "2024-06-24T02:39:11.658218Z",
     "shell.execute_reply": "2024-06-24T02:39:11.657719Z",
     "shell.execute_reply.started": "2024-06-24T02:39:11.477337Z"
    }
   },
   "outputs": [
    {
     "data": {
      "text/html": [
       "<div>\n",
       "<style scoped>\n",
       "    .dataframe tbody tr th:only-of-type {\n",
       "        vertical-align: middle;\n",
       "    }\n",
       "\n",
       "    .dataframe tbody tr th {\n",
       "        vertical-align: top;\n",
       "    }\n",
       "\n",
       "    .dataframe thead th {\n",
       "        text-align: right;\n",
       "    }\n",
       "</style>\n",
       "<table border=\"1\" class=\"dataframe\">\n",
       "  <thead>\n",
       "    <tr style=\"text-align: right;\">\n",
       "      <th></th>\n",
       "      <th>eid</th>\n",
       "      <th>authid</th>\n",
       "      <th>year</th>\n",
       "    </tr>\n",
       "  </thead>\n",
       "  <tbody>\n",
       "    <tr>\n",
       "      <th>0</th>\n",
       "      <td>0</td>\n",
       "      <td>0.0</td>\n",
       "      <td>1969</td>\n",
       "    </tr>\n",
       "    <tr>\n",
       "      <th>1</th>\n",
       "      <td>0</td>\n",
       "      <td>1.0</td>\n",
       "      <td>1969</td>\n",
       "    </tr>\n",
       "    <tr>\n",
       "      <th>2</th>\n",
       "      <td>0</td>\n",
       "      <td>2.0</td>\n",
       "      <td>1969</td>\n",
       "    </tr>\n",
       "    <tr>\n",
       "      <th>3</th>\n",
       "      <td>0</td>\n",
       "      <td>3.0</td>\n",
       "      <td>1969</td>\n",
       "    </tr>\n",
       "    <tr>\n",
       "      <th>4</th>\n",
       "      <td>0</td>\n",
       "      <td>4.0</td>\n",
       "      <td>1969</td>\n",
       "    </tr>\n",
       "    <tr>\n",
       "      <th>...</th>\n",
       "      <td>...</td>\n",
       "      <td>...</td>\n",
       "      <td>...</td>\n",
       "    </tr>\n",
       "    <tr>\n",
       "      <th>130119</th>\n",
       "      <td>30551</td>\n",
       "      <td>17009.0</td>\n",
       "      <td>2020</td>\n",
       "    </tr>\n",
       "    <tr>\n",
       "      <th>130120</th>\n",
       "      <td>30551</td>\n",
       "      <td>3828.0</td>\n",
       "      <td>2020</td>\n",
       "    </tr>\n",
       "    <tr>\n",
       "      <th>130121</th>\n",
       "      <td>30551</td>\n",
       "      <td>6524.0</td>\n",
       "      <td>2020</td>\n",
       "    </tr>\n",
       "    <tr>\n",
       "      <th>130122</th>\n",
       "      <td>30551</td>\n",
       "      <td>9982.0</td>\n",
       "      <td>2020</td>\n",
       "    </tr>\n",
       "    <tr>\n",
       "      <th>130123</th>\n",
       "      <td>30551</td>\n",
       "      <td>2687.0</td>\n",
       "      <td>2020</td>\n",
       "    </tr>\n",
       "  </tbody>\n",
       "</table>\n",
       "<p>130124 rows × 3 columns</p>\n",
       "</div>"
      ],
      "text/plain": [
       "          eid   authid  year\n",
       "0           0      0.0  1969\n",
       "1           0      1.0  1969\n",
       "2           0      2.0  1969\n",
       "3           0      3.0  1969\n",
       "4           0      4.0  1969\n",
       "...       ...      ...   ...\n",
       "130119  30551  17009.0  2020\n",
       "130120  30551   3828.0  2020\n",
       "130121  30551   6524.0  2020\n",
       "130122  30551   9982.0  2020\n",
       "130123  30551   2687.0  2020\n",
       "\n",
       "[130124 rows x 3 columns]"
      ]
     },
     "execution_count": 16,
     "metadata": {},
     "output_type": "execute_result"
    }
   ],
   "source": [
    "from source.package.util import plotter\n",
    "\n",
    "authors_valid = author_df.explode(\"authid\").dropna().reset_index()\n",
    "authors_valid\n",
    "# coauthorship_count = authors_valid[['eid', 'authid']].groupby(by='authid').count()\n",
    "# big_author = coauthorship_count.rename({\"eid\":\"n_papers\"},axis=1)\n",
    "# big_author\n",
    "# # plotter(big_author[\"n_papers\"], count=\"number\")"
   ]
  },
  {
   "cell_type": "code",
   "execution_count": 51,
   "metadata": {
    "execution": {
     "iopub.execute_input": "2024-06-28T02:20:43.889098Z",
     "iopub.status.busy": "2024-06-28T02:20:43.888509Z",
     "iopub.status.idle": "2024-06-28T02:20:43.899306Z",
     "shell.execute_reply": "2024-06-28T02:20:43.898809Z",
     "shell.execute_reply.started": "2024-06-28T02:20:43.889066Z"
    }
   },
   "outputs": [
    {
     "data": {
      "text/html": [
       "<div>\n",
       "<style scoped>\n",
       "    .dataframe tbody tr th:only-of-type {\n",
       "        vertical-align: middle;\n",
       "    }\n",
       "\n",
       "    .dataframe tbody tr th {\n",
       "        vertical-align: top;\n",
       "    }\n",
       "\n",
       "    .dataframe thead th {\n",
       "        text-align: right;\n",
       "    }\n",
       "</style>\n",
       "<table border=\"1\" class=\"dataframe\">\n",
       "  <thead>\n",
       "    <tr style=\"text-align: right;\">\n",
       "      <th></th>\n",
       "      <th>eid</th>\n",
       "      <th>authid</th>\n",
       "      <th>year</th>\n",
       "    </tr>\n",
       "  </thead>\n",
       "  <tbody>\n",
       "    <tr>\n",
       "      <th>0</th>\n",
       "      <td>0</td>\n",
       "      <td>0.0</td>\n",
       "      <td>1969</td>\n",
       "    </tr>\n",
       "    <tr>\n",
       "      <th>1</th>\n",
       "      <td>0</td>\n",
       "      <td>1.0</td>\n",
       "      <td>1969</td>\n",
       "    </tr>\n",
       "    <tr>\n",
       "      <th>2</th>\n",
       "      <td>0</td>\n",
       "      <td>2.0</td>\n",
       "      <td>1969</td>\n",
       "    </tr>\n",
       "    <tr>\n",
       "      <th>3</th>\n",
       "      <td>0</td>\n",
       "      <td>3.0</td>\n",
       "      <td>1969</td>\n",
       "    </tr>\n",
       "    <tr>\n",
       "      <th>4</th>\n",
       "      <td>0</td>\n",
       "      <td>4.0</td>\n",
       "      <td>1969</td>\n",
       "    </tr>\n",
       "    <tr>\n",
       "      <th>...</th>\n",
       "      <td>...</td>\n",
       "      <td>...</td>\n",
       "      <td>...</td>\n",
       "    </tr>\n",
       "    <tr>\n",
       "      <th>130119</th>\n",
       "      <td>30551</td>\n",
       "      <td>17009.0</td>\n",
       "      <td>2020</td>\n",
       "    </tr>\n",
       "    <tr>\n",
       "      <th>130120</th>\n",
       "      <td>30551</td>\n",
       "      <td>3828.0</td>\n",
       "      <td>2020</td>\n",
       "    </tr>\n",
       "    <tr>\n",
       "      <th>130121</th>\n",
       "      <td>30551</td>\n",
       "      <td>6524.0</td>\n",
       "      <td>2020</td>\n",
       "    </tr>\n",
       "    <tr>\n",
       "      <th>130122</th>\n",
       "      <td>30551</td>\n",
       "      <td>9982.0</td>\n",
       "      <td>2020</td>\n",
       "    </tr>\n",
       "    <tr>\n",
       "      <th>130123</th>\n",
       "      <td>30551</td>\n",
       "      <td>2687.0</td>\n",
       "      <td>2020</td>\n",
       "    </tr>\n",
       "  </tbody>\n",
       "</table>\n",
       "<p>130124 rows × 3 columns</p>\n",
       "</div>"
      ],
      "text/plain": [
       "          eid   authid  year\n",
       "0           0      0.0  1969\n",
       "1           0      1.0  1969\n",
       "2           0      2.0  1969\n",
       "3           0      3.0  1969\n",
       "4           0      4.0  1969\n",
       "...       ...      ...   ...\n",
       "130119  30551  17009.0  2020\n",
       "130120  30551   3828.0  2020\n",
       "130121  30551   6524.0  2020\n",
       "130122  30551   9982.0  2020\n",
       "130123  30551   2687.0  2020\n",
       "\n",
       "[130124 rows x 3 columns]"
      ]
     },
     "execution_count": 51,
     "metadata": {},
     "output_type": "execute_result"
    }
   ],
   "source": [
    "authors_valid.groupby[\"authid\"]"
   ]
  },
  {
   "cell_type": "code",
   "execution_count": 43,
   "metadata": {
    "execution": {
     "iopub.execute_input": "2024-06-24T02:54:21.210784Z",
     "iopub.status.busy": "2024-06-24T02:54:21.210252Z",
     "iopub.status.idle": "2024-06-24T02:54:21.232801Z",
     "shell.execute_reply": "2024-06-24T02:54:21.232360Z",
     "shell.execute_reply.started": "2024-06-24T02:54:21.210764Z"
    }
   },
   "outputs": [
    {
     "data": {
      "text/html": [
       "<div>\n",
       "<style scoped>\n",
       "    .dataframe tbody tr th:only-of-type {\n",
       "        vertical-align: middle;\n",
       "    }\n",
       "\n",
       "    .dataframe tbody tr th {\n",
       "        vertical-align: top;\n",
       "    }\n",
       "\n",
       "    .dataframe thead th {\n",
       "        text-align: right;\n",
       "    }\n",
       "</style>\n",
       "<table border=\"1\" class=\"dataframe\">\n",
       "  <thead>\n",
       "    <tr style=\"text-align: right;\">\n",
       "      <th></th>\n",
       "      <th>eid</th>\n",
       "      <th>authid</th>\n",
       "      <th>year</th>\n",
       "    </tr>\n",
       "  </thead>\n",
       "  <tbody>\n",
       "    <tr>\n",
       "      <th>0</th>\n",
       "      <td>0</td>\n",
       "      <td>0.0</td>\n",
       "      <td>1969</td>\n",
       "    </tr>\n",
       "    <tr>\n",
       "      <th>1</th>\n",
       "      <td>0</td>\n",
       "      <td>1.0</td>\n",
       "      <td>1969</td>\n",
       "    </tr>\n",
       "    <tr>\n",
       "      <th>2</th>\n",
       "      <td>0</td>\n",
       "      <td>2.0</td>\n",
       "      <td>1969</td>\n",
       "    </tr>\n",
       "    <tr>\n",
       "      <th>3</th>\n",
       "      <td>0</td>\n",
       "      <td>3.0</td>\n",
       "      <td>1969</td>\n",
       "    </tr>\n",
       "    <tr>\n",
       "      <th>4</th>\n",
       "      <td>0</td>\n",
       "      <td>4.0</td>\n",
       "      <td>1969</td>\n",
       "    </tr>\n",
       "  </tbody>\n",
       "</table>\n",
       "</div>"
      ],
      "text/plain": [
       "   eid authid  year\n",
       "0    0    0.0  1969\n",
       "1    0    1.0  1969\n",
       "2    0    2.0  1969\n",
       "3    0    3.0  1969\n",
       "4    0    4.0  1969"
      ]
     },
     "execution_count": 43,
     "metadata": {},
     "output_type": "execute_result"
    }
   ],
   "source": [
    "works = authors_valid[authors_valid[\"authid\"]==0][\"eid\"].values\n",
    "all_coauthorship_history = authors_valid[authors_valid[\"eid\"].isin(works)]\n",
    "all_coauthors = all_coauthorship_history.groupby(\"authid\")[\"eid\"].nunique()\n",
    "coauthorship_history = all_coauthorship_history[all_coauthorship_history[\"authid\"].isin(all_coauthors[all_coauthors>1].index)]\n",
    "coauthorship_history.head()"
   ]
  },
  {
   "cell_type": "code",
   "execution_count": 50,
   "metadata": {
    "execution": {
     "iopub.execute_input": "2024-06-24T07:10:53.425689Z",
     "iopub.status.busy": "2024-06-24T07:10:53.425432Z",
     "iopub.status.idle": "2024-06-24T07:10:53.540735Z",
     "shell.execute_reply": "2024-06-24T07:10:53.540317Z",
     "shell.execute_reply.started": "2024-06-24T07:10:53.425668Z"
    }
   },
   "outputs": [
    {
     "name": "stderr",
     "output_type": "stream",
     "text": [
      "/tmp/ipykernel_352849/3744410329.py:4: SettingWithCopyWarning: \n",
      "A value is trying to be set on a copy of a slice from a DataFrame\n",
      "\n",
      "See the caveats in the documentation: https://pandas.pydata.org/pandas-docs/stable/user_guide/indexing.html#returning-a-view-versus-a-copy\n",
      "  coauthorship_history[\"authid\"].replace(authid_mapping,inplace=True)\n",
      "/tmp/ipykernel_352849/3744410329.py:5: SettingWithCopyWarning: \n",
      "A value is trying to be set on a copy of a slice from a DataFrame\n",
      "\n",
      "See the caveats in the documentation: https://pandas.pydata.org/pandas-docs/stable/user_guide/indexing.html#returning-a-view-versus-a-copy\n",
      "  coauthorship_history[\"eid\"].replace(eid_mapping,inplace=True)\n"
     ]
    },
    {
     "data": {
      "image/png": "[encoded data removed]",
      "text/plain": [
       "<Figure size 500x1000 with 1 Axes>"
      ]
     },
     "metadata": {},
     "output_type": "display_data"
    }
   ],
   "source": [
    "plt.figure(figsize=(5,10))\n",
    "authid_mapping = {key: i for i, key in enumerate(coauthorship_history[\"authid\"].unique())}\n",
    "eid_mapping = {key: i for i, key in enumerate(coauthorship_history[\"eid\"].unique())}\n",
    "coauthorship_history[\"authid\"].replace(authid_mapping,inplace=True)\n",
    "coauthorship_history[\"eid\"].replace(eid_mapping,inplace=True)\n",
    "plt.scatter(coauthorship_history['eid'],coauthorship_history['authid'],s=10)\n",
    "plt.grid(True)"
   ]
  },
  {
   "cell_type": "code",
   "execution_count": 78,
   "metadata": {
    "execution": {
     "iopub.execute_input": "2024-06-21T02:21:10.779502Z",
     "iopub.status.busy": "2024-06-21T02:21:10.778426Z",
     "iopub.status.idle": "2024-06-21T02:21:10.795505Z",
     "shell.execute_reply": "2024-06-21T02:21:10.794604Z",
     "shell.execute_reply.started": "2024-06-21T02:21:10.779452Z"
    }
   },
   "outputs": [],
   "source": [
    "def coauthor_works(id):\n",
    "    works = authors_valid[\"eid\"][authors_valid['authid']==id]\n",
    "    \n",
    "    coauthors = authors_valid[authors_valid['eid'].isin(works)].query(f\"authid!={id}\")\n",
    "    df_seqyear_multi = coauthors.groupby(by='authid', group_keys=True).filter(lambda x: len(x) > 1)\n",
    "    if len(df_seqyear_multi)<1: return None\n",
    "    df_seqyear_delta = df_seqyear_multi.groupby(by='authid', group_keys=True)['year'] \\\n",
    "    .apply(lambda x: x - x.shift(1)) \\\n",
    "    .dropna().reset_index().rename(columns={\"level_1\":\"index\"})\n",
    "    \n",
    "    df_seqyear_delta[\"source_authid\"] = id\n",
    "    df_seqyear_delta = df_seqyear_delta.merge(coauthors[\"eid\"], left_on=\"index\", right_index=True, how=\"left\")\n",
    "    df_seqyear_delta[\"previous_work\"] = df_seqyear_delta.groupby(\"authid\").shift(1)[\"eid\"]\n",
    "  \n",
    "    df_seqyear_delta = df_seqyear_delta.dropna()\n",
    "    return df_seqyear_delta\n"
   ]
  },
  {
   "cell_type": "code",
   "execution_count": 79,
   "metadata": {
    "execution": {
     "iopub.execute_input": "2024-06-21T02:21:12.418286Z",
     "iopub.status.busy": "2024-06-21T02:21:12.417168Z",
     "iopub.status.idle": "2024-06-21T02:21:12.936591Z",
     "shell.execute_reply": "2024-06-21T02:21:12.935914Z",
     "shell.execute_reply.started": "2024-06-21T02:21:12.418240Z"
    }
   },
   "outputs": [
    {
     "name": "stderr",
     "output_type": "stream",
     "text": [
      "No artists with labels found to put in legend.  Note that artists whose label start with an underscore are ignored when legend() is called with no argument.\n"
     ]
    },
    {
     "data": {
      "image/png": "[encoded data removed]",
      "text/plain": [
       "<Figure size 640x480 with 1 Axes>"
      ]
     },
     "metadata": {},
     "output_type": "display_data"
    },
    {
     "data": {
      "text/plain": [
       "(array([ 750.,  705.,  697.,  737.,  924.,  982.,  877., 1051., 1119.,\n",
       "        1044., 1126., 1175., 1097., 1236., 1383., 1358., 1248., 1348.,\n",
       "        1349., 1454., 1325., 1586., 1565., 1594., 1664., 1686., 1864.,\n",
       "        1997., 2005., 2147., 2146., 2364., 2362., 2505., 2756., 3261.,\n",
       "        3405., 3558., 3697., 4044., 4267., 4374., 4695., 4659., 4877.,\n",
       "        4857., 4730., 5361., 5365., 5629., 5840., 6294.]),\n",
       " array([1969., 1970., 1971., 1972., 1973., 1974., 1975., 1976., 1977.,\n",
       "        1978., 1979., 1980., 1981., 1982., 1983., 1984., 1985., 1986.,\n",
       "        1987., 1988., 1989., 1990., 1991., 1992., 1993., 1994., 1995.,\n",
       "        1996., 1997., 1998., 1999., 2000., 2001., 2002., 2003., 2004.,\n",
       "        2005., 2006., 2007., 2008., 2009., 2010., 2011., 2012., 2013.,\n",
       "        2014., 2015., 2016., 2017., 2018., 2019., 2020., 2021.]),\n",
       " <BarContainer object of 52 artists>)"
      ]
     },
     "execution_count": 79,
     "metadata": {},
     "output_type": "execute_result"
    },
    {
     "data": {
      "image/png": "[encoded data removed]",
      "text/plain": [
       "<Figure size 640x480 with 1 Axes>"
      ]
     },
     "metadata": {},
     "output_type": "display_data"
    }
   ],
   "source": [
    "plotter(authors_valid.groupby(\"eid\")[\"authid\"].nunique())\n",
    "plt.show()\n",
    "\n",
    "plt.hist(authors_valid[\"year\"],bins=[i for i in range(1969,2022)])"
   ]
  },
  {
   "cell_type": "code",
   "execution_count": 80,
   "metadata": {
    "execution": {
     "iopub.execute_input": "2024-06-21T02:21:17.203407Z",
     "iopub.status.busy": "2024-06-21T02:21:17.202332Z",
     "iopub.status.idle": "2024-06-21T02:23:29.786461Z",
     "shell.execute_reply": "2024-06-21T02:23:29.785763Z",
     "shell.execute_reply.started": "2024-06-21T02:21:17.203359Z"
    }
   },
   "outputs": [
    {
     "data": {
      "text/html": [
       "<div>\n",
       "<style scoped>\n",
       "    .dataframe tbody tr th:only-of-type {\n",
       "        vertical-align: middle;\n",
       "    }\n",
       "\n",
       "    .dataframe tbody tr th {\n",
       "        vertical-align: top;\n",
       "    }\n",
       "\n",
       "    .dataframe thead th {\n",
       "        text-align: right;\n",
       "    }\n",
       "</style>\n",
       "<table border=\"1\" class=\"dataframe\">\n",
       "  <thead>\n",
       "    <tr style=\"text-align: right;\">\n",
       "      <th></th>\n",
       "      <th>authid</th>\n",
       "      <th>index</th>\n",
       "      <th>year</th>\n",
       "      <th>source_authid</th>\n",
       "      <th>eid</th>\n",
       "      <th>previous_work</th>\n",
       "    </tr>\n",
       "  </thead>\n",
       "  <tbody>\n",
       "    <tr>\n",
       "      <th>3</th>\n",
       "      <td>5239.0</td>\n",
       "      <td>39388</td>\n",
       "      <td>10.0</td>\n",
       "      <td>3425</td>\n",
       "      <td>9248</td>\n",
       "      <td>5354.0</td>\n",
       "    </tr>\n",
       "    <tr>\n",
       "      <th>4</th>\n",
       "      <td>5239.0</td>\n",
       "      <td>84058</td>\n",
       "      <td>13.0</td>\n",
       "      <td>3425</td>\n",
       "      <td>19620</td>\n",
       "      <td>9248.0</td>\n",
       "    </tr>\n",
       "    <tr>\n",
       "      <th>1</th>\n",
       "      <td>392.0</td>\n",
       "      <td>69514</td>\n",
       "      <td>5.0</td>\n",
       "      <td>3451</td>\n",
       "      <td>16266</td>\n",
       "      <td>12515.0</td>\n",
       "    </tr>\n",
       "    <tr>\n",
       "      <th>3</th>\n",
       "      <td>2251.0</td>\n",
       "      <td>57328</td>\n",
       "      <td>6.0</td>\n",
       "      <td>3451</td>\n",
       "      <td>13474</td>\n",
       "      <td>9401.0</td>\n",
       "    </tr>\n",
       "    <tr>\n",
       "      <th>4</th>\n",
       "      <td>61.0</td>\n",
       "      <td>4944</td>\n",
       "      <td>5.0</td>\n",
       "      <td>67</td>\n",
       "      <td>1138</td>\n",
       "      <td>229.0</td>\n",
       "    </tr>\n",
       "    <tr>\n",
       "      <th>...</th>\n",
       "      <td>...</td>\n",
       "      <td>...</td>\n",
       "      <td>...</td>\n",
       "      <td>...</td>\n",
       "      <td>...</td>\n",
       "      <td>...</td>\n",
       "    </tr>\n",
       "    <tr>\n",
       "      <th>4</th>\n",
       "      <td>401.0</td>\n",
       "      <td>43144</td>\n",
       "      <td>24.0</td>\n",
       "      <td>399</td>\n",
       "      <td>10120</td>\n",
       "      <td>1440.0</td>\n",
       "    </tr>\n",
       "    <tr>\n",
       "      <th>4</th>\n",
       "      <td>5049.0</td>\n",
       "      <td>40738</td>\n",
       "      <td>3.0</td>\n",
       "      <td>6725</td>\n",
       "      <td>9563</td>\n",
       "      <td>7794.0</td>\n",
       "    </tr>\n",
       "    <tr>\n",
       "      <th>7</th>\n",
       "      <td>8145.0</td>\n",
       "      <td>47931</td>\n",
       "      <td>3.0</td>\n",
       "      <td>6725</td>\n",
       "      <td>11284</td>\n",
       "      <td>9563.0</td>\n",
       "    </tr>\n",
       "    <tr>\n",
       "      <th>10</th>\n",
       "      <td>8148.0</td>\n",
       "      <td>107100</td>\n",
       "      <td>15.0</td>\n",
       "      <td>6725</td>\n",
       "      <td>25087</td>\n",
       "      <td>11284.0</td>\n",
       "    </tr>\n",
       "    <tr>\n",
       "      <th>5</th>\n",
       "      <td>8755.0</td>\n",
       "      <td>125044</td>\n",
       "      <td>0.0</td>\n",
       "      <td>12808</td>\n",
       "      <td>29336</td>\n",
       "      <td>29205.0</td>\n",
       "    </tr>\n",
       "  </tbody>\n",
       "</table>\n",
       "<p>6913 rows × 6 columns</p>\n",
       "</div>"
      ],
      "text/plain": [
       "    authid   index  year  source_authid    eid  previous_work\n",
       "3   5239.0   39388  10.0           3425   9248         5354.0\n",
       "4   5239.0   84058  13.0           3425  19620         9248.0\n",
       "1    392.0   69514   5.0           3451  16266        12515.0\n",
       "3   2251.0   57328   6.0           3451  13474         9401.0\n",
       "4     61.0    4944   5.0             67   1138          229.0\n",
       "..     ...     ...   ...            ...    ...            ...\n",
       "4    401.0   43144  24.0            399  10120         1440.0\n",
       "4   5049.0   40738   3.0           6725   9563         7794.0\n",
       "7   8145.0   47931   3.0           6725  11284         9563.0\n",
       "10  8148.0  107100  15.0           6725  25087        11284.0\n",
       "5   8755.0  125044   0.0          12808  29336        29205.0\n",
       "\n",
       "[6913 rows x 6 columns]"
      ]
     },
     "execution_count": 80,
     "metadata": {},
     "output_type": "execute_result"
    }
   ],
   "source": [
    "res = pd.DataFrame()\n",
    "auth_list = [i for i in range(int(authors_valid[\"authid\"].max()))]\n",
    "auth_list = random.sample(auth_list,len(auth_list))\n",
    "\n",
    "for i in range(5000):\n",
    "  res = pd.concat([res,coauthor_works(auth_list[i])],axis=\"index\")\n",
    "res"
   ]
  },
  {
   "cell_type": "code",
   "execution_count": 81,
   "metadata": {
    "execution": {
     "iopub.execute_input": "2024-06-21T02:23:39.748506Z",
     "iopub.status.busy": "2024-06-21T02:23:39.747437Z",
     "iopub.status.idle": "2024-06-21T02:23:39.758438Z",
     "shell.execute_reply": "2024-06-21T02:23:39.757718Z",
     "shell.execute_reply.started": "2024-06-21T02:23:39.748457Z"
    }
   },
   "outputs": [],
   "source": [
    "res.to_pickle(result_path + \"guimera_As_exposure_year.pickle\")"
   ]
  },
  {
   "cell_type": "code",
   "execution_count": 60,
   "metadata": {
    "execution": {
     "iopub.execute_input": "2024-06-28T02:23:11.698238Z",
     "iopub.status.busy": "2024-06-28T02:23:11.697841Z",
     "iopub.status.idle": "2024-06-28T02:23:12.149251Z",
     "shell.execute_reply": "2024-06-28T02:23:12.148798Z",
     "shell.execute_reply.started": "2024-06-28T02:23:11.698219Z"
    }
   },
   "outputs": [
    {
     "name": "stderr",
     "output_type": "stream",
     "text": [
      "No artists with labels found to put in legend.  Note that artists whose label start with an underscore are ignored when legend() is called with no argument.\n"
     ]
    },
    {
     "name": "stdout",
     "output_type": "stream",
     "text": [
      "1.4445757639150163\n",
      "1.0\n",
      "0.22371869712547382\n"
     ]
    },
    {
     "data": {
      "text/plain": [
       "(2e-05, 2)"
      ]
     },
     "execution_count": 60,
     "metadata": {},
     "output_type": "execute_result"
    },
    {
     "data": {
      "image/png": "[encoded data removed]",
      "text/plain": [
       "<Figure size 640x480 with 1 Axes>"
      ]
     },
     "metadata": {},
     "output_type": "display_data"
    }
   ],
   "source": [
    "import powerlaw\n",
    "\n",
    "plotter(res[\"year\"],count=\"probability\", c=\"orange\")\n",
    "powerlaw.plot_pdf(res[res[\"year\"]>0][\"year\"], c=\"orange\")\n",
    "fit = powerlaw.Fit(res[(res[\"year\"]>0) * (res[\"year\"]<20)][\"year\"], xmin=1, discrete=True)\n",
    "print(fit.alpha)\n",
    "print(fit.xmin)\n",
    "print(fit.D)\n",
    "plt.ylim(2*10**(-5),2)"
   ]
  },
  {
   "cell_type": "code",
   "execution_count": 55,
   "metadata": {
    "execution": {
     "iopub.execute_input": "2024-06-28T02:22:22.063694Z",
     "iopub.status.busy": "2024-06-28T02:22:22.063059Z",
     "iopub.status.idle": "2024-06-28T02:22:22.070856Z",
     "shell.execute_reply": "2024-06-28T02:22:22.070435Z",
     "shell.execute_reply.started": "2024-06-28T02:22:22.063671Z"
    }
   },
   "outputs": [
    {
     "data": {
      "text/plain": [
       "3     10.0\n",
       "4     13.0\n",
       "1      5.0\n",
       "3      6.0\n",
       "4      5.0\n",
       "      ... \n",
       "4     24.0\n",
       "4      3.0\n",
       "7      3.0\n",
       "10    15.0\n",
       "5      0.0\n",
       "Name: year, Length: 6913, dtype: float64"
      ]
     },
     "execution_count": 55,
     "metadata": {},
     "output_type": "execute_result"
    }
   ],
   "source": [
    "res = pd.read_pickle(result_path + \"guimera_As_exposure_year.pickle\")\n",
    "res[\"year\"]"
   ]
  },
  {
   "cell_type": "code",
   "execution_count": 62,
   "metadata": {
    "execution": {
     "iopub.execute_input": "2024-06-28T02:23:26.909028Z",
     "iopub.status.busy": "2024-06-28T02:23:26.908435Z",
     "iopub.status.idle": "2024-06-28T02:23:27.149998Z",
     "shell.execute_reply": "2024-06-28T02:23:27.149506Z",
     "shell.execute_reply.started": "2024-06-28T02:23:26.909005Z"
    }
   },
   "outputs": [
    {
     "data": {
      "text/plain": [
       "<Axes: >"
      ]
     },
     "execution_count": 62,
     "metadata": {},
     "output_type": "execute_result"
    },
    {
     "data": {
      "image/png": "[encoded data removed]",
      "text/plain": [
       "<Figure size 640x480 with 1 Axes>"
      ]
     },
     "metadata": {},
     "output_type": "display_data"
    }
   ],
   "source": [
    "powerlaw.plot_pdf((res[\"year\"].values+1)/10)"
   ]
  },
  {
   "cell_type": "code",
   "execution_count": 64,
   "metadata": {
    "execution": {
     "iopub.execute_input": "2024-06-28T02:24:21.809665Z",
     "iopub.status.busy": "2024-06-28T02:24:21.809106Z",
     "iopub.status.idle": "2024-06-28T02:24:21.813372Z",
     "shell.execute_reply": "2024-06-28T02:24:21.812931Z",
     "shell.execute_reply.started": "2024-06-28T02:24:21.809642Z"
    }
   },
   "outputs": [
    {
     "data": {
      "text/plain": [
       "6913"
      ]
     },
     "execution_count": 64,
     "metadata": {},
     "output_type": "execute_result"
    }
   ],
   "source": [
    "res[\"year\"].shape[0]"
   ]
  },
  {
   "cell_type": "code",
   "execution_count": 66,
   "metadata": {
    "execution": {
     "iopub.execute_input": "2024-06-28T02:26:06.728450Z",
     "iopub.status.busy": "2024-06-28T02:26:06.727790Z",
     "iopub.status.idle": "2024-06-28T02:26:06.731689Z",
     "shell.execute_reply": "2024-06-28T02:26:06.731287Z",
     "shell.execute_reply.started": "2024-06-28T02:26:06.728428Z"
    }
   },
   "outputs": [],
   "source": [
    "res = res.sort_values(\"year\")"
   ]
  },
  {
   "cell_type": "code",
   "execution_count": 71,
   "metadata": {
    "execution": {
     "iopub.execute_input": "2024-06-28T02:27:02.349641Z",
     "iopub.status.busy": "2024-06-28T02:27:02.348952Z",
     "iopub.status.idle": "2024-06-28T02:27:02.359301Z",
     "shell.execute_reply": "2024-06-28T02:27:02.358895Z",
     "shell.execute_reply.started": "2024-06-28T02:27:02.349617Z"
    }
   },
   "outputs": [
    {
     "data": {
      "text/html": [
       "<div>\n",
       "<style scoped>\n",
       "    .dataframe tbody tr th:only-of-type {\n",
       "        vertical-align: middle;\n",
       "    }\n",
       "\n",
       "    .dataframe tbody tr th {\n",
       "        vertical-align: top;\n",
       "    }\n",
       "\n",
       "    .dataframe thead th {\n",
       "        text-align: right;\n",
       "    }\n",
       "</style>\n",
       "<table border=\"1\" class=\"dataframe\">\n",
       "  <thead>\n",
       "    <tr style=\"text-align: right;\">\n",
       "      <th></th>\n",
       "      <th>authid</th>\n",
       "      <th>index</th>\n",
       "      <th>year</th>\n",
       "      <th>eid</th>\n",
       "      <th>previous_work</th>\n",
       "    </tr>\n",
       "    <tr>\n",
       "      <th>source_authid</th>\n",
       "      <th></th>\n",
       "      <th></th>\n",
       "      <th></th>\n",
       "      <th></th>\n",
       "      <th></th>\n",
       "    </tr>\n",
       "  </thead>\n",
       "  <tbody>\n",
       "    <tr>\n",
       "      <th>1</th>\n",
       "      <td>124</td>\n",
       "      <td>124</td>\n",
       "      <td>124</td>\n",
       "      <td>124</td>\n",
       "      <td>124</td>\n",
       "    </tr>\n",
       "    <tr>\n",
       "      <th>3</th>\n",
       "      <td>70</td>\n",
       "      <td>70</td>\n",
       "      <td>70</td>\n",
       "      <td>70</td>\n",
       "      <td>70</td>\n",
       "    </tr>\n",
       "    <tr>\n",
       "      <th>5</th>\n",
       "      <td>60</td>\n",
       "      <td>60</td>\n",
       "      <td>60</td>\n",
       "      <td>60</td>\n",
       "      <td>60</td>\n",
       "    </tr>\n",
       "    <tr>\n",
       "      <th>6</th>\n",
       "      <td>31</td>\n",
       "      <td>31</td>\n",
       "      <td>31</td>\n",
       "      <td>31</td>\n",
       "      <td>31</td>\n",
       "    </tr>\n",
       "    <tr>\n",
       "      <th>8</th>\n",
       "      <td>81</td>\n",
       "      <td>81</td>\n",
       "      <td>81</td>\n",
       "      <td>81</td>\n",
       "      <td>81</td>\n",
       "    </tr>\n",
       "    <tr>\n",
       "      <th>...</th>\n",
       "      <td>...</td>\n",
       "      <td>...</td>\n",
       "      <td>...</td>\n",
       "      <td>...</td>\n",
       "      <td>...</td>\n",
       "    </tr>\n",
       "    <tr>\n",
       "      <th>27663</th>\n",
       "      <td>1</td>\n",
       "      <td>1</td>\n",
       "      <td>1</td>\n",
       "      <td>1</td>\n",
       "      <td>1</td>\n",
       "    </tr>\n",
       "    <tr>\n",
       "      <th>27685</th>\n",
       "      <td>2</td>\n",
       "      <td>2</td>\n",
       "      <td>2</td>\n",
       "      <td>2</td>\n",
       "      <td>2</td>\n",
       "    </tr>\n",
       "    <tr>\n",
       "      <th>28642</th>\n",
       "      <td>1</td>\n",
       "      <td>1</td>\n",
       "      <td>1</td>\n",
       "      <td>1</td>\n",
       "      <td>1</td>\n",
       "    </tr>\n",
       "    <tr>\n",
       "      <th>28796</th>\n",
       "      <td>1</td>\n",
       "      <td>1</td>\n",
       "      <td>1</td>\n",
       "      <td>1</td>\n",
       "      <td>1</td>\n",
       "    </tr>\n",
       "    <tr>\n",
       "      <th>30671</th>\n",
       "      <td>1</td>\n",
       "      <td>1</td>\n",
       "      <td>1</td>\n",
       "      <td>1</td>\n",
       "      <td>1</td>\n",
       "    </tr>\n",
       "  </tbody>\n",
       "</table>\n",
       "<p>2230 rows × 5 columns</p>\n",
       "</div>"
      ],
      "text/plain": [
       "               authid  index  year  eid  previous_work\n",
       "source_authid                                         \n",
       "1                 124    124   124  124            124\n",
       "3                  70     70    70   70             70\n",
       "5                  60     60    60   60             60\n",
       "6                  31     31    31   31             31\n",
       "8                  81     81    81   81             81\n",
       "...               ...    ...   ...  ...            ...\n",
       "27663               1      1     1    1              1\n",
       "27685               2      2     2    2              2\n",
       "28642               1      1     1    1              1\n",
       "28796               1      1     1    1              1\n",
       "30671               1      1     1    1              1\n",
       "\n",
       "[2230 rows x 5 columns]"
      ]
     },
     "execution_count": 71,
     "metadata": {},
     "output_type": "execute_result"
    }
   ],
   "source": [
    "res.groupby(\"source_authid\").count()"
   ]
  },
  {
   "cell_type": "code",
   "execution_count": 81,
   "metadata": {
    "execution": {
     "iopub.execute_input": "2024-06-28T02:31:32.694084Z",
     "iopub.status.busy": "2024-06-28T02:31:32.693428Z",
     "iopub.status.idle": "2024-06-28T02:31:32.702260Z",
     "shell.execute_reply": "2024-06-28T02:31:32.701644Z",
     "shell.execute_reply.started": "2024-06-28T02:31:32.694060Z"
    }
   },
   "outputs": [
    {
     "data": {
      "text/html": [
       "<div>\n",
       "<style scoped>\n",
       "    .dataframe tbody tr th:only-of-type {\n",
       "        vertical-align: middle;\n",
       "    }\n",
       "\n",
       "    .dataframe tbody tr th {\n",
       "        vertical-align: top;\n",
       "    }\n",
       "\n",
       "    .dataframe thead th {\n",
       "        text-align: right;\n",
       "    }\n",
       "</style>\n",
       "<table border=\"1\" class=\"dataframe\">\n",
       "  <thead>\n",
       "    <tr style=\"text-align: right;\">\n",
       "      <th></th>\n",
       "      <th>eid</th>\n",
       "      <th>authid</th>\n",
       "      <th>year</th>\n",
       "    </tr>\n",
       "  </thead>\n",
       "  <tbody>\n",
       "    <tr>\n",
       "      <th>0</th>\n",
       "      <td>0</td>\n",
       "      <td>0.0</td>\n",
       "      <td>1969</td>\n",
       "    </tr>\n",
       "    <tr>\n",
       "      <th>1</th>\n",
       "      <td>0</td>\n",
       "      <td>1.0</td>\n",
       "      <td>1969</td>\n",
       "    </tr>\n",
       "    <tr>\n",
       "      <th>2</th>\n",
       "      <td>0</td>\n",
       "      <td>2.0</td>\n",
       "      <td>1969</td>\n",
       "    </tr>\n",
       "    <tr>\n",
       "      <th>3</th>\n",
       "      <td>0</td>\n",
       "      <td>3.0</td>\n",
       "      <td>1969</td>\n",
       "    </tr>\n",
       "    <tr>\n",
       "      <th>4</th>\n",
       "      <td>0</td>\n",
       "      <td>4.0</td>\n",
       "      <td>1969</td>\n",
       "    </tr>\n",
       "    <tr>\n",
       "      <th>...</th>\n",
       "      <td>...</td>\n",
       "      <td>...</td>\n",
       "      <td>...</td>\n",
       "    </tr>\n",
       "    <tr>\n",
       "      <th>130119</th>\n",
       "      <td>30551</td>\n",
       "      <td>17009.0</td>\n",
       "      <td>2020</td>\n",
       "    </tr>\n",
       "    <tr>\n",
       "      <th>130120</th>\n",
       "      <td>30551</td>\n",
       "      <td>3828.0</td>\n",
       "      <td>2020</td>\n",
       "    </tr>\n",
       "    <tr>\n",
       "      <th>130121</th>\n",
       "      <td>30551</td>\n",
       "      <td>6524.0</td>\n",
       "      <td>2020</td>\n",
       "    </tr>\n",
       "    <tr>\n",
       "      <th>130122</th>\n",
       "      <td>30551</td>\n",
       "      <td>9982.0</td>\n",
       "      <td>2020</td>\n",
       "    </tr>\n",
       "    <tr>\n",
       "      <th>130123</th>\n",
       "      <td>30551</td>\n",
       "      <td>2687.0</td>\n",
       "      <td>2020</td>\n",
       "    </tr>\n",
       "  </tbody>\n",
       "</table>\n",
       "<p>130124 rows × 3 columns</p>\n",
       "</div>"
      ],
      "text/plain": [
       "          eid   authid  year\n",
       "0           0      0.0  1969\n",
       "1           0      1.0  1969\n",
       "2           0      2.0  1969\n",
       "3           0      3.0  1969\n",
       "4           0      4.0  1969\n",
       "...       ...      ...   ...\n",
       "130119  30551  17009.0  2020\n",
       "130120  30551   3828.0  2020\n",
       "130121  30551   6524.0  2020\n",
       "130122  30551   9982.0  2020\n",
       "130123  30551   2687.0  2020\n",
       "\n",
       "[130124 rows x 3 columns]"
      ]
     },
     "execution_count": 81,
     "metadata": {},
     "output_type": "execute_result"
    }
   ],
   "source": [
    "authors_valid"
   ]
  },
  {
   "cell_type": "code",
   "execution_count": 90,
   "metadata": {
    "execution": {
     "iopub.execute_input": "2024-06-28T02:41:43.539964Z",
     "iopub.status.busy": "2024-06-28T02:41:43.539329Z",
     "iopub.status.idle": "2024-06-28T02:42:20.624809Z",
     "shell.execute_reply": "2024-06-28T02:42:20.623777Z",
     "shell.execute_reply.started": "2024-06-28T02:41:43.539941Z"
    }
   },
   "outputs": [],
   "source": [
    "authors_valid_emp = pd.read_pickle(result_path+\"authors_valid_As.pickle\")\n",
    "authors_valid_emp = authors_valid_emp.merge(pd.read_pickle(data_path+\"paper_detail/year.pickle\"), on=\"eid\", how=\"left\")\n",
    "interval_pub = authors_valid.sort_values(\"year\").groupby(\"authid\")[\"year\"].diff()\n",
    "interval_emp = authors_valid_emp.sort_values(\"year\").groupby(\"authid\")[\"year\"].diff()\n",
    "emp = pd.read_pickle(result_path+\"As_5k.pickle\")"
   ]
  },
  {
   "cell_type": "code",
   "execution_count": 91,
   "metadata": {
    "execution": {
     "iopub.execute_input": "2024-06-28T02:42:20.626506Z",
     "iopub.status.busy": "2024-06-28T02:42:20.626320Z",
     "iopub.status.idle": "2024-06-28T02:42:21.861313Z",
     "shell.execute_reply": "2024-06-28T02:42:21.860828Z",
     "shell.execute_reply.started": "2024-06-28T02:42:20.626485Z"
    }
   },
   "outputs": [
    {
     "name": "stderr",
     "output_type": "stream",
     "text": [
      "No artists with labels found to put in legend.  Note that artists whose label start with an underscore are ignored when legend() is called with no argument.\n",
      "/disks/qnap3/users/23-miura/coauth-interest/source/package/util.py:48: UserWarning: Attempt to set non-positive xlim on a log-scaled axis will be ignored.\n",
      "  plt.ylim(bottom, top)\n",
      "/disks/qnap3/users/23-miura/coauth-interest/source/package/util.py:49: UserWarning: Attempt to set non-positive ylim on a log-scaled axis will be ignored.\n",
      "  \n",
      "No artists with labels found to put in legend.  Note that artists whose label start with an underscore are ignored when legend() is called with no argument.\n",
      "No artists with labels found to put in legend.  Note that artists whose label start with an underscore are ignored when legend() is called with no argument.\n"
     ]
    },
    {
     "data": {
      "text/plain": [
       "(array([4.88964264e-01, 3.29020358e-01, 9.79365419e-02, 3.83677473e-02,\n",
       "        1.84032551e-02, 8.65588538e-03, 5.91335825e-03, 3.68203265e-03,\n",
       "        2.47311011e-03, 1.56814524e-03, 1.43689079e-03, 8.84240486e-04,\n",
       "        6.01007205e-04, 5.94099076e-04, 3.66130826e-04, 1.86519477e-04,\n",
       "        2.07243864e-04, 1.65795091e-04, 1.45070705e-04, 9.67138031e-05,\n",
       "        1.03621932e-04, 3.45406440e-05, 6.21731592e-05, 2.07243864e-05,\n",
       "        0.00000000e+00, 2.07243864e-05, 2.76325152e-05, 3.45406440e-05,\n",
       "        6.90812880e-06, 0.00000000e+00, 0.00000000e+00, 1.38162576e-05]),\n",
       " array([ 1.5,  2.5,  3.5,  4.5,  5.5,  6.5,  7.5,  8.5,  9.5, 10.5, 11.5,\n",
       "        12.5, 13.5, 14.5, 15.5, 16.5, 17.5, 18.5, 19.5, 20.5, 21.5, 22.5,\n",
       "        23.5, 24.5, 25.5, 26.5, 27.5, 28.5, 29.5, 30.5, 31.5, 32.5, 33.5]))"
      ]
     },
     "execution_count": 91,
     "metadata": {},
     "output_type": "execute_result"
    },
    {
     "data": {
      "image/png": "[encoded data removed]",
      "text/plain": [
       "<Figure size 640x480 with 1 Axes>"
      ]
     },
     "metadata": {},
     "output_type": "display_data"
    }
   ],
   "source": [
    "# empirical = pd.read_pickle(result_path+\"As_5k.pickle\")\n",
    "util.plotter(interval_pub.dropna(),c=\"orange\")\n",
    "util.plotter(interval_emp.dropna(),c=\"red\")\n",
    "util.plotter(emp[\"year\"].values+1)"
   ]
  },
  {
   "cell_type": "code",
   "execution_count": 78,
   "metadata": {
    "execution": {
     "iopub.execute_input": "2024-06-28T02:30:29.276759Z",
     "iopub.status.busy": "2024-06-28T02:30:29.276340Z",
     "iopub.status.idle": "2024-06-28T02:30:29.283257Z",
     "shell.execute_reply": "2024-06-28T02:30:29.282855Z",
     "shell.execute_reply.started": "2024-06-28T02:30:29.276739Z"
    }
   },
   "outputs": [
    {
     "data": {
      "text/plain": [
       "eid\n",
       "1329     26\n",
       "101      24\n",
       "798      21\n",
       "1003     20\n",
       "162      16\n",
       "         ..\n",
       "16189     1\n",
       "16211     1\n",
       "16223     1\n",
       "5590      1\n",
       "15044     1\n",
       "Length: 4145, dtype: int64"
      ]
     },
     "execution_count": 78,
     "metadata": {},
     "output_type": "execute_result"
    }
   ],
   "source": [
    "res.value_counts(\"eid\")"
   ]
  },
  {
   "cell_type": "code",
   "execution_count": 80,
   "metadata": {
    "execution": {
     "iopub.execute_input": "2024-06-28T02:30:55.009222Z",
     "iopub.status.busy": "2024-06-28T02:30:55.008881Z",
     "iopub.status.idle": "2024-06-28T02:30:55.495381Z",
     "shell.execute_reply": "2024-06-28T02:30:55.494899Z",
     "shell.execute_reply.started": "2024-06-28T02:30:55.009203Z"
    }
   },
   "outputs": [
    {
     "name": "stderr",
     "output_type": "stream",
     "text": [
      "No artists with labels found to put in legend.  Note that artists whose label start with an underscore are ignored when legend() is called with no argument.\n",
      "/disks/qnap3/users/23-miura/coauth-interest/source/package/util.py:49: UserWarning: Attempt to set non-positive ylim on a log-scaled axis will be ignored.\n",
      "  \n"
     ]
    },
    {
     "data": {
      "text/plain": [
       "(array([10044,  6114,  4047,  2814,  1931,  1386,  1076,   772,   632,\n",
       "          490,   383,   305,   263,   212,   164,   155,   109,    89,\n",
       "           81,    70,    53,    47,    39,    35,    25,    30,    21,\n",
       "           21,    23,    29,    14,    17,     6,     8,    10,    12,\n",
       "            8,    10,     9,     6,     9,     4,     4,     5,     7,\n",
       "            6,     3,     2,     3,     0,     3,     7,     4,     0,\n",
       "            3,     0,     0,     3,     1,     3,     0,     1,     0,\n",
       "            1,     3,     0,     0,     0,     2,     2,     0,     1,\n",
       "            1,     0,     0,     0,     0,     1,     2,     2,     0,\n",
       "            2,     0,     0,     1,     3,     0,     0,     0,     0,\n",
       "            0,     0,     0,     0,     0,     0,     0,     0,     0,\n",
       "            0,     0,     0,     1,     0,     0,     0,     0,     0,\n",
       "            0,     0,     0,     0,     0,     0,     0,     0,     0,\n",
       "            0,     0,     0,     0,     0,     0,     0,     0,     0,\n",
       "            0,     0,     0,     0,     0,     0,     0,     0,     0,\n",
       "            0,     0,     0,     0,     0,     0,     0,     0,     0,\n",
       "            0,     0,     0,     0,     0,     0,     0,     0,     0]),\n",
       " array([  1.5,   2.5,   3.5,   4.5,   5.5,   6.5,   7.5,   8.5,   9.5,\n",
       "         10.5,  11.5,  12.5,  13.5,  14.5,  15.5,  16.5,  17.5,  18.5,\n",
       "         19.5,  20.5,  21.5,  22.5,  23.5,  24.5,  25.5,  26.5,  27.5,\n",
       "         28.5,  29.5,  30.5,  31.5,  32.5,  33.5,  34.5,  35.5,  36.5,\n",
       "         37.5,  38.5,  39.5,  40.5,  41.5,  42.5,  43.5,  44.5,  45.5,\n",
       "         46.5,  47.5,  48.5,  49.5,  50.5,  51.5,  52.5,  53.5,  54.5,\n",
       "         55.5,  56.5,  57.5,  58.5,  59.5,  60.5,  61.5,  62.5,  63.5,\n",
       "         64.5,  65.5,  66.5,  67.5,  68.5,  69.5,  70.5,  71.5,  72.5,\n",
       "         73.5,  74.5,  75.5,  76.5,  77.5,  78.5,  79.5,  80.5,  81.5,\n",
       "         82.5,  83.5,  84.5,  85.5,  86.5,  87.5,  88.5,  89.5,  90.5,\n",
       "         91.5,  92.5,  93.5,  94.5,  95.5,  96.5,  97.5,  98.5,  99.5,\n",
       "        100.5, 101.5, 102.5, 103.5, 104.5, 105.5, 106.5, 107.5, 108.5,\n",
       "        109.5, 110.5, 111.5, 112.5, 113.5, 114.5, 115.5, 116.5, 117.5,\n",
       "        118.5, 119.5, 120.5, 121.5, 122.5, 123.5, 124.5, 125.5, 126.5,\n",
       "        127.5, 128.5, 129.5, 130.5, 131.5, 132.5, 133.5, 134.5, 135.5,\n",
       "        136.5, 137.5, 138.5, 139.5, 140.5, 141.5, 142.5, 143.5, 144.5,\n",
       "        145.5, 146.5, 147.5, 148.5, 149.5, 150.5, 151.5, 152.5, 153.5,\n",
       "        154.5]))"
      ]
     },
     "execution_count": 80,
     "metadata": {},
     "output_type": "execute_result"
    },
    {
     "data": {
      "image/png": "[encoded data removed]",
      "text/plain": [
       "<Figure size 640x480 with 1 Axes>"
      ]
     },
     "metadata": {},
     "output_type": "display_data"
    }
   ],
   "source": [
    "plotter(authors_valid.groupby(\"authid\")[\"eid\"].nunique(),count=\"number\",c=\"red\")"
   ]
  },
  {
   "cell_type": "code",
   "execution_count": 156,
   "metadata": {
    "execution": {
     "iopub.execute_input": "2024-06-19T06:45:11.848825Z",
     "iopub.status.busy": "2024-06-19T06:45:11.847734Z",
     "iopub.status.idle": "2024-06-19T06:45:12.307805Z",
     "shell.execute_reply": "2024-06-19T06:45:12.307231Z",
     "shell.execute_reply.started": "2024-06-19T06:45:11.848776Z"
    }
   },
   "outputs": [
    {
     "name": "stdout",
     "output_type": "stream",
     "text": [
      "435499\n"
     ]
    }
   ],
   "source": [
    "import networkx as nx\n",
    "import itertools\n",
    "\n",
    "# 例のセット\n",
    "pairs = []\n",
    "# セット内の全てのペアを取り出す\n",
    "for c in coauth:\n",
    "  pairs += list(itertools.combinations(c, 2))\n",
    "\n",
    "G = nx.Graph()\n",
    "\n",
    "print(len(pairs))\n",
    "G.add_edges_from(pairs)\n",
    "\n",
    "# nx.draw(G, node_size=5)"
   ]
  },
  {
   "cell_type": "code",
   "execution_count": 157,
   "metadata": {
    "execution": {
     "iopub.execute_input": "2024-06-19T06:45:12.309170Z",
     "iopub.status.busy": "2024-06-19T06:45:12.308803Z",
     "iopub.status.idle": "2024-06-19T06:45:12.364223Z",
     "shell.execute_reply": "2024-06-19T06:45:12.363557Z",
     "shell.execute_reply.started": "2024-06-19T06:45:12.309147Z"
    },
    "scrolled": true
   },
   "outputs": [
    {
     "data": {
      "text/plain": [
       "(31409, 32004, 0.981408573928259)"
      ]
     },
     "execution_count": 157,
     "metadata": {},
     "output_type": "execute_result"
    }
   ],
   "source": [
    "connected_components = max(nx.connected_components(G),key=len)\n",
    "len(connected_components), len(G.nodes), len(connected_components)/len(G.nodes)"
   ]
  },
  {
   "cell_type": "code",
   "execution_count": 159,
   "metadata": {
    "execution": {
     "iopub.execute_input": "2024-06-19T06:47:49.724271Z",
     "iopub.status.busy": "2024-06-19T06:47:49.723622Z",
     "iopub.status.idle": "2024-06-19T06:48:07.185492Z",
     "shell.execute_reply": "2024-06-19T06:48:07.184678Z",
     "shell.execute_reply.started": "2024-06-19T06:47:49.724223Z"
    }
   },
   "outputs": [
    {
     "data": {
      "text/html": [
       "<div>\n",
       "<style scoped>\n",
       "    .dataframe tbody tr th:only-of-type {\n",
       "        vertical-align: middle;\n",
       "    }\n",
       "\n",
       "    .dataframe tbody tr th {\n",
       "        vertical-align: top;\n",
       "    }\n",
       "\n",
       "    .dataframe thead th {\n",
       "        text-align: right;\n",
       "    }\n",
       "</style>\n",
       "<table border=\"1\" class=\"dataframe\">\n",
       "  <thead>\n",
       "    <tr style=\"text-align: right;\">\n",
       "      <th></th>\n",
       "      <th>eid</th>\n",
       "      <th>authid</th>\n",
       "      <th>year</th>\n",
       "    </tr>\n",
       "  </thead>\n",
       "  <tbody>\n",
       "    <tr>\n",
       "      <th>0</th>\n",
       "      <td>85015254545</td>\n",
       "      <td>57206132735</td>\n",
       "      <td>2017</td>\n",
       "    </tr>\n",
       "    <tr>\n",
       "      <th>1</th>\n",
       "      <td>85015254545</td>\n",
       "      <td>48861896500</td>\n",
       "      <td>2017</td>\n",
       "    </tr>\n",
       "    <tr>\n",
       "      <th>2</th>\n",
       "      <td>85015254545</td>\n",
       "      <td>56888819000</td>\n",
       "      <td>2017</td>\n",
       "    </tr>\n",
       "    <tr>\n",
       "      <th>3</th>\n",
       "      <td>85015254545</td>\n",
       "      <td>7101811799</td>\n",
       "      <td>2017</td>\n",
       "    </tr>\n",
       "    <tr>\n",
       "      <th>4</th>\n",
       "      <td>85015329868</td>\n",
       "      <td>7402965220</td>\n",
       "      <td>2015</td>\n",
       "    </tr>\n",
       "  </tbody>\n",
       "</table>\n",
       "</div>"
      ],
      "text/plain": [
       "           eid       authid  year\n",
       "0  85015254545  57206132735  2017\n",
       "1  85015254545  48861896500  2017\n",
       "2  85015254545  56888819000  2017\n",
       "3  85015254545   7101811799  2017\n",
       "4  85015329868   7402965220  2015"
      ]
     },
     "execution_count": 159,
     "metadata": {},
     "output_type": "execute_result"
    }
   ],
   "source": [
    "coauth_history_As = pd.merge(authors_valid_As[[\"eid\",\"authid\"]],year_df,on=\"eid\",how=\"left\")\n",
    "coauth_history_As.head()"
   ]
  },
  {
   "cell_type": "code",
   "execution_count": 166,
   "metadata": {
    "execution": {
     "iopub.execute_input": "2024-06-19T06:50:43.892238Z",
     "iopub.status.busy": "2024-06-19T06:50:43.891799Z",
     "iopub.status.idle": "2024-06-19T06:51:37.232991Z",
     "shell.execute_reply": "2024-06-19T06:51:37.232305Z",
     "shell.execute_reply.started": "2024-06-19T06:50:43.892213Z"
    }
   },
   "outputs": [
    {
     "data": {
      "text/plain": [
       "[(7005148342, 7003508994), (6701832481, 6701835921), (6701832481, 16490681300)]"
      ]
     },
     "execution_count": 166,
     "metadata": {},
     "output_type": "execute_result"
    }
   ],
   "source": [
    "groups = authors_valid_As[[\"eid\",\"authid\"]].groupby(\"eid\")\n",
    "pairs_As = []\n",
    "  \n",
    "for g in groups:\n",
    "  pairs_As += list(itertools.combinations(g[1][\"authid\"].values, 2))\n",
    "pairs_As[:3]"
   ]
  },
  {
   "cell_type": "code",
   "execution_count": 168,
   "metadata": {
    "execution": {
     "iopub.execute_input": "2024-06-19T06:52:20.956238Z",
     "iopub.status.busy": "2024-06-19T06:52:20.955582Z",
     "iopub.status.idle": "2024-06-19T06:52:48.569599Z",
     "shell.execute_reply": "2024-06-19T06:52:48.568898Z",
     "shell.execute_reply.started": "2024-06-19T06:52:20.956193Z"
    }
   },
   "outputs": [
    {
     "name": "stdout",
     "output_type": "stream",
     "text": [
      "17851724\n"
     ]
    },
    {
     "data": {
      "text/plain": [
       "(559403, 610586, 0.916173970579083)"
      ]
     },
     "execution_count": 168,
     "metadata": {},
     "output_type": "execute_result"
    }
   ],
   "source": [
    "G_As = nx.Graph()\n",
    "\n",
    "print(len(pairs_As))\n",
    "G_As.add_edges_from(pairs_As)\n",
    "\n",
    "connected_components = max(nx.connected_components(G_As),key=len)\n",
    "len(connected_components), len(G_As.nodes), len(connected_components)/len(G_As.nodes)"
   ]
  },
  {
   "cell_type": "code",
   "execution_count": 185,
   "metadata": {
    "execution": {
     "iopub.execute_input": "2024-06-19T07:28:29.775899Z",
     "iopub.status.busy": "2024-06-19T07:28:29.775212Z",
     "iopub.status.idle": "2024-06-19T07:28:31.893968Z",
     "shell.execute_reply": "2024-06-19T07:28:31.893223Z",
     "shell.execute_reply.started": "2024-06-19T07:28:29.775849Z"
    }
   },
   "outputs": [
    {
     "data": {
      "image/png": "[encoded data removed]",
      "text/plain": [
       "<Figure size 640x480 with 1 Axes>"
      ]
     },
     "metadata": {},
     "output_type": "display_data"
    }
   ],
   "source": [
    "plt.hist([G.degree(n) for n in G.nodes()],density=True, bins=np.linspace(1,300,300),histtype=\"step\")\n",
    "plt.hist([G_As.degree(n) for n in G_As.nodes()],density=True, bins=np.linspace(1,300,300),histtype=\"step\",color=\"red\")\n",
    "\n",
    "plt.yscale(\"log\")\n",
    "plt.xscale(\"log\")"
   ]
  },
  {
   "cell_type": "code",
   "execution_count": null,
   "metadata": {},
   "outputs": [],
   "source": []
  }
 ],
 "metadata": {
  "kernelspec": {
   "display_name": "Python 3 (ipykernel)",
   "language": "python",
   "name": "python3"
  },
  "language_info": {
   "codemirror_mode": {
    "name": "ipython",
    "version": 3
   },
   "file_extension": ".py",
   "mimetype": "text/x-python",
   "name": "python",
   "nbconvert_exporter": "python",
   "pygments_lexer": "ipython3",
   "version": "3.10.12"
  }
 },
 "nbformat": 4,
 "nbformat_minor": 4
}
