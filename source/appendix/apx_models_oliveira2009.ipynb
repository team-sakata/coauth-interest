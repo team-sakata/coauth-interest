{
 "cells": [
  {
   "cell_type": "code",
   "execution_count": null,
   "metadata": {},
   "outputs": [],
   "source": [
    "import random\n",
    "import numpy as np\n",
    "import pandas as pd\n",
    "import matplotlib.pyplot as plt\n",
    "import tqdm"
   ]
  },
  {
   "cell_type": "code",
   "execution_count": 139,
   "metadata": {},
   "outputs": [
    {
     "name": "stderr",
     "output_type": "stream",
     "text": [
      "  0%|          | 0/50000 [00:00<?, ?it/s]"
     ]
    },
    {
     "name": "stderr",
     "output_type": "stream",
     "text": [
      "100%|██████████| 50000/50000 [00:48<00:00, 1028.17it/s]\n"
     ]
    }
   ],
   "source": [
    "p = 0.9\n",
    "p_interactive_task = 0.2\n",
    "first_task_length = 5\n",
    "\n",
    "agent1 = pd.DataFrame({\"priority\":[random.random() for i in range(first_task_length)],\\\n",
    "                       \"tasks\":[random.random()<=p_interactive_task for i in range(first_task_length)],\\\n",
    "                        \"interval\":[0 for i in range(first_task_length)]})\n",
    "agent2 = pd.DataFrame({\"priority\":[random.random() for i in range(first_task_length)],\\\n",
    "                       \"tasks\":[random.random()<=p_interactive_task for i in range(first_task_length)],\\\n",
    "                        \"interval\":[0 for i in range(first_task_length)]})\n",
    "\n",
    "def updatetask(agent):\n",
    "    l = max(agent.index.values)+1\n",
    "    agent[\"interval\"] += 1\n",
    "    newline = {\"priority\":random.random(),\\\n",
    "                \"tasks\":(random.random()<=p_interactive_task),\\\n",
    "                \"interval\":0}\n",
    "    return pd.concat([agent, pd.DataFrame(newline,index=[l]) ])\n",
    "\n",
    "int_tasks = []\n",
    "int_interactive = []\n",
    "j = 0\n",
    "for i in tqdm.tqdm(range(50000)):\n",
    "    if random.random()<=p:\n",
    "        task1 = agent1[agent1['priority']==agent1['priority'].max()]\n",
    "        # task2 = agent2[agent2['priority']==agent2['priority'].max()] # both\n",
    "    else:\n",
    "        task1 = agent1.sample()\n",
    "        # task2 = agent2.sample()\n",
    "    if random.random()<=p:\n",
    "        task2 = agent2[agent2['priority']==agent2['priority'].max()]\n",
    "    else:\n",
    "        task2 = agent2.sample()\n",
    "\n",
    "    if task1[\"tasks\"].values and task2[\"tasks\"].values:\n",
    "        int_interactive.append(j)\n",
    "        j=0\n",
    "    \n",
    "    agent1 = agent1.drop(task1.index)\n",
    "    agent2 = agent2.drop(task2.index)\n",
    "    agent1 = updatetask(agent1)\n",
    "    agent2 = updatetask(agent2)\n",
    "    int_tasks.append(task1[\"interval\"].values[0])\n",
    "    int_tasks.append(task2[\"interval\"].values[0])\n",
    "    j+=1"
   ]
  },
  {
   "cell_type": "code",
   "execution_count": 140,
   "metadata": {},
   "outputs": [
    {
     "data": {
      "text/plain": [
       "(100000, 1998)"
      ]
     },
     "execution_count": 140,
     "metadata": {},
     "output_type": "execute_result"
    }
   ],
   "source": [
    "len(int_tasks), len(int_interactive)"
   ]
  },
  {
   "cell_type": "code",
   "execution_count": 141,
   "metadata": {},
   "outputs": [
    {
     "data": {
      "image/png": "[encoded data removed]",
      "text/plain": [
       "<Figure size 640x480 with 1 Axes>"
      ]
     },
     "metadata": {},
     "output_type": "display_data"
    }
   ],
   "source": [
    "res = int_interactive\n",
    "bins = [i for i in range(int(min(res)),int(max(res)))]\n",
    "bins_plot = np.add(bins,0.5)\n",
    "hist,bins = np.histogram(res, bins=bins)\n",
    "plt.scatter(bins_plot[:-1], hist,color=\"blue\",s=5)\n",
    "\n",
    "plt.xscale(\"log\")\n",
    "plt.yscale(\"log\")\n",
    "plt.show()"
   ]
  },
  {
   "cell_type": "code",
   "execution_count": 138,
   "metadata": {},
   "outputs": [
    {
     "data": {
      "image/png": "[encoded data removed]",
      "text/plain": [
       "<Figure size 640x480 with 1 Axes>"
      ]
     },
     "metadata": {},
     "output_type": "display_data"
    }
   ],
   "source": [
    "res = int_tasks\n",
    "bins = [i for i in range(int(min(res)),int(max(res)))]\n",
    "bins_plot = np.add(bins,0.5)\n",
    "hist,bins = np.histogram(res, bins=bins)\n",
    "plt.scatter(bins_plot[:-1], hist,color=\"red\",s=5)\n",
    "\n",
    "plt.xscale(\"log\")\n",
    "plt.yscale(\"log\")\n",
    "plt.show()"
   ]
  },
  {
   "cell_type": "code",
   "execution_count": null,
   "metadata": {},
   "outputs": [],
   "source": []
  }
 ],
 "metadata": {
  "kernelspec": {
   "display_name": "Python 3",
   "language": "python",
   "name": "python3"
  },
  "language_info": {
   "codemirror_mode": {
    "name": "ipython",
    "version": 3
   },
   "file_extension": ".py",
   "mimetype": "text/x-python",
   "name": "python",
   "nbconvert_exporter": "python",
   "pygments_lexer": "ipython3",
   "version": "3.9.6"
  }
 },
 "nbformat": 4,
 "nbformat_minor": 2
}
