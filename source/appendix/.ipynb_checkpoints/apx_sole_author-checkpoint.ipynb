{
 "cells": [
  {
   "cell_type": "code",
   "execution_count": 13,
   "metadata": {},
   "outputs": [],
   "source": [
    "from dotenv import load_dotenv\n",
    "load_dotenv()\n",
    "\n",
    "import os\n",
    "data_path = os.getenv('DATA_PATH')\n",
    "result_path = os.getenv('RESULT_PATH')"
   ]
  },
  {
   "cell_type": "code",
   "execution_count": 16,
   "metadata": {},
   "outputs": [],
   "source": [
    "import pandas as pd\n",
    "import numpy as np\n",
    "import matplotlib.pyplot  as plt\n",
    "import random\n",
    "import math\n",
    "from scipy.stats import expon\n",
    "from scipy.stats import pareto\n",
    "import os\n",
    "\n",
    "from source.package.util import plotter"
   ]
  },
  {
   "cell_type": "code",
   "execution_count": 15,
   "metadata": {},
   "outputs": [],
   "source": [
    "year_df = pd.read_pickle(data_path+\"/paper_detail/year.pickle\")\n",
    "year_df = pd.DataFrame(year_df.sort_values())"
   ]
  },
  {
   "cell_type": "code",
   "execution_count": 17,
   "metadata": {},
   "outputs": [],
   "source": [
    "# 確率密度関数を定義します\n",
    "def power_law(x, alpha, xmin):\n",
    "    return math.exp(xmin)*x**alpha\n",
    "    # return (alpha - 1) / xmin * (x / xmin) ** (-alpha)\n",
    "# 直線の方程式を定義します\n",
    "def linear_func(x, m, b):\n",
    "    return m * x + b"
   ]
  },
  {
   "cell_type": "code",
   "execution_count": 89,
   "metadata": {},
   "outputs": [
    {
     "name": "stdout",
     "output_type": "stream",
     "text": [
      "So  has  3755690  works\n"
     ]
    },
    {
     "ename": "NameError",
     "evalue": "name 'year_df' is not defined",
     "output_type": "error",
     "traceback": [
      "\u001b[0;31m---------------------------------------------------------------------------\u001b[0m",
      "\u001b[0;31mNameError\u001b[0m                                 Traceback (most recent call last)",
      "Cell \u001b[0;32mIn[89], line 10\u001b[0m\n\u001b[1;32m      7\u001b[0m sole_authorship \u001b[38;5;241m=\u001b[39m authors_valid[authors_valid[\u001b[38;5;124m\"\u001b[39m\u001b[38;5;124meid\u001b[39m\u001b[38;5;124m\"\u001b[39m]\u001b[38;5;241m.\u001b[39misin(sole_works)]\n\u001b[1;32m      8\u001b[0m \u001b[38;5;28mprint\u001b[39m(d,\u001b[38;5;124m\"\u001b[39m\u001b[38;5;124m has \u001b[39m\u001b[38;5;124m\"\u001b[39m,\u001b[38;5;28mlen\u001b[39m(sole_works),\u001b[38;5;124m\"\u001b[39m\u001b[38;5;124m works\u001b[39m\u001b[38;5;124m\"\u001b[39m)\n\u001b[0;32m---> 10\u001b[0m syear \u001b[38;5;241m=\u001b[39m pd\u001b[38;5;241m.\u001b[39mmerge(sole_authorship,\u001b[43myear_df\u001b[49m, how\u001b[38;5;241m=\u001b[39m\u001b[38;5;124m\"\u001b[39m\u001b[38;5;124mleft\u001b[39m\u001b[38;5;124m\"\u001b[39m, on\u001b[38;5;241m=\u001b[39m\u001b[38;5;124m\"\u001b[39m\u001b[38;5;124meid\u001b[39m\u001b[38;5;124m\"\u001b[39m)\u001b[38;5;241m.\u001b[39msort_values(\u001b[38;5;124m\"\u001b[39m\u001b[38;5;124myear\u001b[39m\u001b[38;5;124m\"\u001b[39m)\n\u001b[1;32m     11\u001b[0m df_seqyear_delta \u001b[38;5;241m=\u001b[39m syear\u001b[38;5;241m.\u001b[39mgroupby(\u001b[38;5;124m\"\u001b[39m\u001b[38;5;124mauthid\u001b[39m\u001b[38;5;124m\"\u001b[39m)[\u001b[38;5;124m\"\u001b[39m\u001b[38;5;124myear\u001b[39m\u001b[38;5;124m\"\u001b[39m]\u001b[38;5;241m.\u001b[39mapply(\u001b[38;5;28;01mlambda\u001b[39;00m x: x \u001b[38;5;241m-\u001b[39m x\u001b[38;5;241m.\u001b[39mshift())\u001b[38;5;241m.\u001b[39mdropna()\n\u001b[1;32m     12\u001b[0m df_seqyear_delta\u001b[38;5;241m.\u001b[39mto_pickle(\u001b[38;5;124mf\u001b[39m\u001b[38;5;124m\"\u001b[39m\u001b[38;5;124m./result/\u001b[39m\u001b[38;5;132;01m{\u001b[39;00md\u001b[38;5;132;01m}\u001b[39;00m\u001b[38;5;124m_soleauthor.pickle\u001b[39m\u001b[38;5;124m\"\u001b[39m)\n",
      "\u001b[0;31mNameError\u001b[0m: name 'year_df' is not defined"
     ]
    }
   ],
   "source": [
    "disciplines = [\"So\",\"CS\",\"EB\",\"PM\",\"Ne\",\"Im\",\"Nt\",\"Ch\",\"Ps\",\"Mol-Md\",\"Cli-Md\",\"AB\",\"As\",\"Ma\"] \n",
    "\n",
    "for d in disciplines:\n",
    "    authors_valid = pd.read_pickle(result_path+f\"/authors_valid_{d}.pickle\")\n",
    "    author_count = authors_valid.groupby(\"eid\")[\"authid\"].count()\n",
    "    sole_works = author_count[author_count==1].index.values\n",
    "    sole_authorship = authors_valid[authors_valid[\"eid\"].isin(sole_works)]\n",
    "    print(d,\" has \",len(sole_works),\" works\")\n",
    "    \n",
    "    syear = pd.merge(sole_authorship,year_df, how=\"left\", on=\"eid\").sort_values(\"year\")\n",
    "    df_seqyear_delta = syear.groupby(\"authid\")[\"year\"].apply(lambda x: x - x.shift()).dropna()\n",
    "    df_seqyear_delta.to_pickle(f\"./result/{d}_soleauthor.pickle\")\n",
    "    \n",
    "    data = df_seqyear_delta[df_seqyear_delta>0]\n",
    "    plt = plot_power(d, data=data)\n",
    "    plt.savefig(f\"./result/{d}_soleauthor_power.png\")\n",
    "    \n",
    "    plt = plot_expon(d, data=data)\n",
    "    plt.savefig(f\"./result/{d}_soleauthor_expon.png\")"
   ]
  },
  {
   "cell_type": "code",
   "execution_count": 92,
   "metadata": {},
   "outputs": [],
   "source": []
  }
 ],
 "metadata": {
  "kernelspec": {
   "display_name": "Python 3 (ipykernel)",
   "language": "python",
   "name": "python3"
  },
  "language_info": {
   "codemirror_mode": {
    "name": "ipython",
    "version": 3
   },
   "file_extension": ".py",
   "mimetype": "text/x-python",
   "name": "python",
   "nbconvert_exporter": "python",
   "pygments_lexer": "ipython3",
   "version": "3.10.12"
  }
 },
 "nbformat": 4,
 "nbformat_minor": 2
}
