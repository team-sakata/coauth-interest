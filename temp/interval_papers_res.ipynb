{
 "cells": [
  {
   "cell_type": "code",
   "execution_count": 1,
   "metadata": {},
   "outputs": [],
   "source": [
    "from dotenv import load_dotenv\n",
    "load_dotenv()\n",
    "\n",
    "import os\n",
    "data_path = os.getenv('DATA_PATH')\n",
    "result_path = os.getenv('RESULT_PATH')"
   ]
  },
  {
   "cell_type": "code",
   "execution_count": 2,
   "metadata": {},
   "outputs": [],
   "source": [
    "import pandas as pd\n",
    "import numpy as np\n",
    "import matplotlib.pyplot  as plt\n",
    "import random\n",
    "from scipy.stats import expon\n",
    "from scipy.stats import pareto\n",
    "import os\n",
    "\n",
    "from package.util import plotter"
   ]
  },
  {
   "cell_type": "code",
   "execution_count": 11,
   "metadata": {},
   "outputs": [
    {
     "data": {
      "text/plain": [
       "<module 'package.util' from '/disks/qnap3/users/23-miura/coauth-interest/source/package/util.py'>"
      ]
     },
     "execution_count": 11,
     "metadata": {},
     "output_type": "execute_result"
    }
   ],
   "source": [
    "import package.util\n",
    "\n",
    "import importlib\n",
    "importlib.reload(package.util)\n"
   ]
  },
  {
   "cell_type": "code",
   "execution_count": 4,
   "metadata": {},
   "outputs": [],
   "source": [
    "res = pd.read_pickle(result_path + 'As_100k.pickle')\n",
    "tbp = pd.read_pickle(result_path + 'time_between_publications.pickle')"
   ]
  },
  {
   "cell_type": "code",
   "execution_count": 6,
   "metadata": {},
   "outputs": [
    {
     "data": {
      "text/html": [
       "<div>\n",
       "<style scoped>\n",
       "    .dataframe tbody tr th:only-of-type {\n",
       "        vertical-align: middle;\n",
       "    }\n",
       "\n",
       "    .dataframe tbody tr th {\n",
       "        vertical-align: top;\n",
       "    }\n",
       "\n",
       "    .dataframe thead th {\n",
       "        text-align: right;\n",
       "    }\n",
       "</style>\n",
       "<table border=\"1\" class=\"dataframe\">\n",
       "  <thead>\n",
       "    <tr style=\"text-align: right;\">\n",
       "      <th></th>\n",
       "      <th>eid</th>\n",
       "      <th>authid</th>\n",
       "      <th>year</th>\n",
       "      <th>shuffled_year</th>\n",
       "    </tr>\n",
       "  </thead>\n",
       "  <tbody>\n",
       "    <tr>\n",
       "      <th>22875929</th>\n",
       "      <td>14792462</td>\n",
       "      <td>35399872200</td>\n",
       "      <td>1970</td>\n",
       "      <td>2008</td>\n",
       "    </tr>\n",
       "    <tr>\n",
       "      <th>57080137</th>\n",
       "      <td>14888096</td>\n",
       "      <td>7005560330</td>\n",
       "      <td>1970</td>\n",
       "      <td>1997</td>\n",
       "    </tr>\n",
       "    <tr>\n",
       "      <th>57080138</th>\n",
       "      <td>14901281</td>\n",
       "      <td>57217394287</td>\n",
       "      <td>1970</td>\n",
       "      <td>2018</td>\n",
       "    </tr>\n",
       "    <tr>\n",
       "      <th>57080139</th>\n",
       "      <td>14888097</td>\n",
       "      <td>7409818227</td>\n",
       "      <td>1970</td>\n",
       "      <td>2011</td>\n",
       "    </tr>\n",
       "    <tr>\n",
       "      <th>57080140</th>\n",
       "      <td>14901282</td>\n",
       "      <td>7101930432</td>\n",
       "      <td>1970</td>\n",
       "      <td>2016</td>\n",
       "    </tr>\n",
       "    <tr>\n",
       "      <th>...</th>\n",
       "      <td>...</td>\n",
       "      <td>...</td>\n",
       "      <td>...</td>\n",
       "      <td>...</td>\n",
       "    </tr>\n",
       "    <tr>\n",
       "      <th>86597809</th>\n",
       "      <td>85121394226</td>\n",
       "      <td>57201395607</td>\n",
       "      <td>2022</td>\n",
       "      <td>2015</td>\n",
       "    </tr>\n",
       "    <tr>\n",
       "      <th>86597810</th>\n",
       "      <td>85121394226</td>\n",
       "      <td>14054955600</td>\n",
       "      <td>2022</td>\n",
       "      <td>1981</td>\n",
       "    </tr>\n",
       "    <tr>\n",
       "      <th>86597811</th>\n",
       "      <td>85121394226</td>\n",
       "      <td>57192944024</td>\n",
       "      <td>2022</td>\n",
       "      <td>2013</td>\n",
       "    </tr>\n",
       "    <tr>\n",
       "      <th>219408465</th>\n",
       "      <td>85110282930</td>\n",
       "      <td>57226081428</td>\n",
       "      <td>2022</td>\n",
       "      <td>2014</td>\n",
       "    </tr>\n",
       "    <tr>\n",
       "      <th>206450126</th>\n",
       "      <td>85118129013</td>\n",
       "      <td>57216590836</td>\n",
       "      <td>2022</td>\n",
       "      <td>1998</td>\n",
       "    </tr>\n",
       "  </tbody>\n",
       "</table>\n",
       "<p>289839055 rows × 4 columns</p>\n",
       "</div>"
      ],
      "text/plain": [
       "                   eid       authid  year  shuffled_year\n",
       "22875929      14792462  35399872200  1970           2008\n",
       "57080137      14888096   7005560330  1970           1997\n",
       "57080138      14901281  57217394287  1970           2018\n",
       "57080139      14888097   7409818227  1970           2011\n",
       "57080140      14901282   7101930432  1970           2016\n",
       "...                ...          ...   ...            ...\n",
       "86597809   85121394226  57201395607  2022           2015\n",
       "86597810   85121394226  14054955600  2022           1981\n",
       "86597811   85121394226  57192944024  2022           2013\n",
       "219408465  85110282930  57226081428  2022           2014\n",
       "206450126  85118129013  57216590836  2022           1998\n",
       "\n",
       "[289839055 rows x 4 columns]"
      ]
     },
     "execution_count": 6,
     "metadata": {},
     "output_type": "execute_result"
    }
   ],
   "source": [
    "tbp"
   ]
  },
  {
   "cell_type": "code",
   "execution_count": null,
   "metadata": {},
   "outputs": [],
   "source": [
    "intervals = tbp[[\"year\",\"authid\"]].groupby(by=\"authid\").diff().dropna()\n",
    "print(\"done.\")\n",
    "intervals_shuffled = tbp[[\"shuffled_year\",\"authid\"]].groupby(by=\"authid\").diff().dropna()\n",
    "\n",
    "intervals.head(), intervals_shuffled.head()"
   ]
  },
  {
   "cell_type": "code",
   "execution_count": 17,
   "metadata": {},
   "outputs": [
    {
     "name": "stderr",
     "output_type": "stream",
     "text": [
      "No artists with labels found to put in legend.  Note that artists whose label start with an underscore are ignored when legend() is called with no argument.\n",
      "/disks/qnap3/users/23-miura/coauth-interest/source/package/util.py:44: UserWarning: Attempt to set non-positive xlim on a log-scaled axis will be ignored.\n",
      "  plt.xlim(left, right)\n",
      "No artists with labels found to put in legend.  Note that artists whose label start with an underscore are ignored when legend() is called with no argument.\n",
      "No artists with labels found to put in legend.  Note that artists whose label start with an underscore are ignored when legend() is called with no argument.\n"
     ]
    },
    {
     "data": {
      "text/plain": [
       "(array([4.91928135e-01, 3.17027963e-01, 9.89667300e-02, 3.76680995e-02,\n",
       "        2.01801180e-02, 1.06845755e-02, 7.00369869e-03, 4.48059324e-03,\n",
       "        3.32972855e-03, 2.15450886e-03, 1.64886995e-03, 1.20975291e-03,\n",
       "        8.70600423e-04, 6.06330483e-04, 5.17998164e-04, 3.70414126e-04,\n",
       "        3.26793228e-04, 2.13742400e-04, 1.86842847e-04, 1.32316724e-04,\n",
       "        1.04326648e-04, 7.19744818e-05, 6.32503022e-05, 4.36208980e-05,\n",
       "        4.03493307e-05, 5.37991076e-05, 1.99929116e-05, 2.10834341e-05,\n",
       "        1.30862694e-05, 1.30862694e-05, 1.19957470e-05, 9.45119458e-06,\n",
       "        2.18104490e-06, 6.17962722e-06, 3.99858232e-06, 3.27156735e-06,\n",
       "        2.18104490e-06, 1.09052245e-06, 1.45402993e-06, 2.54455239e-06,\n",
       "        0.00000000e+00, 2.18104490e-06, 3.63507484e-07, 0.00000000e+00,\n",
       "        0.00000000e+00, 0.00000000e+00, 0.00000000e+00, 3.63507484e-07]),\n",
       " array([ 0.5,  1.5,  2.5,  3.5,  4.5,  5.5,  6.5,  7.5,  8.5,  9.5, 10.5,\n",
       "        11.5, 12.5, 13.5, 14.5, 15.5, 16.5, 17.5, 18.5, 19.5, 20.5, 21.5,\n",
       "        22.5, 23.5, 24.5, 25.5, 26.5, 27.5, 28.5, 29.5, 30.5, 31.5, 32.5,\n",
       "        33.5, 34.5, 35.5, 36.5, 37.5, 38.5, 39.5, 40.5, 41.5, 42.5, 43.5,\n",
       "        44.5, 45.5, 46.5, 47.5, 48.5]))"
      ]
     },
     "execution_count": 17,
     "metadata": {},
     "output_type": "execute_result"
    },
    {
     "data": {
      "image/png": "[encoded data removed]",
      "text/plain": [
       "<Figure size 640x480 with 1 Axes>"
      ]
     },
     "metadata": {},
     "output_type": "display_data"
    }
   ],
   "source": [
    "package.util.plotter(intervals_shuffled.values,\n",
    "        count='probability',\n",
    "        plot='power-law',\n",
    "        c='red',\n",
    "        xlabel='Time between publications',\n",
    "        ylabel='Probability',\n",
    "        title='Time between publications',\n",
    "        save=True,\n",
    "        path=result_path+'time_between_publications-shuffled.png'\n",
    ")\n",
    "\n",
    "package.util.plotter(intervals.values,\n",
    "        count='probability',\n",
    "        plot='power-law',\n",
    "        xlabel='Time between publications',\n",
    "        ylabel='Probability',\n",
    "        title='Time between publications',\n",
    "        save=True,\n",
    "        path=result_path+'time_between_publications.png'\n",
    ")\n",
    "\n",
    "package.util.plotter(res[\"year\"].values,\n",
    "        count='probability',\n",
    "        plot='power-law',\n",
    "        c='orange',\n",
    "        xlabel='Time between publications',\n",
    "        ylabel='Probability',\n",
    "        title='Time between publications',\n",
    "        save=True,\n",
    "        path=result_path+'time_between_publications-As.png'\n",
    ")"
   ]
  },
  {
   "cell_type": "code",
   "execution_count": 20,
   "metadata": {},
   "outputs": [],
   "source": [
    "from powerlaw import Fit\n",
    "def calcfit(data):\n",
    "    fit = Fit(data)\n",
    "\n",
    "    # Print the results\n",
    "    print(fit.alpha)  # The power-law exponent\n",
    "    print(fit.sigma)  # The standard error of the exponent\n",
    "    print(fit.xmin)   # The lower bound of the power-law behavior\n",
    "    print(fit.D)      # The Kolmogorov-Smirnov statistic\n",
    "    print(fit.power_law.pdf(10))  # The probabili"
   ]
  },
  {
   "cell_type": "code",
   "execution_count": 22,
   "metadata": {},
   "outputs": [
    {
     "name": "stdout",
     "output_type": "stream",
     "text": [
      "Calculating best minimal value for power law fit\n",
      "4.341848449941368%\n",
      "0.006669439538359064\n",
      "4.0\n",
      "0.11287404021560854\n",
      "[0.01563621]\n",
      "Calculating best minimal value for power law fit\n",
      "13.538949276376368\n",
      "0.12723506285081598\n",
      "33.0\n",
      "0.0649768477958238\n",
      "[]\n"
     ]
    }
   ],
   "source": [
    "calcfit(res[res[\"year\"]<18][\"year\"]+1)\n",
    "calcfit(intervals[\"year\"].values+1)"
   ]
  },
  {
   "cell_type": "code",
   "execution_count": 23,
   "metadata": {},
   "outputs": [
    {
     "name": "stdout",
     "output_type": "stream",
     "text": [
      "Calculating best minimal value for power law fit\n",
      "4.685299436079884%\n",
      "0.0032916571649682248\n",
      "10.0\n",
      "0.07756621245453565\n",
      "[0.36852994]\n"
     ]
    }
   ],
   "source": [
    "temp = intervals[\"year\"].values\n",
    "calcfit(temp[temp<33]+1)"
   ]
  },
  {
   "cell_type": "code",
   "execution_count": 26,
   "metadata": {},
   "outputs": [
    {
     "ename": "ImportError",
     "evalue": "cannot import name 'lognormal' from 'powerlaw' (/usr/local/lib/python3.10/dist-packages/powerlaw.py)",
     "output_type": "error",
     "traceback": [
      "\u001b[0;31m---------------------------------------------------------------------------\u001b[0m",
      "\u001b[0;31mImportError\u001b[0m                               Traceback (most recent call last)",
      "Cell \u001b[0;32mIn[26], line 1\u001b[0m\n\u001b[0;32m----> 1\u001b[0m \u001b[38;5;28;01mfrom\u001b[39;00m \u001b[38;5;21;01mpowerlaw\u001b[39;00m \u001b[38;5;28;01mimport\u001b[39;00m lognormal, Fit\n\u001b[1;32m      3\u001b[0m \u001b[38;5;66;03m# Your data\u001b[39;00m\n\u001b[1;32m      4\u001b[0m data \u001b[38;5;241m=\u001b[39m intervals[\u001b[38;5;124m\"\u001b[39m\u001b[38;5;124myear\u001b[39m\u001b[38;5;124m\"\u001b[39m]\u001b[38;5;241m.\u001b[39mvalues\u001b[38;5;241m+\u001b[39m\u001b[38;5;241m1\u001b[39m\n",
      "\u001b[0;31mImportError\u001b[0m: cannot import name 'lognormal' from 'powerlaw' (/usr/local/lib/python3.10/dist-packages/powerlaw.py)"
     ]
    }
   ],
   "source": [
    "from powerlaw import lognormal, Fit\n",
    "\n",
    "# Your data\n",
    "data = intervals[\"year\"].values+1\n",
    "\n",
    "# Fit the data to the custom distribution\n",
    "fit = Fit(data, pdf=lognormal, xmin=1, discrete=True)\n",
    "\n",
    "# Print the results\n",
    "print(fit.alpha)  # The power-law exponent\n",
    "print(fit.sigma)  # The standard error of the exponent\n",
    "print(fit.xmin)   # The lower bound of the power-law behavior\n",
    "print(fit.D)      # The Kolmogorov-Smirnov statistic\n",
    "print(fit.pdf(10))  # The probability density function at x=10\n"
   ]
  }
 ],
 "metadata": {
  "kernelspec": {
   "display_name": "Python 3 (ipykernel)",
   "language": "python",
   "name": "python3"
  },
  "language_info": {
   "codemirror_mode": {
    "name": "ipython",
    "version": 3
   },
   "file_extension": ".py",
   "mimetype": "text/x-python",
   "name": "python",
   "nbconvert_exporter": "python",
   "pygments_lexer": "ipython3",
   "version": "3.10.12"
  }
 },
 "nbformat": 4,
 "nbformat_minor": 4
}
