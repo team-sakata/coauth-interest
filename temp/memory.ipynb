{
 "cells": [
  {
   "cell_type": "code",
   "execution_count": 5,
   "metadata": {},
   "outputs": [],
   "source": [
    "from dotenv import load_dotenv\n",
    "load_dotenv()\n",
    "\n",
    "import os\n",
    "data_path = os.getenv('DATA_PATH')\n",
    "result_path = os.getenv('RESULT_PATH')"
   ]
  },
  {
   "cell_type": "code",
   "execution_count": 10,
   "metadata": {},
   "outputs": [
    {
     "name": "stdout",
     "output_type": "stream",
     "text": [
      "/disks/qnap3/users/23-miura/coauth-interest/source\n"
     ]
    }
   ],
   "source": [
    "import pandas as pd\n",
    "import numpy as np\n",
    "import matplotlib.pyplot  as plt\n",
    "import random\n",
    "from scipy.stats import expon\n",
    "from scipy.stats import pareto\n",
    "import os\n",
    "print(os.getcwd())\n",
    "from package.util import plotter"
   ]
  },
  {
   "cell_type": "code",
   "execution_count": 14,
   "metadata": {},
   "outputs": [
    {
     "data": {
      "text/html": [
       "<div>\n",
       "<style scoped>\n",
       "    .dataframe tbody tr th:only-of-type {\n",
       "        vertical-align: middle;\n",
       "    }\n",
       "\n",
       "    .dataframe tbody tr th {\n",
       "        vertical-align: top;\n",
       "    }\n",
       "\n",
       "    .dataframe thead th {\n",
       "        text-align: right;\n",
       "    }\n",
       "</style>\n",
       "<table border=\"1\" class=\"dataframe\">\n",
       "  <thead>\n",
       "    <tr style=\"text-align: right;\">\n",
       "      <th></th>\n",
       "      <th>authid</th>\n",
       "      <th>year</th>\n",
       "      <th>seq</th>\n",
       "      <th>eid</th>\n",
       "      <th>source_authid</th>\n",
       "      <th>previous_work</th>\n",
       "    </tr>\n",
       "  </thead>\n",
       "  <tbody>\n",
       "    <tr>\n",
       "      <th>1</th>\n",
       "      <td>6701571681</td>\n",
       "      <td>1</td>\n",
       "      <td>1</td>\n",
       "      <td>51349148462</td>\n",
       "      <td>34869229900</td>\n",
       "      <td>3.454718e+10</td>\n",
       "    </tr>\n",
       "    <tr>\n",
       "      <th>2</th>\n",
       "      <td>6701571681</td>\n",
       "      <td>0</td>\n",
       "      <td>1</td>\n",
       "      <td>57749173609</td>\n",
       "      <td>34869229900</td>\n",
       "      <td>5.134915e+10</td>\n",
       "    </tr>\n",
       "    <tr>\n",
       "      <th>3</th>\n",
       "      <td>6701571681</td>\n",
       "      <td>0</td>\n",
       "      <td>1</td>\n",
       "      <td>44649123624</td>\n",
       "      <td>34869229900</td>\n",
       "      <td>5.774917e+10</td>\n",
       "    </tr>\n",
       "    <tr>\n",
       "      <th>4</th>\n",
       "      <td>6701571681</td>\n",
       "      <td>2</td>\n",
       "      <td>1</td>\n",
       "      <td>78449257653</td>\n",
       "      <td>34869229900</td>\n",
       "      <td>4.464912e+10</td>\n",
       "    </tr>\n",
       "    <tr>\n",
       "      <th>5</th>\n",
       "      <td>6701571681</td>\n",
       "      <td>0</td>\n",
       "      <td>1</td>\n",
       "      <td>82155195596</td>\n",
       "      <td>34869229900</td>\n",
       "      <td>7.844926e+10</td>\n",
       "    </tr>\n",
       "    <tr>\n",
       "      <th>...</th>\n",
       "      <td>...</td>\n",
       "      <td>...</td>\n",
       "      <td>...</td>\n",
       "      <td>...</td>\n",
       "      <td>...</td>\n",
       "      <td>...</td>\n",
       "    </tr>\n",
       "    <tr>\n",
       "      <th>1</th>\n",
       "      <td>13907944200</td>\n",
       "      <td>1</td>\n",
       "      <td>1</td>\n",
       "      <td>85088252297</td>\n",
       "      <td>57200563893</td>\n",
       "      <td>8.506289e+10</td>\n",
       "    </tr>\n",
       "    <tr>\n",
       "      <th>2</th>\n",
       "      <td>57212748175</td>\n",
       "      <td>1</td>\n",
       "      <td>1</td>\n",
       "      <td>85111780827</td>\n",
       "      <td>57215558775</td>\n",
       "      <td>8.509272e+10</td>\n",
       "    </tr>\n",
       "    <tr>\n",
       "      <th>3</th>\n",
       "      <td>57212748175</td>\n",
       "      <td>0</td>\n",
       "      <td>1</td>\n",
       "      <td>85097925205</td>\n",
       "      <td>57215558775</td>\n",
       "      <td>8.511178e+10</td>\n",
       "    </tr>\n",
       "    <tr>\n",
       "      <th>4</th>\n",
       "      <td>57212748175</td>\n",
       "      <td>0</td>\n",
       "      <td>1</td>\n",
       "      <td>85111727918</td>\n",
       "      <td>57215558775</td>\n",
       "      <td>8.509793e+10</td>\n",
       "    </tr>\n",
       "    <tr>\n",
       "      <th>5</th>\n",
       "      <td>57212748175</td>\n",
       "      <td>0</td>\n",
       "      <td>2</td>\n",
       "      <td>85125488688</td>\n",
       "      <td>57215558775</td>\n",
       "      <td>8.511173e+10</td>\n",
       "    </tr>\n",
       "  </tbody>\n",
       "</table>\n",
       "<p>1130812 rows × 6 columns</p>\n",
       "</div>"
      ],
      "text/plain": [
       "         authid  year  seq          eid  source_authid  previous_work\n",
       "1    6701571681     1    1  51349148462    34869229900   3.454718e+10\n",
       "2    6701571681     0    1  57749173609    34869229900   5.134915e+10\n",
       "3    6701571681     0    1  44649123624    34869229900   5.774917e+10\n",
       "4    6701571681     2    1  78449257653    34869229900   4.464912e+10\n",
       "5    6701571681     0    1  82155195596    34869229900   7.844926e+10\n",
       "..          ...   ...  ...          ...            ...            ...\n",
       "1   13907944200     1    1  85088252297    57200563893   8.506289e+10\n",
       "2   57212748175     1    1  85111780827    57215558775   8.509272e+10\n",
       "3   57212748175     0    1  85097925205    57215558775   8.511178e+10\n",
       "4   57212748175     0    1  85111727918    57215558775   8.509793e+10\n",
       "5   57212748175     0    2  85125488688    57215558775   8.511173e+10\n",
       "\n",
       "[1130812 rows x 6 columns]"
      ]
     },
     "execution_count": 14,
     "metadata": {},
     "output_type": "execute_result"
    }
   ],
   "source": [
    "res = pd.read_pickle(result_path + 'CS_100k.pickle')\n",
    "res"
   ]
  },
  {
   "cell_type": "code",
   "execution_count": 21,
   "metadata": {},
   "outputs": [
    {
     "data": {
      "text/plain": [
       "(1130812, 994512)"
      ]
     },
     "execution_count": 21,
     "metadata": {},
     "output_type": "execute_result"
    }
   ],
   "source": [
    "sample = res[res[\"previous_work\"].isin(res[\"eid\"])]\n",
    "res.shape[0],sample.shape[0]"
   ]
  },
  {
   "cell_type": "code",
   "execution_count": 77,
   "metadata": {},
   "outputs": [
    {
     "data": {
      "text/plain": [
       "eid\n",
       "229021                                          [NO KEYWORDS]\n",
       "266363      [2D NMR, C NMR, H NMR, COSY, HMBC, HMQC, ID NM...\n",
       "229022                                          [NO KEYWORDS]\n",
       "229023                                          [NO KEYWORDS]\n",
       "266364      [Ca2+-sensitivity-tension relation, Cardiac hy...\n",
       "                                  ...                        \n",
       "26093078                                        [NO KEYWORDS]\n",
       "26106279                         [66.30, 82.45, 82.80, 85.80]\n",
       "26093079                                        [NO KEYWORDS]\n",
       "26106283                                        [NO KEYWORDS]\n",
       "26093080                                        [NO KEYWORDS]\n",
       "Name: keywords, Length: 78887776, dtype: object"
      ]
     },
     "execution_count": 77,
     "metadata": {},
     "output_type": "execute_result"
    }
   ],
   "source": [
    "paper = pd.read_pickle(data_path+\"paper_detail/keywords.pickle\")\n",
    "paper"
   ]
  },
  {
   "cell_type": "code",
   "execution_count": 79,
   "metadata": {},
   "outputs": [
    {
     "name": "stdout",
     "output_type": "stream",
     "text": [
      "['NO KEYWORDS' '2D NMR' 'C NMR' ... 'DNase I cleavage protection patterns'\n",
      " 'Change of element content' \"'contig'\"]\n"
     ]
    }
   ],
   "source": [
    "paper_exploded = paper.explode(\"keywords\")\n",
    "list_keywords = paper_exploded.unique()\n",
    "print(list_keywords)"
   ]
  },
  {
   "cell_type": "code",
   "execution_count": 80,
   "metadata": {},
   "outputs": [
    {
     "data": {
      "text/plain": [
       "26314708"
      ]
     },
     "execution_count": 80,
     "metadata": {},
     "output_type": "execute_result"
    }
   ],
   "source": [
    "len(list_keywords)"
   ]
  },
  {
   "cell_type": "code",
   "execution_count": null,
   "metadata": {},
   "outputs": [],
   "source": [
    "for v in list_keywords:\n",
    "    print(paper_exploded[paper_exploded[\"keywords\"]==v].head())"
   ]
  },
  {
   "cell_type": "code",
   "execution_count": 23,
   "metadata": {},
   "outputs": [
    {
     "data": {
      "text/plain": [
       "3185640"
      ]
     },
     "execution_count": 23,
     "metadata": {},
     "output_type": "execute_result"
    }
   ],
   "source": [
    "merged = pd.merge(res, res,left_on=\"eid\", right_on=\"previous_work\", how=\"inner\")\n",
    "merged.shape[0]"
   ]
  },
  {
   "cell_type": "code",
   "execution_count": 24,
   "metadata": {},
   "outputs": [
    {
     "data": {
      "text/html": [
       "<div>\n",
       "<style scoped>\n",
       "    .dataframe tbody tr th:only-of-type {\n",
       "        vertical-align: middle;\n",
       "    }\n",
       "\n",
       "    .dataframe tbody tr th {\n",
       "        vertical-align: top;\n",
       "    }\n",
       "\n",
       "    .dataframe thead th {\n",
       "        text-align: right;\n",
       "    }\n",
       "</style>\n",
       "<table border=\"1\" class=\"dataframe\">\n",
       "  <thead>\n",
       "    <tr style=\"text-align: right;\">\n",
       "      <th></th>\n",
       "      <th>authid_x</th>\n",
       "      <th>year_x</th>\n",
       "      <th>seq_x</th>\n",
       "      <th>eid_x</th>\n",
       "      <th>source_authid_x</th>\n",
       "      <th>previous_work_x</th>\n",
       "      <th>authid_y</th>\n",
       "      <th>year_y</th>\n",
       "      <th>seq_y</th>\n",
       "      <th>eid_y</th>\n",
       "      <th>source_authid_y</th>\n",
       "      <th>previous_work_y</th>\n",
       "    </tr>\n",
       "  </thead>\n",
       "  <tbody>\n",
       "    <tr>\n",
       "      <th>0</th>\n",
       "      <td>6701571681</td>\n",
       "      <td>1</td>\n",
       "      <td>1</td>\n",
       "      <td>51349148462</td>\n",
       "      <td>34869229900</td>\n",
       "      <td>3.454718e+10</td>\n",
       "      <td>6701571681</td>\n",
       "      <td>0</td>\n",
       "      <td>1</td>\n",
       "      <td>57749173609</td>\n",
       "      <td>34869229900</td>\n",
       "      <td>5.134915e+10</td>\n",
       "    </tr>\n",
       "    <tr>\n",
       "      <th>1</th>\n",
       "      <td>6701571681</td>\n",
       "      <td>1</td>\n",
       "      <td>1</td>\n",
       "      <td>51349148462</td>\n",
       "      <td>34869229900</td>\n",
       "      <td>3.454718e+10</td>\n",
       "      <td>7005864158</td>\n",
       "      <td>0</td>\n",
       "      <td>1</td>\n",
       "      <td>57749173609</td>\n",
       "      <td>34869229900</td>\n",
       "      <td>5.134915e+10</td>\n",
       "    </tr>\n",
       "    <tr>\n",
       "      <th>2</th>\n",
       "      <td>6701571681</td>\n",
       "      <td>1</td>\n",
       "      <td>1</td>\n",
       "      <td>51349148462</td>\n",
       "      <td>34869229900</td>\n",
       "      <td>3.454718e+10</td>\n",
       "      <td>7005981062</td>\n",
       "      <td>0</td>\n",
       "      <td>1</td>\n",
       "      <td>57749173609</td>\n",
       "      <td>34869229900</td>\n",
       "      <td>5.134915e+10</td>\n",
       "    </tr>\n",
       "    <tr>\n",
       "      <th>3</th>\n",
       "      <td>6701571681</td>\n",
       "      <td>1</td>\n",
       "      <td>1</td>\n",
       "      <td>51349148462</td>\n",
       "      <td>34869229900</td>\n",
       "      <td>3.454718e+10</td>\n",
       "      <td>7102165991</td>\n",
       "      <td>0</td>\n",
       "      <td>1</td>\n",
       "      <td>57749173609</td>\n",
       "      <td>34869229900</td>\n",
       "      <td>5.134915e+10</td>\n",
       "    </tr>\n",
       "    <tr>\n",
       "      <th>4</th>\n",
       "      <td>6701571681</td>\n",
       "      <td>1</td>\n",
       "      <td>1</td>\n",
       "      <td>51349148462</td>\n",
       "      <td>34869229900</td>\n",
       "      <td>3.454718e+10</td>\n",
       "      <td>7005864158</td>\n",
       "      <td>0</td>\n",
       "      <td>6</td>\n",
       "      <td>57749173609</td>\n",
       "      <td>6701571681</td>\n",
       "      <td>5.134915e+10</td>\n",
       "    </tr>\n",
       "  </tbody>\n",
       "</table>\n",
       "</div>"
      ],
      "text/plain": [
       "     authid_x  year_x  seq_x        eid_x  source_authid_x  previous_work_x  \\\n",
       "0  6701571681       1      1  51349148462      34869229900     3.454718e+10   \n",
       "1  6701571681       1      1  51349148462      34869229900     3.454718e+10   \n",
       "2  6701571681       1      1  51349148462      34869229900     3.454718e+10   \n",
       "3  6701571681       1      1  51349148462      34869229900     3.454718e+10   \n",
       "4  6701571681       1      1  51349148462      34869229900     3.454718e+10   \n",
       "\n",
       "     authid_y  year_y  seq_y        eid_y  source_authid_y  previous_work_y  \n",
       "0  6701571681       0      1  57749173609      34869229900     5.134915e+10  \n",
       "1  7005864158       0      1  57749173609      34869229900     5.134915e+10  \n",
       "2  7005981062       0      1  57749173609      34869229900     5.134915e+10  \n",
       "3  7102165991       0      1  57749173609      34869229900     5.134915e+10  \n",
       "4  7005864158       0      6  57749173609       6701571681     5.134915e+10  "
      ]
     },
     "execution_count": 24,
     "metadata": {},
     "output_type": "execute_result"
    }
   ],
   "source": [
    "merged.head()"
   ]
  },
  {
   "cell_type": "code",
   "execution_count": 25,
   "metadata": {},
   "outputs": [
    {
     "data": {
      "text/plain": [
       "<matplotlib.collections.PathCollection at 0x7f9991327fa0>"
      ]
     },
     "execution_count": 25,
     "metadata": {},
     "output_type": "execute_result"
    },
    {
     "data": {
      "image/png": "[encoded data removed]",
      "text/plain": [
       "<Figure size 640x480 with 1 Axes>"
      ]
     },
     "metadata": {},
     "output_type": "display_data"
    }
   ],
   "source": [
    "plt.scatter(merged[\"year_x\"], merged[\"year_y\"], s=1)"
   ]
  },
  {
   "cell_type": "code",
   "execution_count": null,
   "metadata": {},
   "outputs": [],
   "source": []
  }
 ],
 "metadata": {
  "kernelspec": {
   "display_name": "Python 3 (ipykernel)",
   "language": "python",
   "name": "python3"
  }
 },
 "nbformat": 4,
 "nbformat_minor": 2
}
