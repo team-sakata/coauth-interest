{
 "cells": [
  {
   "cell_type": "code",
   "execution_count": 1,
   "metadata": {
    "execution": {
     "iopub.execute_input": "2024-06-13T02:54:37.382656Z",
     "iopub.status.busy": "2024-06-13T02:54:37.382170Z",
     "iopub.status.idle": "2024-06-13T02:54:37.413406Z",
     "shell.execute_reply": "2024-06-13T02:54:37.412413Z",
     "shell.execute_reply.started": "2024-06-13T02:54:37.382610Z"
    }
   },
   "outputs": [
    {
     "data": {
      "text/plain": [
       "'/disks/qnap3/users/23-miura/coauth-interest'"
      ]
     },
     "execution_count": 1,
     "metadata": {},
     "output_type": "execute_result"
    }
   ],
   "source": [
    "from dotenv import load_dotenv\n",
    "load_dotenv()\n",
    "\n",
    "import os\n",
    "data_path = os.getenv('DATA_PATH')\n",
    "result_path = os.getenv('RESULT_PATH')\n",
    "root = os.getenv('ROOT')\n",
    "\n",
    "os.chdir(root)\n",
    "os.getcwd()"
   ]
  },
  {
   "cell_type": "code",
   "execution_count": 3,
   "metadata": {
    "execution": {
     "iopub.execute_input": "2024-06-13T02:54:52.282653Z",
     "iopub.status.busy": "2024-06-13T02:54:52.281864Z",
     "iopub.status.idle": "2024-06-13T02:54:52.339875Z",
     "shell.execute_reply": "2024-06-13T02:54:52.338489Z",
     "shell.execute_reply.started": "2024-06-13T02:54:52.282598Z"
    }
   },
   "outputs": [],
   "source": [
    "import pandas as pd\n",
    "import numpy as np\n",
    "import matplotlib.pyplot  as plt\n",
    "import random\n",
    "from scipy.stats import expon\n",
    "from scipy.stats import pareto\n",
    "import os\n",
    "\n",
    "from source.package.util import plotter"
   ]
  },
  {
   "cell_type": "code",
   "execution_count": 23,
   "metadata": {},
   "outputs": [],
   "source": [
    "year_df = pd.read_pickle(data_path + 'paper_detail/year.pickle')\n",
    "authors_valid = pd.read_pickle(result_path + 'authors_valid.pickle')"
   ]
  },
  {
   "cell_type": "code",
   "execution_count": null,
   "metadata": {},
   "outputs": [
    {
     "data": {
      "text/html": [
       "<div>\n",
       "<style scoped>\n",
       "    .dataframe tbody tr th:only-of-type {\n",
       "        vertical-align: middle;\n",
       "    }\n",
       "\n",
       "    .dataframe tbody tr th {\n",
       "        vertical-align: top;\n",
       "    }\n",
       "\n",
       "    .dataframe thead th {\n",
       "        text-align: right;\n",
       "    }\n",
       "</style>\n",
       "<table border=\"1\" class=\"dataframe\">\n",
       "  <thead>\n",
       "    <tr style=\"text-align: right;\">\n",
       "      <th></th>\n",
       "      <th>eid</th>\n",
       "      <th>authid</th>\n",
       "      <th>authseq</th>\n",
       "      <th>indexname</th>\n",
       "      <th>surname</th>\n",
       "      <th>givenname</th>\n",
       "      <th>doctype</th>\n",
       "      <th>year</th>\n",
       "    </tr>\n",
       "  </thead>\n",
       "  <tbody>\n",
       "    <tr>\n",
       "      <th>0</th>\n",
       "      <td>85015329278</td>\n",
       "      <td>6506594745</td>\n",
       "      <td>1</td>\n",
       "      <td>Dereli O.</td>\n",
       "      <td>Dereli</td>\n",
       "      <td>Ömer</td>\n",
       "      <td>ar</td>\n",
       "      <td>2017</td>\n",
       "    </tr>\n",
       "    <tr>\n",
       "      <th>1</th>\n",
       "      <td>85015329278</td>\n",
       "      <td>55860963200</td>\n",
       "      <td>4</td>\n",
       "      <td>Karakas Sarikaya E.</td>\n",
       "      <td>Karakaş Sarikaya</td>\n",
       "      <td>Ebru</td>\n",
       "      <td>ar</td>\n",
       "      <td>2017</td>\n",
       "    </tr>\n",
       "    <tr>\n",
       "      <th>2</th>\n",
       "      <td>85015329278</td>\n",
       "      <td>16175094900</td>\n",
       "      <td>2</td>\n",
       "      <td>Erdogdu Y.</td>\n",
       "      <td>Erdoğdu</td>\n",
       "      <td>Yusuf</td>\n",
       "      <td>ar</td>\n",
       "      <td>2017</td>\n",
       "    </tr>\n",
       "    <tr>\n",
       "      <th>3</th>\n",
       "      <td>85015329278</td>\n",
       "      <td>57193622072</td>\n",
       "      <td>3</td>\n",
       "      <td>Ates L.</td>\n",
       "      <td>Ateş</td>\n",
       "      <td>Levent</td>\n",
       "      <td>ar</td>\n",
       "      <td>2017</td>\n",
       "    </tr>\n",
       "    <tr>\n",
       "      <th>4</th>\n",
       "      <td>85015329278</td>\n",
       "      <td>57193630639</td>\n",
       "      <td>5</td>\n",
       "      <td>Ozturan F.P.</td>\n",
       "      <td>Özturan</td>\n",
       "      <td>F. Pınar</td>\n",
       "      <td>ar</td>\n",
       "      <td>2017</td>\n",
       "    </tr>\n",
       "  </tbody>\n",
       "</table>\n",
       "</div>"
      ],
      "text/plain": [
       "           eid       authid  authseq            indexname           surname  \\\n",
       "0  85015329278   6506594745        1            Dereli O.            Dereli   \n",
       "1  85015329278  55860963200        4  Karakas Sarikaya E.  Karakaş Sarikaya   \n",
       "2  85015329278  16175094900        2           Erdogdu Y.           Erdoğdu   \n",
       "3  85015329278  57193622072        3              Ates L.              Ateş   \n",
       "4  85015329278  57193630639        5         Ozturan F.P.           Özturan   \n",
       "\n",
       "  givenname doctype  year  \n",
       "0      Ömer      ar  2017  \n",
       "1      Ebru      ar  2017  \n",
       "2     Yusuf      ar  2017  \n",
       "3    Levent      ar  2017  \n",
       "4  F. Pınar      ar  2017  "
      ]
     },
     "execution_count": 36,
     "metadata": {},
     "output_type": "execute_result"
    }
   ],
   "source": [
    "merged = pd.merge(authors_valid, year_df, on='eid', how='left')\n",
    "merged.sort_values(\"year\", inplace=True)\n",
    "merged[\"shuffled_year\"] = merged[\"year\"].sample(frac=1).values\n",
    "merged.head()"
   ]
  },
  {
   "cell_type": "code",
   "execution_count": null,
   "metadata": {},
   "outputs": [
    {
     "name": "stdout",
     "output_type": "stream",
     "text": [
      "52\n"
     ]
    },
    {
     "data": {
      "image/png": "[encoded data removed]",
      "text/plain": [
       "<Figure size 640x480 with 1 Axes>"
      ]
     },
     "metadata": {},
     "output_type": "display_data"
    }
   ],
   "source": [
    "group = merged[[\"year\",\"authid\"]].groupby(by=\"authid\").diff().dropna()\n",
    "print(group[\"year\"].nunique())\n",
    "\n",
    "plotter(group[\"year\"].values,\n",
    "        count='probability',\n",
    "        plot='power-law',\n",
    "        xlabel='Time between publications',\n",
    "        ylabel='Probability',\n",
    "        title='Time between publications',\n",
    "        save=True,\n",
    "        path=result_path+'time_between_publications.png'\n",
    ")"
   ]
  },
  {
   "cell_type": "code",
   "execution_count": null,
   "metadata": {},
   "outputs": [
    {
     "name": "stdout",
     "output_type": "stream",
     "text": [
      "104\n"
     ]
    },
    {
     "name": "stderr",
     "output_type": "stream",
     "text": [
      "No artists with labels found to put in legend.  Note that artists whose label start with an underscore are ignored when legend() is called with no argument.\n"
     ]
    },
    {
     "data": {
      "text/plain": [
       "(array([0.00017939, 0.0003487 , 0.00052108, 0.00072105, 0.0009262 ,\n",
       "        0.00112651, 0.00131808, 0.00151993, 0.00173219, 0.00195786,\n",
       "        0.00217606, 0.00239696, 0.00263052, 0.0028692 , 0.00312618,\n",
       "        0.00338217, 0.00361563, 0.00386939, 0.00412471, 0.00440811,\n",
       "        0.0047174 , 0.0050135 , 0.00530265, 0.00561921, 0.00596334,\n",
       "        0.00630854, 0.0067568 , 0.00720081, 0.00764392, 0.00807911,\n",
       "        0.00853277, 0.00900253, 0.00951593, 0.01009458, 0.01076995,\n",
       "        0.01154784, 0.01242106, 0.01333423, 0.01427433, 0.01531592,\n",
       "        0.01641249, 0.01768622, 0.01910628, 0.02055839, 0.0220403 ,\n",
       "        0.02352458, 0.02509017, 0.0266837 , 0.02844526, 0.03033008,\n",
       "        0.03236318, 0.03478951, 0.03237632, 0.03032378, 0.02844242,\n",
       "        0.02669502, 0.0250785 , 0.02351411, 0.02202153, 0.02057411,\n",
       "        0.01911072, 0.0176939 , 0.01642293, 0.01531707, 0.01427866,\n",
       "        0.01332496, 0.01241119, 0.01156013, 0.0107543 , 0.01008729,\n",
       "        0.0095196 , 0.00901127, 0.00852638, 0.00806276, 0.0076485 ,\n",
       "        0.00720786, 0.00675882, 0.00632541, 0.00596642, 0.00561931,\n",
       "        0.00529911, 0.00500039, 0.0047146 , 0.00440975, 0.00412588,\n",
       "        0.00386864, 0.00362585, 0.00338002, 0.00312509, 0.00287118,\n",
       "        0.00263568, 0.00239365, 0.00216666, 0.00195291, 0.00173298,\n",
       "        0.00152263, 0.00131824, 0.00112581, 0.00092846, 0.00072307,\n",
       "        0.00052147, 0.00053009]),\n",
       " array([-50.5, -49.5, -48.5, -47.5, -46.5, -45.5, -44.5, -43.5, -42.5,\n",
       "        -41.5, -40.5, -39.5, -38.5, -37.5, -36.5, -35.5, -34.5, -33.5,\n",
       "        -32.5, -31.5, -30.5, -29.5, -28.5, -27.5, -26.5, -25.5, -24.5,\n",
       "        -23.5, -22.5, -21.5, -20.5, -19.5, -18.5, -17.5, -16.5, -15.5,\n",
       "        -14.5, -13.5, -12.5, -11.5, -10.5,  -9.5,  -8.5,  -7.5,  -6.5,\n",
       "         -5.5,  -4.5,  -3.5,  -2.5,  -1.5,  -0.5,   0.5,   1.5,   2.5,\n",
       "          3.5,   4.5,   5.5,   6.5,   7.5,   8.5,   9.5,  10.5,  11.5,\n",
       "         12.5,  13.5,  14.5,  15.5,  16.5,  17.5,  18.5,  19.5,  20.5,\n",
       "         21.5,  22.5,  23.5,  24.5,  25.5,  26.5,  27.5,  28.5,  29.5,\n",
       "         30.5,  31.5,  32.5,  33.5,  34.5,  35.5,  36.5,  37.5,  38.5,\n",
       "         39.5,  40.5,  41.5,  42.5,  43.5,  44.5,  45.5,  46.5,  47.5,\n",
       "         48.5,  49.5,  50.5,  51.5]))"
      ]
     },
     "execution_count": 91,
     "metadata": {},
     "output_type": "execute_result"
    },
    {
     "data": {
      "image/png": "[encoded data removed]",
      "text/plain": [
       "<Figure size 640x480 with 1 Axes>"
      ]
     },
     "metadata": {},
     "output_type": "display_data"
    }
   ],
   "source": [
    "group_shuflled = merged[[\"shuffled_year\",\"authid\"]].groupby(by=\"authid\").diff().dropna()\n",
    "print(group_shuflled[\"shuffled_year\"].nunique())\n",
    "\n",
    "plotter(group_shuflled[\"shuffled_year\"].values,\n",
    "        count='probability',\n",
    "        plot='power-law',\n",
    "        xlabel='Time between publications',\n",
    "        ylabel='Probability',\n",
    "        title='Time between publications',\n",
    "        save=True,\n",
    "        path=result_path+'time_between_publications.png'\n",
    ")\n",
    "plt.show()"
   ]
  },
  {
   "cell_type": "code",
   "execution_count": 121,
   "metadata": {},
   "outputs": [
    {
     "data": {
      "text/html": [
       "<div>\n",
       "<style scoped>\n",
       "    .dataframe tbody tr th:only-of-type {\n",
       "        vertical-align: middle;\n",
       "    }\n",
       "\n",
       "    .dataframe tbody tr th {\n",
       "        vertical-align: top;\n",
       "    }\n",
       "\n",
       "    .dataframe thead th {\n",
       "        text-align: right;\n",
       "    }\n",
       "</style>\n",
       "<table border=\"1\" class=\"dataframe\">\n",
       "  <thead>\n",
       "    <tr style=\"text-align: right;\">\n",
       "      <th></th>\n",
       "      <th>eid</th>\n",
       "      <th>authid</th>\n",
       "      <th>year</th>\n",
       "      <th>shuffled_year</th>\n",
       "    </tr>\n",
       "  </thead>\n",
       "  <tbody>\n",
       "    <tr>\n",
       "      <th>22875929</th>\n",
       "      <td>14792462</td>\n",
       "      <td>35399872200</td>\n",
       "      <td>1970</td>\n",
       "      <td>2008</td>\n",
       "    </tr>\n",
       "    <tr>\n",
       "      <th>57080137</th>\n",
       "      <td>14888096</td>\n",
       "      <td>7005560330</td>\n",
       "      <td>1970</td>\n",
       "      <td>1997</td>\n",
       "    </tr>\n",
       "    <tr>\n",
       "      <th>57080138</th>\n",
       "      <td>14901281</td>\n",
       "      <td>57217394287</td>\n",
       "      <td>1970</td>\n",
       "      <td>2018</td>\n",
       "    </tr>\n",
       "    <tr>\n",
       "      <th>57080139</th>\n",
       "      <td>14888097</td>\n",
       "      <td>7409818227</td>\n",
       "      <td>1970</td>\n",
       "      <td>2011</td>\n",
       "    </tr>\n",
       "    <tr>\n",
       "      <th>57080140</th>\n",
       "      <td>14901282</td>\n",
       "      <td>7101930432</td>\n",
       "      <td>1970</td>\n",
       "      <td>2016</td>\n",
       "    </tr>\n",
       "    <tr>\n",
       "      <th>...</th>\n",
       "      <td>...</td>\n",
       "      <td>...</td>\n",
       "      <td>...</td>\n",
       "      <td>...</td>\n",
       "    </tr>\n",
       "    <tr>\n",
       "      <th>86597809</th>\n",
       "      <td>85121394226</td>\n",
       "      <td>57201395607</td>\n",
       "      <td>2022</td>\n",
       "      <td>2015</td>\n",
       "    </tr>\n",
       "    <tr>\n",
       "      <th>86597810</th>\n",
       "      <td>85121394226</td>\n",
       "      <td>14054955600</td>\n",
       "      <td>2022</td>\n",
       "      <td>1981</td>\n",
       "    </tr>\n",
       "    <tr>\n",
       "      <th>86597811</th>\n",
       "      <td>85121394226</td>\n",
       "      <td>57192944024</td>\n",
       "      <td>2022</td>\n",
       "      <td>2013</td>\n",
       "    </tr>\n",
       "    <tr>\n",
       "      <th>219408465</th>\n",
       "      <td>85110282930</td>\n",
       "      <td>57226081428</td>\n",
       "      <td>2022</td>\n",
       "      <td>2014</td>\n",
       "    </tr>\n",
       "    <tr>\n",
       "      <th>206450126</th>\n",
       "      <td>85118129013</td>\n",
       "      <td>57216590836</td>\n",
       "      <td>2022</td>\n",
       "      <td>1998</td>\n",
       "    </tr>\n",
       "  </tbody>\n",
       "</table>\n",
       "<p>289839055 rows × 4 columns</p>\n",
       "</div>"
      ],
      "text/plain": [
       "                   eid       authid  year  shuffled_year\n",
       "22875929      14792462  35399872200  1970           2008\n",
       "57080137      14888096   7005560330  1970           1997\n",
       "57080138      14901281  57217394287  1970           2018\n",
       "57080139      14888097   7409818227  1970           2011\n",
       "57080140      14901282   7101930432  1970           2016\n",
       "...                ...          ...   ...            ...\n",
       "86597809   85121394226  57201395607  2022           2015\n",
       "86597810   85121394226  14054955600  2022           1981\n",
       "86597811   85121394226  57192944024  2022           2013\n",
       "219408465  85110282930  57226081428  2022           2014\n",
       "206450126  85118129013  57216590836  2022           1998\n",
       "\n",
       "[289839055 rows x 4 columns]"
      ]
     },
     "execution_count": 121,
     "metadata": {},
     "output_type": "execute_result"
    }
   ],
   "source": [
    "merged = merged[['eid','authid', 'year', 'shuffled_year']]\n",
    "merged.to_pickle(result_path + 'time_between_publications.pickle')"
   ]
  },
  {
   "cell_type": "markdown",
   "metadata": {},
   "source": [
    "## Saved"
   ]
  },
  {
   "cell_type": "code",
   "execution_count": null,
   "metadata": {},
   "outputs": [],
   "source": [
    "merged = pd.read_pickle(result_path + 'time_between_publications.pickle')\n",
    "grouped = merged.groupby('authid')"
   ]
  },
  {
   "cell_type": "code",
   "execution_count": 3,
   "metadata": {},
   "outputs": [
    {
     "name": "stdout",
     "output_type": "stream",
     "text": [
      "(4,                    eid  authid  year  shuffled_year\n",
      "28398866      17858319       4  1978           2020\n",
      "213709955     19206542       4  1980           1973\n",
      "261319997     19982084       4  1982           1985\n",
      "251979996     24229822       4  1988           2008\n",
      "203768811  84886344041       4  1993           2015\n",
      "203769980  84886345548       4  1994           2007\n",
      "121940683     28565119       4  1994           2020\n",
      "93831498      28953868       4  1995           1991\n",
      "212867023     29134046       4  1995           2020\n",
      "270201567     28977611       4  1995           2017\n",
      "270201564     28977611       4  1995           2009\n",
      "270201563     28977611       4  1995           1998\n",
      "270201565     28977611       4  1995           2004\n",
      "270201566     28977611       4  1995           2012\n",
      "219788909     33950403       4  2000           2019\n",
      "182427446     39177620       4  2000           2018\n",
      "149004920  85033485934       4  2005           2016\n",
      "94916306   84928074476       4  2007           2018\n",
      "130004725  85084163277       4  2008           1989\n",
      "94914792   84928069844       4  2011           2020\n",
      "188779178  84941362598       4  2015           1987\n",
      "280856304  85039550630       4  2017           2007\n",
      "138417092  85052519475       4  2018           2012\n",
      "245905766  85103213340       4  2021           2007)\n"
     ]
    }
   ],
   "source": [
    "for g in grouped:\n",
    "    print(g)\n",
    "    break"
   ]
  },
  {
   "cell_type": "code",
   "execution_count": null,
   "metadata": {},
   "outputs": [],
   "source": [
    "shuffled_year_author = pd.DataFrame()\n",
    "for g in grouped:\n",
    "    shuffled_year_author = pd.concat([\n",
    "        shuffled_year_author,\\\n",
    "        pd.DataFrame({\\\n",
    "          \"shuffled_year_author\":g[1]['year']\\\n",
    "            .sample(frac=1)\\\n",
    "            .sort_values()\\\n",
    "            .diff().dropna()\\\n",
    "            ,\"authid\":g[0]})],\n",
    "          axis='index')\n",
    "    print(shuffled_year_author.tail(3))\n",
    "shuffled_year_author.head()"
   ]
  },
  {
   "cell_type": "code",
   "execution_count": null,
   "metadata": {},
   "outputs": [],
   "source": [
    "year_diff = merged[[\"authid\",\"year\"]].groupby(by=\"authid\").diff().dropna()\n",
    "year_diff.head()"
   ]
  },
  {
   "cell_type": "code",
   "execution_count": 158,
   "metadata": {},
   "outputs": [
    {
     "name": "stderr",
     "output_type": "stream",
     "text": [
      "/disks/qnap3/users/23-miura/coauth-interest/source/package/util.py:44: UserWarning: Attempt to set non-positive xlim on a log-scaled axis will be ignored.\n",
      "  plt.xlim(left, right)\n"
     ]
    },
    {
     "name": "stdout",
     "output_type": "stream",
     "text": [
      "Calculating best minimal value for power law fit\n",
      "3.4645901336575933\n",
      "0.016691162225342757\n",
      "2.0\n",
      "0.140575482259355\n",
      "[0.00466735]\n"
     ]
    },
    {
     "data": {
      "image/png": "[encoded data removed]",
      "text/plain": [
       "<Figure size 640x480 with 1 Axes>"
      ]
     },
     "metadata": {},
     "output_type": "display_data"
    }
   ],
   "source": [
    "import powerlaw\n",
    "# plotter(group_shuflled[\"shuffled_year\"].values,\n",
    "#         count='probability',\n",
    "#         plot='power-law',\n",
    "#         c='red',\n",
    "#         xlabel='Time between publications',\n",
    "#         ylabel='Probability',\n",
    "#         title='Time between publications',\n",
    "#         save=True,\n",
    "#         path=result_path+'time_between_publications.png'\n",
    "# )\n",
    "\n",
    "bins, hist = plotter(shuffled_year_author[\"shuffled_year_author\"].values,\n",
    "        count='probability',\n",
    "        plot='power-law',\n",
    "        xlabel='Time between publications',\n",
    "        ylabel='Probability',\n",
    "        title='Time between publications',\n",
    "        c=\"r\",\n",
    "        l=\"year-null model\",\n",
    "        # limit=(min(bins_original), max(bins_original), min(hist_original), max(hist_original)),\n",
    "        save=True,\n",
    "        path=result_path+'time_between_publications.png'\n",
    ")\n",
    "plotter(year_diff.values,\n",
    "        count='probability',\n",
    "        plot='power-law',\n",
    "        xlabel='Time between publications',\n",
    "        ylabel='Probability',\n",
    "        title='Time between publications',\n",
    "        l=\"publication interval\",\n",
    "        save=True,\n",
    "        path=result_path+'time_between_publications.png'\n",
    ")\n",
    "\n",
    "\n",
    "data = shuffled_year_author[\"shuffled_year_author\"].values\n",
    "data_cutoff = data[data<10]\n",
    "\n",
    "# Fit the data to a power-law distribution\n",
    "# fit = Fit(data+1)\n",
    "fit = Fit(data_cutoff+1)\n",
    "\n",
    "# Print the results\n",
    "print(fit.alpha)  # The power-law exponent\n",
    "print(fit.sigma)  # The standard error of the exponent\n",
    "print(fit.xmin)   # The lower bound of the power-law behavior\n",
    "print(fit.D)      # The Kolmogorov-Smirnov statistic\n",
    "print(fit.power_law.pdf(10))  # The probability density function at x=10"
   ]
  },
  {
   "cell_type": "code",
   "execution_count": 139,
   "metadata": {},
   "outputs": [],
   "source": [
    "year_diff.to_pickle(result_path+\"year_diff_single.pickle\")\n",
    "shuffled_year_author.to_pickle(result_path+\"shuffled_year_author.pickle\")"
   ]
  },
  {
   "cell_type": "code",
   "execution_count": 105,
   "metadata": {},
   "outputs": [
    {
     "name": "stdout",
     "output_type": "stream",
     "text": [
      "Calculating best minimal value for power law fit\n",
      "4.477011135671789%\n",
      "0.0019396112729131846\n",
      "7.0\n",
      "0.09248904371811006\n",
      "[0.10060284]\n"
     ]
    }
   ],
   "source": [
    "from powerlaw import Fit\n",
    "\n",
    "# Your data\n",
    "data = group[\"year\"].values\n",
    "data_cutoff = data[data<32]\n",
    "\n",
    "# Fit the data to a power-law distribution\n",
    "fit = Fit(data_cutoff+1)\n",
    "\n",
    "# Print the results\n",
    "print(fit.alpha)  # The power-law exponent\n",
    "print(fit.sigma)  # The standard error of the exponent\n",
    "print(fit.xmin)   # The lower bound of the power-law behavior\n",
    "print(fit.D)      # The Kolmogorov-Smirnov statistic\n",
    "print(fit.power_law.pdf(10))  # The probability density function at x=10\n",
    "\n",
    "# data[data<32]\n",
    "# Calculating best minimal value for power law fit\n",
    "# 4.709575229895229%\n",
    "# 0.0033165271087566006\n",
    "# 10.0\n",
    "# 0.07893690808343135\n",
    "# [0.37095752]\n",
    "\n",
    "# data[data<25]\n",
    "# Calculating best minimal value for power law fit\n",
    "# 4.477011135671789%\n",
    "# 0.0019396112729131846\n",
    "# 7.0\n",
    "# 0.09248904371811006\n",
    "# [0.10060284]"
   ]
  },
  {
   "cell_type": "code",
   "execution_count": 99,
   "metadata": {},
   "outputs": [
    {
     "data": {
      "text/plain": [
       "<Axes: >"
      ]
     },
     "execution_count": 99,
     "metadata": {},
     "output_type": "execute_result"
    },
    {
     "data": {
      "image/png": "[encoded data removed]",
      "text/plain": [
       "<Figure size 640x480 with 1 Axes>"
      ]
     },
     "metadata": {},
     "output_type": "display_data"
    }
   ],
   "source": [
    "from powerlaw import plot_pdf\n",
    "# Plot the data and the fitted distribution\n",
    "plot_pdf(data+1, linear_bins=True )#, powerlaw_fit=fit)\n",
    "\n",
    "plotter(group[\"year\"].values,\n",
    "        count='probability',\n",
    "        plot='power-law',\n",
    "        xlabel='Time between publications',\n",
    "        ylabel='Probability',\n",
    "        title='Time between publications',\n",
    "        save=True,\n",
    "        path=result_path+'time_between_publications.png'\n",
    ")"
   ]
  },
  {
   "cell_type": "code",
   "execution_count": 109,
   "metadata": {},
   "outputs": [
    {
     "name": "stderr",
     "output_type": "stream",
     "text": [
      "No artists with labels found to put in legend.  Note that artists whose label start with an underscore are ignored when legend() is called with no argument.\n"
     ]
    },
    {
     "data": {
      "text/plain": [
       "(array([6.58912046e-01, 2.38906178e-01, 5.15221605e-02, 2.07454977e-02,\n",
       "        1.06303523e-02, 6.15527213e-03, 3.80745090e-03, 2.53816900e-03,\n",
       "        1.70367880e-03, 1.21087109e-03, 9.06006071e-04, 6.20957779e-04,\n",
       "        4.79561643e-04, 3.65846084e-04, 2.91437667e-04, 2.32511196e-04,\n",
       "        1.69181455e-04, 1.37657586e-04, 1.11810027e-04, 9.32139661e-05,\n",
       "        7.63340924e-05, 6.34828281e-05, 5.37174788e-05, 4.57166603e-05,\n",
       "        3.84651633e-05, 3.18985298e-05, 2.70641985e-05, 2.26689855e-05,\n",
       "        1.98691019e-05, 1.64770128e-05, 1.37738158e-05, 1.15459948e-05,\n",
       "        9.70089162e-06, 8.17404863e-06, 6.52231874e-06, 3.23900202e-06,\n",
       "        2.36882237e-06, 1.92567533e-06, 1.41404193e-06, 1.34152696e-06,\n",
       "        1.18441119e-06, 8.74208256e-07, 7.73493019e-07, 6.60691954e-07,\n",
       "        4.83433137e-07, 3.14231539e-07, 6.44577516e-08, 3.22288758e-08,\n",
       "        1.61144379e-08, 3.22288758e-08]),\n",
       " array([ 1.5,  2.5,  3.5,  4.5,  5.5,  6.5,  7.5,  8.5,  9.5, 10.5, 11.5,\n",
       "        12.5, 13.5, 14.5, 15.5, 16.5, 17.5, 18.5, 19.5, 20.5, 21.5, 22.5,\n",
       "        23.5, 24.5, 25.5, 26.5, 27.5, 28.5, 29.5, 30.5, 31.5, 32.5, 33.5,\n",
       "        34.5, 35.5, 36.5, 37.5, 38.5, 39.5, 40.5, 41.5, 42.5, 43.5, 44.5,\n",
       "        45.5, 46.5, 47.5, 48.5, 49.5, 50.5, 51.5]))"
      ]
     },
     "execution_count": 109,
     "metadata": {},
     "output_type": "execute_result"
    },
    {
     "data": {
      "image/png": "[encoded data removed]",
      "text/plain": [
       "<Figure size 640x480 with 1 Axes>"
      ]
     },
     "metadata": {},
     "output_type": "display_data"
    }
   ],
   "source": [
    "from powerlaw import plot_pdf\n",
    "# Plot the data and the fitted distribution\n",
    "plot_pdf(data_cutoff+1, linear_bins=True)#, powerlaw_fit=fit)\n",
    "\n",
    "plotter(group[\"year\"].values+1,\n",
    "        count='probability',\n",
    "        plot='power-law',\n",
    "        xlabel='Time between publications',\n",
    "        ylabel='Probability',\n",
    "        title='Time between publications',\n",
    "        save=True,\n",
    "        path=result_path+'time_between_publications.png'\n",
    ")"
   ]
  },
  {
   "cell_type": "code",
   "execution_count": 110,
   "metadata": {},
   "outputs": [
    {
     "name": "stdout",
     "output_type": "stream",
     "text": [
      "1.9983522728573533\n",
      "6.33679842320187e-05\n",
      "1.0\n",
      "0.1384851979881413\n",
      "(array([ 1.,  2.,  3.,  4.,  5.,  6.,  8., 10., 12., 16., 20., 25., 33.]), array([6.58937827e-01, 2.38915526e-01, 5.15241765e-02, 2.07463094e-02,\n",
      "       1.06307682e-02, 4.98155643e-03, 2.12100689e-03, 1.05848000e-03,\n",
      "       4.39467988e-04, 1.62796436e-04, 6.64956068e-05, 2.27212393e-05]))\n"
     ]
    }
   ],
   "source": [
    "import numpy as np\n",
    "\n",
    "def exp_powerlaw_pdf(x, a, xmin):\n",
    "    return np.exp(-x) * np.power(x, -a) / np.sum(np.exp(-np.arange(xmin, np.inf)) * np.power(np.arange(xmin, np.inf), -a))\n",
    "\n",
    "data = group[\"year\"].values\n",
    "data_cutoff = data[data<32]\n",
    "# Fit the data to the custom distribution\n",
    "# fit = Fit(data+1, pdf=exp_powerlaw_pdf, xmin=1, discrete=True)\n",
    "fit = Fit(data_cutoff+1, pdf=exp_powerlaw_pdf, xmin=1, discrete=True)\n",
    "\n",
    "# Print the results\n",
    "print(fit.alpha)  # The power-law exponent\n",
    "print(fit.sigma)  # The standard error of the exponent\n",
    "print(fit.xmin)   # The lower bound of the power-law behavior\n",
    "print(fit.D)      # The Kolmogorov-Smirnov statistic\n",
    "print(fit.pdf(10))  # The probability density function at x=10\n",
    "\n",
    "# no cutoff\n",
    "# 1.998224856370066\n",
    "# 6.335865726294845e-05\n",
    "# 1.0\n",
    "# 0.13849193548545746\n",
    "# (array([ 1.,  2.,  3.,  4.,  5.,  6.,  8., 10., 12., 16., 20., 25., 32.,\n",
    "#        41., 53.]), array([6.58912046e-01, 2.38906178e-01, 5.15221605e-02, 2.07454977e-02,\n",
    "#        1.06303523e-02, 4.98136152e-03, 2.12092390e-03, 1.05843858e-03,\n",
    "#        4.39450793e-04, 1.62790066e-04, 6.64930051e-05, 2.43166868e-05,\n",
    "#        5.13692471e-06, 3.69960637e-07]))\n",
    "\n",
    "# with cutoff <32\n",
    "# 1.9983522728573533\n",
    "# 6.33679842320187e-05\n",
    "# 1.0\n",
    "# 0.1384851979881413\n",
    "# (array([ 1.,  2.,  3.,  4.,  5.,  6.,  8., 10., 12., 16., 20., 25., 33.]), array([6.58937827e-01, 2.38915526e-01, 5.15241765e-02, 2.07463094e-02,\n",
    "#        1.06307682e-02, 4.98155643e-03, 2.12100689e-03, 1.05848000e-03,\n",
    "#        4.39467988e-04, 1.62796436e-04, 6.64956068e-05, 2.27212393e-05])"
   ]
  },
  {
   "cell_type": "code",
   "execution_count": 111,
   "metadata": {},
   "outputs": [
    {
     "name": "stdout",
     "output_type": "stream",
     "text": [
      "1.9983522728573533\n",
      "6.33679842320187e-05\n",
      "1.0\n",
      "0.1384851979881413\n",
      "(array([ 1.,  2.,  3.,  4.,  5.,  6.,  8., 10., 12., 16., 20., 25., 33.]), array([6.58937827e-01, 2.38915526e-01, 5.15241765e-02, 2.07463094e-02,\n",
      "       1.06307682e-02, 4.98155643e-03, 2.12100689e-03, 1.05848000e-03,\n",
      "       4.39467988e-04, 1.62796436e-04, 6.64956068e-05, 2.27212393e-05]))\n"
     ]
    }
   ],
   "source": [
    "import numpy as np\n",
    "\n",
    "def exp_cutoff_powerlaw_pdf(x, a, xmin):\n",
    "    return np.exp(-1/x) * np.power(x, -a) / np.sum(np.exp(-1/np.arange(xmin, np.inf)) * np.power(np.arange(xmin, np.inf), -a))\n",
    "\n",
    "data = group[\"year\"].values\n",
    "data_cutoff = data[data<32]\n",
    "# Fit the data to the custom distribution\n",
    "# fit = Fit(data+1, pdf=exp_cutoff_powerlaw_pdf, xmin=1, discrete=True)\n",
    "fit = Fit(data_cutoff+1, pdf=exp_cutoff_powerlaw_pdf, xmin=1, discrete=True)\n",
    "\n",
    "# Print the results\n",
    "print(fit.alpha)  # The power-law exponent\n",
    "print(fit.sigma)  # The standard error of the exponent\n",
    "print(fit.xmin)   # The lower bound of the power-law behavior\n",
    "print(fit.D)      # The Kolmogorov-Smirnov statistic\n",
    "print(fit.pdf(10))  # The probability density function at x=10\n",
    "\n",
    "# without cutoff\n",
    "# 1.998224856370066\n",
    "# 6.335865726294845e-05\n",
    "# 1.0\n",
    "# 0.13849193548545746\n",
    "# (array([ 1.,  2.,  3.,  4.,  5.,  6.,  8., 10., 12., 16., 20., 25., 32.,\n",
    "#        41., 53.]), array([6.58912046e-01, 2.38906178e-01, 5.15221605e-02, 2.07454977e-02,\n",
    "#        1.06303523e-02, 4.98136152e-03, 2.12092390e-03, 1.05843858e-03,\n",
    "#        4.39450793e-04, 1.62790066e-04, 6.64930051e-05, 2.43166868e-05,\n",
    "#        5.13692471e-06, 3.69960637e-07]))\n",
    "\n",
    "# with cutoff <32\n",
    "# 1.9983522728573533\n",
    "# 6.33679842320187e-05\n",
    "# 1.0\n",
    "# 0.1384851979881413\n",
    "# (array([ 1.,  2.,  3.,  4.,  5.,  6.,  8., 10., 12., 16., 20., 25., 33.]), array([6.58937827e-01, 2.38915526e-01, 5.15241765e-02, 2.07463094e-02,\n",
    "#        1.06307682e-02, 4.98155643e-03, 2.12100689e-03, 1.05848000e-03,\n",
    "#        4.39467988e-04, 1.62796436e-04, 6.64956068e-05, 2.27212393e-05]))"
   ]
  },
  {
   "cell_type": "code",
   "execution_count": 115,
   "metadata": {},
   "outputs": [
    {
     "data": {
      "text/html": [
       "<div>\n",
       "<style scoped>\n",
       "    .dataframe tbody tr th:only-of-type {\n",
       "        vertical-align: middle;\n",
       "    }\n",
       "\n",
       "    .dataframe tbody tr th {\n",
       "        vertical-align: top;\n",
       "    }\n",
       "\n",
       "    .dataframe thead th {\n",
       "        text-align: right;\n",
       "    }\n",
       "</style>\n",
       "<table border=\"1\" class=\"dataframe\">\n",
       "  <thead>\n",
       "    <tr style=\"text-align: right;\">\n",
       "      <th></th>\n",
       "      <th>authid</th>\n",
       "      <th>year</th>\n",
       "      <th>seq</th>\n",
       "      <th>eid</th>\n",
       "      <th>source_authid</th>\n",
       "      <th>previous_work</th>\n",
       "    </tr>\n",
       "  </thead>\n",
       "  <tbody>\n",
       "    <tr>\n",
       "      <th>6</th>\n",
       "      <td>35559088600</td>\n",
       "      <td>7</td>\n",
       "      <td>1</td>\n",
       "      <td>77950575482</td>\n",
       "      <td>57221030048</td>\n",
       "      <td>3.142705e+09</td>\n",
       "    </tr>\n",
       "    <tr>\n",
       "      <th>5</th>\n",
       "      <td>6603235184</td>\n",
       "      <td>0</td>\n",
       "      <td>2</td>\n",
       "      <td>40819808</td>\n",
       "      <td>7402948720</td>\n",
       "      <td>4.618880e+05</td>\n",
       "    </tr>\n",
       "    <tr>\n",
       "      <th>7</th>\n",
       "      <td>6701475619</td>\n",
       "      <td>33</td>\n",
       "      <td>69</td>\n",
       "      <td>84974535000</td>\n",
       "      <td>7402948720</td>\n",
       "      <td>3.384616e+10</td>\n",
       "    </tr>\n",
       "    <tr>\n",
       "      <th>8</th>\n",
       "      <td>6701475619</td>\n",
       "      <td>1</td>\n",
       "      <td>2</td>\n",
       "      <td>85020222878</td>\n",
       "      <td>7402948720</td>\n",
       "      <td>8.497454e+10</td>\n",
       "    </tr>\n",
       "    <tr>\n",
       "      <th>9</th>\n",
       "      <td>6701475619</td>\n",
       "      <td>0</td>\n",
       "      <td>2</td>\n",
       "      <td>85033679162</td>\n",
       "      <td>7402948720</td>\n",
       "      <td>8.502022e+10</td>\n",
       "    </tr>\n",
       "    <tr>\n",
       "      <th>...</th>\n",
       "      <td>...</td>\n",
       "      <td>...</td>\n",
       "      <td>...</td>\n",
       "      <td>...</td>\n",
       "      <td>...</td>\n",
       "      <td>...</td>\n",
       "    </tr>\n",
       "    <tr>\n",
       "      <th>70</th>\n",
       "      <td>57225802515</td>\n",
       "      <td>1</td>\n",
       "      <td>2</td>\n",
       "      <td>85051415338</td>\n",
       "      <td>55081912000</td>\n",
       "      <td>8.502363e+10</td>\n",
       "    </tr>\n",
       "    <tr>\n",
       "      <th>71</th>\n",
       "      <td>57225802515</td>\n",
       "      <td>0</td>\n",
       "      <td>1</td>\n",
       "      <td>85040100930</td>\n",
       "      <td>55081912000</td>\n",
       "      <td>8.505142e+10</td>\n",
       "    </tr>\n",
       "    <tr>\n",
       "      <th>72</th>\n",
       "      <td>57225802515</td>\n",
       "      <td>1</td>\n",
       "      <td>1</td>\n",
       "      <td>85062042971</td>\n",
       "      <td>55081912000</td>\n",
       "      <td>8.504010e+10</td>\n",
       "    </tr>\n",
       "    <tr>\n",
       "      <th>73</th>\n",
       "      <td>57225802515</td>\n",
       "      <td>0</td>\n",
       "      <td>1</td>\n",
       "      <td>85062593490</td>\n",
       "      <td>55081912000</td>\n",
       "      <td>8.506204e+10</td>\n",
       "    </tr>\n",
       "    <tr>\n",
       "      <th>74</th>\n",
       "      <td>57225802515</td>\n",
       "      <td>2</td>\n",
       "      <td>1</td>\n",
       "      <td>85105949753</td>\n",
       "      <td>55081912000</td>\n",
       "      <td>8.506259e+10</td>\n",
       "    </tr>\n",
       "  </tbody>\n",
       "</table>\n",
       "<p>2750975 rows × 6 columns</p>\n",
       "</div>"
      ],
      "text/plain": [
       "         authid  year  seq          eid  source_authid  previous_work\n",
       "6   35559088600     7    1  77950575482    57221030048   3.142705e+09\n",
       "5    6603235184     0    2     40819808     7402948720   4.618880e+05\n",
       "7    6701475619    33   69  84974535000     7402948720   3.384616e+10\n",
       "8    6701475619     1    2  85020222878     7402948720   8.497454e+10\n",
       "9    6701475619     0    2  85033679162     7402948720   8.502022e+10\n",
       "..          ...   ...  ...          ...            ...            ...\n",
       "70  57225802515     1    2  85051415338    55081912000   8.502363e+10\n",
       "71  57225802515     0    1  85040100930    55081912000   8.505142e+10\n",
       "72  57225802515     1    1  85062042971    55081912000   8.504010e+10\n",
       "73  57225802515     0    1  85062593490    55081912000   8.506204e+10\n",
       "74  57225802515     2    1  85105949753    55081912000   8.506259e+10\n",
       "\n",
       "[2750975 rows x 6 columns]"
      ]
     },
     "execution_count": 115,
     "metadata": {},
     "output_type": "execute_result"
    }
   ],
   "source": [
    "res = pd.read_pickle(result_path + 'As_100k.pickle')\n",
    "res"
   ]
  },
  {
   "cell_type": "code",
   "execution_count": 117,
   "metadata": {},
   "outputs": [
    {
     "name": "stdout",
     "output_type": "stream",
     "text": [
      "Calculating best minimal value for power law fit\n",
      "6.805007556301697%\n",
      "0.10931461642797022\n",
      "18.0\n",
      "0.07147125819418121\n",
      "[]\n"
     ]
    }
   ],
   "source": [
    "# Your data\n",
    "# data = res[\"year\"].values\n",
    "data_cutoff = data[data<32]\n",
    "\n",
    "# Fit the data to a power-law distribution\n",
    "# fit = Fit(data+1)\n",
    "fit = Fit(data_cutoff+1)\n",
    "\n",
    "# Print the results\n",
    "print(fit.alpha)  # The power-law exponent\n",
    "print(fit.sigma)  # The standard error of the exponent\n",
    "print(fit.xmin)   # The lower bound of the power-law behavior\n",
    "print(fit.D)      # The Kolmogorov-Smirnov statistic\n",
    "print(fit.power_law.pdf(10))  # The probability density function at x=10\n",
    "\n",
    "# Calculating best minimal value for power law fit\n",
    "# 6.805007556301697% # maybe without %\n",
    "# 0.10931461642797022\n",
    "# 18.0\n",
    "# 0.07147125819418121\n",
    "# []"
   ]
  },
  {
   "cell_type": "code",
   "execution_count": null,
   "metadata": {},
   "outputs": [],
   "source": []
  },
  {
   "cell_type": "code",
   "execution_count": 118,
   "metadata": {},
   "outputs": [
    {
     "name": "stderr",
     "output_type": "stream",
     "text": [
      "No artists with labels found to put in legend.  Note that artists whose label start with an underscore are ignored when legend() is called with no argument.\n"
     ]
    },
    {
     "data": {
      "text/plain": [
       "(array([4.91928135e-01, 3.17027963e-01, 9.89667300e-02, 3.76680995e-02,\n",
       "        2.01801180e-02, 1.06845755e-02, 7.00369869e-03, 4.48059324e-03,\n",
       "        3.32972855e-03, 2.15450886e-03, 1.64886995e-03, 1.20975291e-03,\n",
       "        8.70600423e-04, 6.06330483e-04, 5.17998164e-04, 3.70414126e-04,\n",
       "        3.26793228e-04, 2.13742400e-04, 1.86842847e-04, 1.32316724e-04,\n",
       "        1.04326648e-04, 7.19744818e-05, 6.32503022e-05, 4.36208980e-05,\n",
       "        4.03493307e-05, 5.37991076e-05, 1.99929116e-05, 2.10834341e-05,\n",
       "        1.30862694e-05, 1.30862694e-05, 1.19957470e-05, 9.45119458e-06,\n",
       "        2.18104490e-06, 6.17962722e-06, 3.99858232e-06, 3.27156735e-06,\n",
       "        2.18104490e-06, 1.09052245e-06, 1.45402993e-06, 2.54455239e-06,\n",
       "        0.00000000e+00, 2.18104490e-06, 3.63507484e-07, 0.00000000e+00,\n",
       "        0.00000000e+00, 0.00000000e+00, 0.00000000e+00, 3.63507484e-07]),\n",
       " array([ 1.5,  2.5,  3.5,  4.5,  5.5,  6.5,  7.5,  8.5,  9.5, 10.5, 11.5,\n",
       "        12.5, 13.5, 14.5, 15.5, 16.5, 17.5, 18.5, 19.5, 20.5, 21.5, 22.5,\n",
       "        23.5, 24.5, 25.5, 26.5, 27.5, 28.5, 29.5, 30.5, 31.5, 32.5, 33.5,\n",
       "        34.5, 35.5, 36.5, 37.5, 38.5, 39.5, 40.5, 41.5, 42.5, 43.5, 44.5,\n",
       "        45.5, 46.5, 47.5, 48.5, 49.5]))"
      ]
     },
     "execution_count": 118,
     "metadata": {},
     "output_type": "execute_result"
    },
    {
     "data": {
      "image/png": "[encoded data removed]",
      "text/plain": [
       "<Figure size 640x480 with 1 Axes>"
      ]
     },
     "metadata": {},
     "output_type": "display_data"
    }
   ],
   "source": [
    "from powerlaw import plot_pdf\n",
    "# Plot the data and the fitted distribution\n",
    "plot_pdf(data+1, linear_bins=True)#, powerlaw_fit=fit)\n",
    "\n",
    "plotter(data+1,\n",
    "        count='probability',\n",
    "        plot='power-law',\n",
    "        xlabel='Time between publications',\n",
    "        ylabel='Probability',\n",
    "        title='Time between publications',\n",
    "        save=True,\n",
    "        path=result_path+'time_between_publications.png'\n",
    ")"
   ]
  },
  {
   "cell_type": "code",
   "execution_count": 4,
   "metadata": {
    "execution": {
     "iopub.execute_input": "2024-06-13T02:55:32.462854Z",
     "iopub.status.busy": "2024-06-13T02:55:32.462248Z",
     "iopub.status.idle": "2024-06-13T02:55:58.239053Z",
     "shell.execute_reply": "2024-06-13T02:55:58.237970Z",
     "shell.execute_reply.started": "2024-06-13T02:55:32.462806Z"
    }
   },
   "outputs": [],
   "source": [
    "d = \"As\"\n",
    "authors_valid= pd.read_pickle(result_path+f\"/authors_valid_{d}.pickle\")\n",
    "sample_authors = pd.read_pickle(result_path+f\"/sample_authors_{d}.pickle\")"
   ]
  },
  {
   "cell_type": "code",
   "execution_count": 5,
   "metadata": {
    "execution": {
     "iopub.execute_input": "2024-06-13T02:55:58.240235Z",
     "iopub.status.busy": "2024-06-13T02:55:58.240062Z",
     "iopub.status.idle": "2024-06-13T02:56:08.874452Z",
     "shell.execute_reply": "2024-06-13T02:56:08.873627Z",
     "shell.execute_reply.started": "2024-06-13T02:55:58.240221Z"
    }
   },
   "outputs": [],
   "source": [
    "year_df = pd.read_pickle(data_path+\"/paper_detail/year.pickle\")\n",
    "year_df = pd.DataFrame(year_df.sort_values())"
   ]
  },
  {
   "cell_type": "code",
   "execution_count": 6,
   "metadata": {
    "execution": {
     "iopub.execute_input": "2024-06-13T02:56:08.875327Z",
     "iopub.status.busy": "2024-06-13T02:56:08.875154Z",
     "iopub.status.idle": "2024-06-13T02:56:09.045274Z",
     "shell.execute_reply": "2024-06-13T02:56:09.044432Z",
     "shell.execute_reply.started": "2024-06-13T02:56:08.875313Z"
    }
   },
   "outputs": [],
   "source": [
    "year_df = year_df.rename(columns = {0:\"year\"})"
   ]
  },
  {
   "cell_type": "code",
   "execution_count": 63,
   "metadata": {
    "execution": {
     "iopub.execute_input": "2024-06-17T02:10:15.466813Z",
     "iopub.status.busy": "2024-06-17T02:10:15.466182Z",
     "iopub.status.idle": "2024-06-17T03:01:00.529584Z",
     "shell.execute_reply": "2024-06-17T03:01:00.528763Z",
     "shell.execute_reply.started": "2024-06-17T02:10:15.466759Z"
    }
   },
   "outputs": [
    {
     "name": "stderr",
     "output_type": "stream",
     "text": [
      "100%|███████████████████████████████████████| 1000/1000 [10:14<00:00,  1.63it/s]\n",
      "100%|███████████████████████████████████████| 1000/1000 [09:52<00:00,  1.69it/s]\n",
      "100%|███████████████████████████████████████| 1000/1000 [10:22<00:00,  1.61it/s]\n",
      "100%|███████████████████████████████████████| 1000/1000 [10:11<00:00,  1.64it/s]\n",
      " 12%|████▉                                   | 123/1000 [01:07<08:42,  1.68it/s]IOPub message rate exceeded.\n",
      "The Jupyter server will temporarily stop sending output\n",
      "to the client in order to avoid crashing it.\n",
      "To change this limit, set the config variable\n",
      "`--ServerApp.iopub_msg_rate_limit`.\n",
      "\n",
      "Current values:\n",
      "ServerApp.iopub_msg_rate_limit=1000.0 (msgs/sec)\n",
      "ServerApp.rate_limit_window=3.0 (secs)\n",
      "\n"
     ]
    }
   ],
   "source": [
    "def calculate_coauth_intervals(id,authors_valid,year_df):\n",
    "    works = authors_valid['eid'][authors_valid['authid']==id]\n",
    "    # works = works.sample(frac=0.5)\n",
    "    if works.shape[0]<3: return None\n",
    "    \n",
    "    selected_papers = year_df[year_df.index.isin(works.values)]\n",
    "    # print(selected_papers)\n",
    "    # np.random.shuffle(selected_papers.values)# null-year\n",
    "    selected_papers = selected_papers.sort_values(by='year')\n",
    "    # print(selected_papers)\n",
    "    selected_papers = selected_papers.assign(seq=list(range(0,len(selected_papers))))\n",
    "    coauthors = authors_valid[authors_valid['eid'].isin(works)].query(f\"authid!={id}\")\n",
    "    \n",
    "    df_seqyear = pd.merge(coauthors,selected_papers, how='left', on='eid').sort_values(by='seq')\n",
    "    df_seqyear_multi = df_seqyear.groupby(by='authid', group_keys=True).filter(lambda x: len(x) > 1)\n",
    "    if len(df_seqyear_multi) < 3: return None\n",
    "    df_seqyear_delta = df_seqyear_multi.groupby(by='authid', group_keys=True)[['year','seq']] \\\n",
    "    .apply(lambda x:  x - x.shift(1)) \\\n",
    "    .dropna().astype(int).reset_index()\n",
    "    \n",
    "    df_seqyear_delta = pd.merge(df_seqyear_delta, df_seqyear[\"eid\"], how=\"left\", left_on=\"level_1\", right_index=True).drop(columns=[\"level_1\"])\n",
    "    df_seqyear_delta[\"source_authid\"] = id\n",
    "    df_seqyear_delta[\"previous_work\"] = df_seqyear_delta.groupby(\"authid\").shift(1)[\"eid\"]\n",
    "\n",
    "    df_seqyear_delta = df_seqyear_delta.dropna()\n",
    "    return df_seqyear_delta\n",
    "\n",
    "num_iterations = 5\n",
    "batch_size = 1000\n",
    "\n",
    "# disciplines = partitions[\"name\"]\n",
    "# for d in disciplines:\n",
    "\n",
    "import tqdm\n",
    "suffix = \"_default_5k\"\n",
    "\n",
    "for i in range(num_iterations):\n",
    "    result = pd.DataFrame()\n",
    "    for j in tqdm.tqdm(range(batch_size)):\n",
    "        result = pd.concat([result, calculate_coauth_intervals(sample_authors[j+i*batch_size],authors_valid,year_df)],axis=0)\n",
    "    result.to_pickle(result_path+f\"/temp/{d}_{i:02}{suffix}.pickle\")\n",
    "\n",
    "auth = pd.concat([pd.read_pickle(result_path+f\"/temp/{d}_{i:02}{suffix}.pickle\") for i in range(0,num_iterations)],axis=0)\n",
    "auth.to_pickle(result_path+f\"/{d}{suffix}.pickle\")"
   ]
  },
  {
   "cell_type": "code",
   "execution_count": 62,
   "metadata": {
    "execution": {
     "iopub.execute_input": "2024-06-17T02:10:07.346828Z",
     "iopub.status.busy": "2024-06-17T02:10:07.346204Z",
     "iopub.status.idle": "2024-06-17T02:10:07.930411Z",
     "shell.execute_reply": "2024-06-17T02:10:07.929684Z",
     "shell.execute_reply.started": "2024-06-17T02:10:07.346776Z"
    }
   },
   "outputs": [
    {
     "name": "stderr",
     "output_type": "stream",
     "text": [
      "No artists with labels found to put in legend.  Note that artists whose label start with an underscore are ignored when legend() is called with no argument.\n",
      "/disks/qnap3/users/23-miura/coauth-interest/source/package/util.py:48: UserWarning: Attempt to set non-positive xlim on a log-scaled axis will be ignored.\n",
      "  plt.xlim(left, right)\n",
      "/disks/qnap3/users/23-miura/coauth-interest/source/package/util.py:49: UserWarning: Attempt to set non-positive ylim on a log-scaled axis will be ignored.\n",
      "  plt.ylim(bottom, top)\n"
     ]
    },
    {
     "name": "stdout",
     "output_type": "stream",
     "text": [
      "Calculating best minimal value for power law fit\n",
      "5.770206769788717%\n",
      "0.10027552107378299\n",
      "4.0\n",
      "0.15397461855845607\n",
      "[0.0060295]\n"
     ]
    },
    {
     "data": {
      "image/png": "[encoded data removed]",
      "text/plain": [
       "<Figure size 640x480 with 1 Axes>"
      ]
     },
     "metadata": {},
     "output_type": "display_data"
    }
   ],
   "source": [
    "from powerlaw import Fit\n",
    "\n",
    "plotter(auth[\"year\"])\n",
    "\n",
    "data = auth[\"year\"]\n",
    "data_cutoff = data[data<10]\n",
    "\n",
    "# Fit the data to a power-law distribution\n",
    "# fit = Fit(data+1)\n",
    "fit = Fit(data_cutoff+1)\n",
    "\n",
    "# Print the results\n",
    "print(fit.alpha)  # The power-law exponent\n",
    "print(fit.sigma)  # The standard error of the exponent\n",
    "print(fit.xmin)   # The lower bound of the power-law behavior\n",
    "print(fit.D)      # The Kolmogorov-Smirnov statistic\n",
    "print(fit.power_law.pdf(10))  # The probability density function at x=10\n"
   ]
  },
  {
   "cell_type": "code",
   "execution_count": 10,
   "metadata": {
    "execution": {
     "iopub.execute_input": "2024-06-13T03:54:07.931965Z",
     "iopub.status.busy": "2024-06-13T03:54:07.931345Z",
     "iopub.status.idle": "2024-06-13T03:54:08.260430Z",
     "shell.execute_reply": "2024-06-13T03:54:08.259202Z",
     "shell.execute_reply.started": "2024-06-13T03:54:07.931914Z"
    }
   },
   "outputs": [
    {
     "data": {
      "text/html": [
       "<div>\n",
       "<style scoped>\n",
       "    .dataframe tbody tr th:only-of-type {\n",
       "        vertical-align: middle;\n",
       "    }\n",
       "\n",
       "    .dataframe tbody tr th {\n",
       "        vertical-align: top;\n",
       "    }\n",
       "\n",
       "    .dataframe thead th {\n",
       "        text-align: right;\n",
       "    }\n",
       "</style>\n",
       "<table border=\"1\" class=\"dataframe\">\n",
       "  <thead>\n",
       "    <tr style=\"text-align: right;\">\n",
       "      <th></th>\n",
       "      <th>authid</th>\n",
       "      <th>year</th>\n",
       "      <th>seq</th>\n",
       "      <th>eid</th>\n",
       "      <th>source_authid</th>\n",
       "      <th>previous_work</th>\n",
       "    </tr>\n",
       "  </thead>\n",
       "  <tbody>\n",
       "    <tr>\n",
       "      <th>6</th>\n",
       "      <td>35559088600</td>\n",
       "      <td>7</td>\n",
       "      <td>1</td>\n",
       "      <td>77950575482</td>\n",
       "      <td>57221030048</td>\n",
       "      <td>3.142705e+09</td>\n",
       "    </tr>\n",
       "    <tr>\n",
       "      <th>5</th>\n",
       "      <td>6603235184</td>\n",
       "      <td>0</td>\n",
       "      <td>2</td>\n",
       "      <td>40819808</td>\n",
       "      <td>7402948720</td>\n",
       "      <td>4.618880e+05</td>\n",
       "    </tr>\n",
       "    <tr>\n",
       "      <th>7</th>\n",
       "      <td>6701475619</td>\n",
       "      <td>33</td>\n",
       "      <td>69</td>\n",
       "      <td>84974535000</td>\n",
       "      <td>7402948720</td>\n",
       "      <td>3.384616e+10</td>\n",
       "    </tr>\n",
       "    <tr>\n",
       "      <th>8</th>\n",
       "      <td>6701475619</td>\n",
       "      <td>1</td>\n",
       "      <td>2</td>\n",
       "      <td>85020222878</td>\n",
       "      <td>7402948720</td>\n",
       "      <td>8.497454e+10</td>\n",
       "    </tr>\n",
       "    <tr>\n",
       "      <th>9</th>\n",
       "      <td>6701475619</td>\n",
       "      <td>0</td>\n",
       "      <td>2</td>\n",
       "      <td>85033679162</td>\n",
       "      <td>7402948720</td>\n",
       "      <td>8.502022e+10</td>\n",
       "    </tr>\n",
       "    <tr>\n",
       "      <th>...</th>\n",
       "      <td>...</td>\n",
       "      <td>...</td>\n",
       "      <td>...</td>\n",
       "      <td>...</td>\n",
       "      <td>...</td>\n",
       "      <td>...</td>\n",
       "    </tr>\n",
       "    <tr>\n",
       "      <th>70</th>\n",
       "      <td>57225802515</td>\n",
       "      <td>1</td>\n",
       "      <td>2</td>\n",
       "      <td>85051415338</td>\n",
       "      <td>55081912000</td>\n",
       "      <td>8.502363e+10</td>\n",
       "    </tr>\n",
       "    <tr>\n",
       "      <th>71</th>\n",
       "      <td>57225802515</td>\n",
       "      <td>0</td>\n",
       "      <td>1</td>\n",
       "      <td>85040100930</td>\n",
       "      <td>55081912000</td>\n",
       "      <td>8.505142e+10</td>\n",
       "    </tr>\n",
       "    <tr>\n",
       "      <th>72</th>\n",
       "      <td>57225802515</td>\n",
       "      <td>1</td>\n",
       "      <td>1</td>\n",
       "      <td>85062042971</td>\n",
       "      <td>55081912000</td>\n",
       "      <td>8.504010e+10</td>\n",
       "    </tr>\n",
       "    <tr>\n",
       "      <th>73</th>\n",
       "      <td>57225802515</td>\n",
       "      <td>0</td>\n",
       "      <td>1</td>\n",
       "      <td>85062593490</td>\n",
       "      <td>55081912000</td>\n",
       "      <td>8.506204e+10</td>\n",
       "    </tr>\n",
       "    <tr>\n",
       "      <th>74</th>\n",
       "      <td>57225802515</td>\n",
       "      <td>2</td>\n",
       "      <td>1</td>\n",
       "      <td>85105949753</td>\n",
       "      <td>55081912000</td>\n",
       "      <td>8.506259e+10</td>\n",
       "    </tr>\n",
       "  </tbody>\n",
       "</table>\n",
       "<p>2750975 rows × 6 columns</p>\n",
       "</div>"
      ],
      "text/plain": [
       "         authid  year  seq          eid  source_authid  previous_work\n",
       "6   35559088600     7    1  77950575482    57221030048   3.142705e+09\n",
       "5    6603235184     0    2     40819808     7402948720   4.618880e+05\n",
       "7    6701475619    33   69  84974535000     7402948720   3.384616e+10\n",
       "8    6701475619     1    2  85020222878     7402948720   8.497454e+10\n",
       "9    6701475619     0    2  85033679162     7402948720   8.502022e+10\n",
       "..          ...   ...  ...          ...            ...            ...\n",
       "70  57225802515     1    2  85051415338    55081912000   8.502363e+10\n",
       "71  57225802515     0    1  85040100930    55081912000   8.505142e+10\n",
       "72  57225802515     1    1  85062042971    55081912000   8.504010e+10\n",
       "73  57225802515     0    1  85062593490    55081912000   8.506204e+10\n",
       "74  57225802515     2    1  85105949753    55081912000   8.506259e+10\n",
       "\n",
       "[2750975 rows x 6 columns]"
      ]
     },
     "execution_count": 10,
     "metadata": {},
     "output_type": "execute_result"
    }
   ],
   "source": [
    "result_As = pd.read_pickle(result_path +\"As_100k.pickle\")\n",
    "result_As"
   ]
  },
  {
   "cell_type": "code",
   "execution_count": 14,
   "metadata": {
    "execution": {
     "iopub.execute_input": "2024-06-13T03:55:47.592028Z",
     "iopub.status.busy": "2024-06-13T03:55:47.591421Z",
     "iopub.status.idle": "2024-06-13T03:55:48.313730Z",
     "shell.execute_reply": "2024-06-13T03:55:48.313018Z",
     "shell.execute_reply.started": "2024-06-13T03:55:47.591980Z"
    }
   },
   "outputs": [
    {
     "name": "stderr",
     "output_type": "stream",
     "text": [
      "No artists with labels found to put in legend.  Note that artists whose label start with an underscore are ignored when legend() is called with no argument.\n",
      "No artists with labels found to put in legend.  Note that artists whose label start with an underscore are ignored when legend() is called with no argument.\n"
     ]
    },
    {
     "data": {
      "text/plain": [
       "(array([3.36573600e-01, 2.88115773e-01, 1.38430054e-01, 7.17000439e-02,\n",
       "        4.53150124e-02, 3.04780003e-02, 2.46309019e-02, 1.49831896e-02,\n",
       "        1.33021488e-02, 1.03785996e-02, 5.84709838e-03, 2.77737173e-03,\n",
       "        5.11621108e-03, 9.50153486e-04, 2.33883935e-03, 1.31559713e-03,\n",
       "        8.03976027e-04, 1.16941968e-03, 1.02324222e-03, 1.38868586e-03,\n",
       "        5.84709838e-04, 2.92354919e-04, 6.57798567e-04, 2.92354919e-04,\n",
       "        3.65443649e-04, 1.46177459e-04, 1.46177459e-04, 1.46177459e-04,\n",
       "        1.46177459e-04, 7.30887297e-05, 0.00000000e+00, 0.00000000e+00,\n",
       "        0.00000000e+00, 0.00000000e+00, 0.00000000e+00, 0.00000000e+00,\n",
       "        0.00000000e+00, 0.00000000e+00]),\n",
       " array([ 0.5,  1.5,  2.5,  3.5,  4.5,  5.5,  6.5,  7.5,  8.5,  9.5, 10.5,\n",
       "        11.5, 12.5, 13.5, 14.5, 15.5, 16.5, 17.5, 18.5, 19.5, 20.5, 21.5,\n",
       "        22.5, 23.5, 24.5, 25.5, 26.5, 27.5, 28.5, 29.5, 30.5, 31.5, 32.5,\n",
       "        33.5, 34.5, 35.5, 36.5, 37.5, 38.5]))"
      ]
     },
     "execution_count": 14,
     "metadata": {},
     "output_type": "execute_result"
    },
    {
     "data": {
      "image/png": "[encoded data removed]",
      "text/plain": [
       "<Figure size 640x480 with 1 Axes>"
      ]
     },
     "metadata": {},
     "output_type": "display_data"
    }
   ],
   "source": [
    "plotter(auth[\"year\"],c=\"red\")\n",
    "plotter(result[\"year\"])"
   ]
  },
  {
   "cell_type": "code",
   "execution_count": 23,
   "metadata": {
    "execution": {
     "iopub.execute_input": "2024-06-13T04:05:28.092113Z",
     "iopub.status.busy": "2024-06-13T04:05:28.091507Z",
     "iopub.status.idle": "2024-06-13T04:05:28.105980Z",
     "shell.execute_reply": "2024-06-13T04:05:28.104583Z",
     "shell.execute_reply.started": "2024-06-13T04:05:28.092066Z"
    }
   },
   "outputs": [
    {
     "name": "stdout",
     "output_type": "stream",
     "text": [
      "158426\n",
      "2750975\n",
      "3049\n",
      "2425\n"
     ]
    }
   ],
   "source": [
    "print(auth.shape[0])\n",
    "print(result_As.shape[0])\n",
    "print(auth[\"source_authid\"].nunique())\n",
    "print(result_As[\"source_authid\"][:auth.shape[0]].nunique())"
   ]
  },
  {
   "cell_type": "code",
   "execution_count": 41,
   "metadata": {
    "execution": {
     "iopub.execute_input": "2024-06-13T04:11:02.257131Z",
     "iopub.status.busy": "2024-06-13T04:11:02.256497Z",
     "iopub.status.idle": "2024-06-13T04:11:02.297903Z",
     "shell.execute_reply": "2024-06-13T04:11:02.296809Z",
     "shell.execute_reply.started": "2024-06-13T04:11:02.257083Z"
    }
   },
   "outputs": [],
   "source": [
    "works_test = auth[\"source_authid\"].unique()\n",
    "authors = result_As[result_As[\"source_authid\"].isin(works_test)][\"source_authid\"].unique()"
   ]
  },
  {
   "cell_type": "code",
   "execution_count": 42,
   "metadata": {
    "execution": {
     "iopub.execute_input": "2024-06-13T04:11:14.241738Z",
     "iopub.status.busy": "2024-06-13T04:11:14.241136Z",
     "iopub.status.idle": "2024-06-13T04:11:14.253640Z",
     "shell.execute_reply": "2024-06-13T04:11:14.252199Z",
     "shell.execute_reply.started": "2024-06-13T04:11:14.241690Z"
    }
   },
   "outputs": [
    {
     "data": {
      "text/plain": [
       "array([57197435131, 35236910400,  8447975100, 24316204500, 57562266500,\n",
       "       56533192400,  7005214733,  7007022475, 24734300400, 26435778900,\n",
       "       57216011112, 57218835489, 55961503900,  6506675079, 24832900700,\n",
       "       56511445600,  7003551110, 57189093711,  7005737807, 36483668600,\n",
       "       55476304300, 54889607500,  8685859800, 57218943423,  7102018527,\n",
       "       54390803400,  6602569589, 57498080400,  6602607320,  7006518498,\n",
       "       35428153100,  6603795354,  6701408370,  6603902917, 56013248300,\n",
       "        7202462821,  6508056463, 16479086800,  6603242013, 35227481700,\n",
       "       16644262200, 55942612500, 23389399000,  6602488890,  6603875883,\n",
       "       57203256647,  7202596067,  6602319535, 16441426300,  7003793601,\n",
       "        7006553123, 36026604500, 55330157400,  7005127330, 57203923385,\n",
       "        7102231509,  8415891400,  7402055952, 57191868023, 23399213000,\n",
       "       36850431400, 56985257600,  7003953903,  7003541763,  9235640700,\n",
       "       57194648747, 22634072800,  6603725947, 55853674400, 36674773100,\n",
       "       55458394500, 14321924500, 57215826154, 57191108370, 14041189500,\n",
       "       57200228601,  6506984223,  6506988593,  6507007003,  6507007313,\n",
       "        6507013119,  6507013927,  6507050053,  6507067957,  6507082290,\n",
       "        6507101796,  6507112457,  6507199416,  6507238892,  6507279321,\n",
       "        6507317187,  6507334208,  6507336438,  6507369871,  6507376164,\n",
       "        6507376834,  6507380356,  6507389600,  6507390366,  6507412520,\n",
       "        6507457413,  6507472605,  6507481918,  6507484428,  6507497191,\n",
       "        6507519279,  6507524346,  6507543662,  6507550179,  6507614547,\n",
       "        6507652754,  6507654445,  6507662913,  6507731139,  6507791831,\n",
       "        6507809883,  6507831150,  6507841015,  6507869513,  6507932430,\n",
       "        6507934587,  6507937021,  6507937789,  6507958392,  6507961959,\n",
       "        6507981699,  6507992032,  6507997684,  6508001553,  6508005779,\n",
       "        6508030483,  6508031646,  6508033706,  6508051360,  6508078411,\n",
       "        6508139362,  6508139696,  6508141068,  6508148188,  6508148837,\n",
       "        6508150023,  6508167564,  6508171331,  6508176578,  6508228801,\n",
       "        6508265476,  6508277991,  6508297065,  6508301352,  6508322034,\n",
       "        6601911468,  6601939582,  6601960696,  6601968820,  6601974934,\n",
       "        6601977949,  6601987422,  6601989487,  6601994795,  6601998757,\n",
       "        6602002896,  6602078992,  6602080695,  6602091238,  6602097324,\n",
       "        6602103108,  6602140949,  6602144668,  6602155077,  6602157306,\n",
       "        6602182522,  6602186818,  6602199611,  6602209192,  6602212176,\n",
       "        6602233659,  6602235874,  6602254358,  6602262829,  6602271960,\n",
       "        6602282086,  6602284654,  6602308977,  6602317911,  6602323263,\n",
       "        6602343935,  6602353422,  6602362920,  6602368972,  6602396424,\n",
       "        6602400914,  6602411833,  6602412734,  6602423699,  6602432639,\n",
       "        6602448106,  6602466698,  6602479486,  6602487365,  6602492439,\n",
       "        6602493051,  6602511514,  6602517909,  6602517979,  6602520533,\n",
       "        6602527511,  6602533411,  6602540986,  6602543011,  6602552729,\n",
       "        6602566714,  6602576781,  6602590602,  6602597972,  6602599440,\n",
       "        6602615289,  6602620361,  6602629586,  6602631710,  6602637139,\n",
       "        6602637757,  6602638651,  6602657164,  6602665480,  6602676764,\n",
       "        6602678698,  6602679863,  6602685932,  6602686839,  6602696731,\n",
       "        6602702802,  6602703333,  6602746666,  6602748558,  6602754498,\n",
       "        6602762938,  6602775156,  6602779049,  6602784704,  6602796575,\n",
       "        6602803886,  6602809034,  6602814067,  6602831031,  6602834501,\n",
       "        6602836761,  6602847069,  6602847472,  6602847801,  6602860499,\n",
       "        6602861416,  6602895491,  6602902106,  6602904939,  6602905504,\n",
       "        6602911226,  6602912518,  6602912918,  6602913138,  6602926810,\n",
       "        6602926885,  6602933878,  6602939317,  6602942289,  6602943447,\n",
       "        6602952349,  6602959780,  6602964734,  6602994907,  6603002444,\n",
       "        6603008139,  6603024481,  6603029283,  6603033231,  6603040361,\n",
       "        6603043543,  6603044612,  6603051243,  6603059341,  6603064887,\n",
       "        6603069919,  6603089961,  6603090492,  6603099012,  6603101592,\n",
       "        6603119152,  6603119438,  6603127900,  6603128998,  6603136705,\n",
       "        6603147629,  6603148443,  6603156939,  6603160864,  6603177150,\n",
       "        6603187001,  6603196070,  6603200128,  6603201493,  6603204204,\n",
       "        6603208952,  6603209426,  6603215415,  6603216651,  6603219193,\n",
       "        6603228547,  6603232146,  6603233993,  6603237850,  6603241800,\n",
       "        6603243574,  6603262435,  6603262454,  6603262984,  6603267171,\n",
       "        6603277702,  6603310820,  6603313570,  6603323157,  6603348446,\n",
       "        6603351670,  6603364451,  6603364570,  6603367975,  6603387340,\n",
       "        6603389356,  6603392184,  6603404884,  6603406567,  6603412491,\n",
       "        6603419159,  6603420292,  6603422447,  6603427097,  6603432483,\n",
       "        6603441175,  6603465557,  6603470316,  6603488882,  6603494131,\n",
       "        6603501987,  6603504783,  6603539552,  6603542511,  6603549374,\n",
       "        6603550633,  6603560655,  6603584147,  6603592169,  6603601242,\n",
       "        6603601417,  6603610698,  6603618350,  6603632240,  6603634096,\n",
       "        6603635050,  6603649021,  6603650586,  6603661170,  6603664735,\n",
       "        6603668617,  6603673326,  6603686904,  6603699164,  6603743130,\n",
       "        6603750329,  6603753085,  6603753492,  6603766354,  6603784986,\n",
       "        6603787267,  6603792338,  6603820192,  6603834706,  6603840859,\n",
       "        6603848706,  6603852914,  6603877307,  6603906557,  6603915044,\n",
       "        6603916394,  6603923127,  6603923614,  6603933875,  6603943353,\n",
       "        6603951191,  6603960097,  6603978374,  6604013885,  6604021712,\n",
       "        6604048084,  6604048436,  6604066586,  6701309795,  6701331862,\n",
       "        6701347874,  6701389044,  6701396193,  6701399845,  6701402074,\n",
       "        6701423748,  6701443183,  6701453018,  6701455465,  6701457578,\n",
       "        6701462566,  6701467126,  6701490812,  6701493645,  6701494577,\n",
       "        6701499646,  6701500299,  6701533452,  6701535831,  6701536579,\n",
       "        6701554988,  6701565692,  6701571200,  6701596565,  6701602670,\n",
       "        6701610634,  6701611171,  6701615839,  6701616451,  6701623736,\n",
       "        6701624746,  6701631416,  6701631930,  6701667823,  6701670804,\n",
       "        6701674871,  6701678785,  6701697404,  6701713770,  6701744612,\n",
       "        6701769727,  6701776744,  6701802637,  6701806534,  6701821773,\n",
       "        6701824922,  6701834691,  6701843938,  6701852460,  6701859637,\n",
       "        6701862406,  6701864111,  6701882704,  6701923557,  7003270369,\n",
       "        7003324798,  7003325732,  7003338566,  7003343506,  7003344287,\n",
       "        7003348586,  7003356195,  7003357967,  7003358192,  7003359372,\n",
       "        7003371795,  7003381955,  7003390020,  7003390431, 16067678100,\n",
       "       57216599536, 10539264800,  7003420501, 55850450800, 39961874500])"
      ]
     },
     "execution_count": 42,
     "metadata": {},
     "output_type": "execute_result"
    }
   ],
   "source": [
    "authors"
   ]
  },
  {
   "cell_type": "code",
   "execution_count": 47,
   "metadata": {
    "execution": {
     "iopub.execute_input": "2024-06-13T04:23:38.982301Z",
     "iopub.status.busy": "2024-06-13T04:23:38.981598Z",
     "iopub.status.idle": "2024-06-13T04:23:40.353290Z",
     "shell.execute_reply": "2024-06-13T04:23:40.352475Z",
     "shell.execute_reply.started": "2024-06-13T04:23:38.982246Z"
    }
   },
   "outputs": [
    {
     "ename": "NameError",
     "evalue": "name 'diff_null_year' is not defined",
     "output_type": "error",
     "traceback": [
      "\u001b[0;31m---------------------------------------------------------------------------\u001b[0m",
      "\u001b[0;31mNameError\u001b[0m                                 Traceback (most recent call last)",
      "Cell \u001b[0;32mIn[47], line 6\u001b[0m\n\u001b[1;32m      4\u001b[0m   diff_null_years\u001b[38;5;241m.\u001b[39mappend(auth[auth[\u001b[38;5;124m\"\u001b[39m\u001b[38;5;124msource_authid\u001b[39m\u001b[38;5;124m\"\u001b[39m]\u001b[38;5;241m==\u001b[39ma][\u001b[38;5;124m\"\u001b[39m\u001b[38;5;124myear\u001b[39m\u001b[38;5;124m\"\u001b[39m]\u001b[38;5;241m.\u001b[39msum())\n\u001b[1;32m      5\u001b[0m   diff_year\u001b[38;5;241m.\u001b[39mappend(result_As[result_As[\u001b[38;5;124m\"\u001b[39m\u001b[38;5;124msource_authid\u001b[39m\u001b[38;5;124m\"\u001b[39m]\u001b[38;5;241m==\u001b[39ma][\u001b[38;5;124m\"\u001b[39m\u001b[38;5;124myear\u001b[39m\u001b[38;5;124m\"\u001b[39m]\u001b[38;5;241m.\u001b[39msum())\n\u001b[0;32m----> 6\u001b[0m plt\u001b[38;5;241m.\u001b[39mhist(\u001b[43mdiff_null_year\u001b[49m)\n",
      "\u001b[0;31mNameError\u001b[0m: name 'diff_null_year' is not defined"
     ]
    }
   ],
   "source": [
    "diff_null_years = []\n",
    "diff_year = []\n",
    "for a in authors:\n",
    "  diff_null_years.append(auth[auth[\"source_authid\"]==a][\"year\"].sum())\n",
    "  diff_years.append(result_As[result_As[\"source_authid\"]==a][\"year\"].sum())\n"
   ]
  },
  {
   "cell_type": "code",
   "execution_count": 55,
   "metadata": {
    "execution": {
     "iopub.execute_input": "2024-06-13T04:30:23.631943Z",
     "iopub.status.busy": "2024-06-13T04:30:23.631333Z",
     "iopub.status.idle": "2024-06-13T04:30:23.844297Z",
     "shell.execute_reply": "2024-06-13T04:30:23.843626Z",
     "shell.execute_reply.started": "2024-06-13T04:30:23.631892Z"
    }
   },
   "outputs": [
    {
     "data": {
      "text/plain": [
       "(array([88., 45., 37., 22., 20., 15., 12., 16., 10., 12., 11.,  7.,  4.,\n",
       "         7.,  5.,  6.,  5.,  4.,  4.,  6.,  4.,  4.,  3.,  4.,  0.,  2.,\n",
       "         1.,  3.,  2.,  2.,  3.,  0.,  3.,  0.,  3.,  4.,  2.,  2.,  4.,\n",
       "         2.,  3.,  1.,  1.,  2.,  4.,  1.,  0.,  0.,  4.]),\n",
       " array([  1.        ,   5.06122449,   9.12244898,  13.18367347,\n",
       "         17.24489796,  21.30612245,  25.36734694,  29.42857143,\n",
       "         33.48979592,  37.55102041,  41.6122449 ,  45.67346939,\n",
       "         49.73469388,  53.79591837,  57.85714286,  61.91836735,\n",
       "         65.97959184,  70.04081633,  74.10204082,  78.16326531,\n",
       "         82.2244898 ,  86.28571429,  90.34693878,  94.40816327,\n",
       "         98.46938776, 102.53061224, 106.59183673, 110.65306122,\n",
       "        114.71428571, 118.7755102 , 122.83673469, 126.89795918,\n",
       "        130.95918367, 135.02040816, 139.08163265, 143.14285714,\n",
       "        147.20408163, 151.26530612, 155.32653061, 159.3877551 ,\n",
       "        163.44897959, 167.51020408, 171.57142857, 175.63265306,\n",
       "        179.69387755, 183.75510204, 187.81632653, 191.87755102,\n",
       "        195.93877551, 200.        ]),\n",
       " <BarContainer object of 49 artists>)"
      ]
     },
     "execution_count": 55,
     "metadata": {},
     "output_type": "execute_result"
    },
    {
     "data": {
      "image/png": "[encoded data removed]",
      "text/plain": [
       "<Figure size 640x480 with 1 Axes>"
      ]
     },
     "metadata": {},
     "output_type": "display_data"
    }
   ],
   "source": [
    "\n",
    "plt.hist(diff_null_years,bins=np.linspace(1,200,50),alpha=0.5)\n",
    "plt.hist(diff_year,bins=np.linspace(1,200,50),alpha=0.5)\n"
   ]
  },
  {
   "cell_type": "code",
   "execution_count": 56,
   "metadata": {
    "execution": {
     "iopub.execute_input": "2024-06-13T05:54:53.931822Z",
     "iopub.status.busy": "2024-06-13T05:54:53.931237Z",
     "iopub.status.idle": "2024-06-13T05:54:53.940048Z",
     "shell.execute_reply": "2024-06-13T05:54:53.938913Z",
     "shell.execute_reply.started": "2024-06-13T05:54:53.931775Z"
    }
   },
   "outputs": [
    {
     "data": {
      "text/plain": [
       "5866880"
      ]
     },
     "execution_count": 56,
     "metadata": {},
     "output_type": "execute_result"
    }
   ],
   "source": [
    "authors_valid.shape[0]"
   ]
  }
 ],
 "metadata": {
  "kernelspec": {
   "display_name": "Python 3 (ipykernel)",
   "language": "python",
   "name": "python3"
  },
  "language_info": {
   "codemirror_mode": {
    "name": "ipython",
    "version": 3
   },
   "file_extension": ".py",
   "mimetype": "text/x-python",
   "name": "python",
   "nbconvert_exporter": "python",
   "pygments_lexer": "ipython3",
   "version": "3.10.12"
  }
 },
 "nbformat": 4,
 "nbformat_minor": 4
}
